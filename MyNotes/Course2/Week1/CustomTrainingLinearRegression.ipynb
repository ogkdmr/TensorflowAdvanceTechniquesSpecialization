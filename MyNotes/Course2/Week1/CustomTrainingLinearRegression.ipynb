{
  "nbformat": 4,
  "nbformat_minor": 0,
  "metadata": {
    "colab": {
      "name": "Untitled10.ipynb",
      "provenance": []
    },
    "kernelspec": {
      "name": "python3",
      "display_name": "Python 3"
    }
  },
  "cells": [
    {
      "cell_type": "code",
      "metadata": {
        "id": "DQ8QvJkFBZfs"
      },
      "source": [
        "import tensorflow as tf\r\n",
        "import numpy as np\r\n",
        "import matplotlib.pyplot as plt\r\n",
        "\r\n",
        "#Custom simple linear model.\r\n",
        "class Model():\r\n",
        "  def __init__(self):\r\n",
        "    self.w = tf.Variable(5.0)\r\n",
        "    self.b = tf.Variable(0.0)\r\n",
        "\r\n",
        "  def __call__(self, inputs):\r\n",
        "    return self.w * inputs + self.b\r\n",
        " \r\n",
        "\r\n",
        "model = Model()"
      ],
      "execution_count": 2,
      "outputs": []
    },
    {
      "cell_type": "code",
      "metadata": {
        "id": "3g8no_GgBrWN"
      },
      "source": [
        "W_TRUE = 3.0 \r\n",
        "B_TRUE = 4.0\r\n",
        "M = 1000 \r\n",
        "\r\n",
        "xs = np.random.randn(M)\r\n",
        "ys = xs * W_TRUE + B_TRUE"
      ],
      "execution_count": 3,
      "outputs": []
    },
    {
      "cell_type": "code",
      "metadata": {
        "id": "Tvk1XRrDGYL5"
      },
      "source": [
        "def plot_data(inputs, outputs, predicted_outputs):\r\n",
        "  real = plt.scatter(inputs, outputs, c=\"b\")\r\n",
        "  predicted = plt.scatter(inputs, predicted_outputs, c=\"r\")\r\n",
        "  plt.legend((real, predicted), (\"True\", \"Predicted\"))\r\n",
        "  plt.show()"
      ],
      "execution_count": 4,
      "outputs": []
    },
    {
      "cell_type": "code",
      "metadata": {
        "colab": {
          "base_uri": "https://localhost:8080/",
          "height": 284
        },
        "id": "zp-tnnFDGtc6",
        "outputId": "790601fb-fa35-4842-89ad-27a364ddd490"
      },
      "source": [
        "#initial prediction without training. \r\n",
        "plot_data(xs, ys, model(xs))\r\n",
        "\r\n",
        "print(loss_func(xs, ys))"
      ],
      "execution_count": 5,
      "outputs": [
        {
          "output_type": "display_data",
          "data": {
            "image/png": "[encoded data removed]",
            "text/plain": [
              "<Figure size 432x288 with 1 Axes>"
            ]
          },
          "metadata": {
            "tags": [],
            "needs_background": "light"
          }
        },
        {
          "output_type": "stream",
          "text": [
            "tf.Tensor(21.285149642181082, shape=(), dtype=float64)\n"
          ],
          "name": "stdout"
        }
      ]
    },
    {
      "cell_type": "code",
      "metadata": {
        "id": "9T5qC1pwB2UW"
      },
      "source": [
        "#MSE Loss.\r\n",
        "def loss_func(y_true, y_pred):\r\n",
        "  return tf.reduce_mean(tf.square(y_true - y_pred))"
      ],
      "execution_count": 6,
      "outputs": []
    },
    {
      "cell_type": "code",
      "metadata": {
        "id": "w7qQ63l2CXeq"
      },
      "source": [
        "#custom training loop.\r\n",
        "def train(model, xs, ys, lr):\r\n",
        "  with tf.GradientTape() as t:\r\n",
        "    #ff \r\n",
        "    y_pred = model(xs)\r\n",
        "    #loss \r\n",
        "    loss = loss_func(ys, y_pred)\r\n",
        "    #gradients. \r\n",
        "    dw, db = t.gradient(loss, [model.w, model.b])\r\n",
        "    #gradient update. \r\n",
        "    model.w.assign_sub(lr * dw)\r\n",
        "    model.b.assign_sub(lr * db)\r\n",
        "    print(f\"Loss at this epoch {loss}\")\r\n",
        "\r\n"
      ],
      "execution_count": 7,
      "outputs": []
    },
    {
      "cell_type": "code",
      "metadata": {
        "colab": {
          "base_uri": "https://localhost:8080/"
        },
        "id": "EI7pSfw-FOmJ",
        "outputId": "45873e6e-19db-4f99-d434-7b59504e2231"
      },
      "source": [
        "#train for 15 epochs. \r\n",
        "\r\n",
        "model = Model()\r\n",
        "\r\n",
        "for epoch in range(15):\r\n",
        "  train(model, xs, ys, 0.75)"
      ],
      "execution_count": 12,
      "outputs": [
        {
          "output_type": "stream",
          "text": [
            "Loss at this epoch 18.519662857055664\n",
            "Loss at this epoch 3.0699424743652344\n",
            "Loss at this epoch 0.674660325050354\n",
            "Loss at this epoch 0.19444559514522552\n",
            "Loss at this epoch 0.06574598699808121\n",
            "Loss at this epoch 0.023784933611750603\n",
            "Loss at this epoch 0.008817062713205814\n",
            "Loss at this epoch 0.003295605769380927\n",
            "Loss at this epoch 0.0012351820478215814\n",
            "Loss at this epoch 0.0004633654316421598\n",
            "Loss at this epoch 0.0001738769351504743\n",
            "Loss at this epoch 6.525310891447589e-05\n",
            "Loss at this epoch 2.448833402013406e-05\n",
            "Loss at this epoch 9.19132162380265e-06\n",
            "Loss at this epoch 3.4499055345804663e-06\n"
          ],
          "name": "stdout"
        }
      ]
    },
    {
      "cell_type": "code",
      "metadata": {
        "id": "2uGE3fapFryO",
        "colab": {
          "base_uri": "https://localhost:8080/",
          "height": 265
        },
        "outputId": "e7e8d5c5-7319-468c-85b9-eb8dad6a1867"
      },
      "source": [
        "plot_data(xs, ys, model(xs))"
      ],
      "execution_count": 13,
      "outputs": [
        {
          "output_type": "display_data",
          "data": {
            "image/png": "[encoded data removed]",
            "text/plain": [
              "<Figure size 432x288 with 1 Axes>"
            ]
          },
          "metadata": {
            "tags": [],
            "needs_background": "light"
          }
        }
      ]
    },
    {
      "cell_type": "code",
      "metadata": {
        "id": "7_Z9j5By2tLp"
      },
      "source": [
        ""
      ],
      "execution_count": null,
      "outputs": []
    }
  ]
}