{
  "nbformat": 4,
  "nbformat_minor": 0,
  "metadata": {
    "colab": {
      "name": "U-Net.ipynb",
      "provenance": []
    },
    "kernelspec": {
      "name": "python3",
      "display_name": "Python 3"
    }
  },
  "cells": [
    {
      "cell_type": "code",
      "metadata": {
        "id": "qEmd1RRw5KRS"
      },
      "source": [
        "import tensorflow as tf \r\n",
        "from tensorflow import keras\r\n",
        "from keras import layers\r\n",
        "import tensorflow_datasets as tfds "
      ],
      "execution_count": 1,
      "outputs": []
    },
    {
      "cell_type": "markdown",
      "metadata": {
        "id": "BmIgIQSgHoSV"
      },
      "source": [
        ""
      ]
    },
    {
      "cell_type": "code",
      "metadata": {
        "id": "2rRwI5js5nMb"
      },
      "source": [
        "def conv2d_block(inputs, n_filters, filter_size=3):\r\n",
        "  x = inputs \r\n",
        "  for i in range(2):\r\n",
        "    x = layers.Conv2D(filters = n_filters, kernel_size= filter_size, activation=\"relu\", padding=\"same\", kernel_initializer=\"he_normal\")(x)\r\n",
        "\r\n",
        "  return x\r\n",
        "\r\n",
        "\r\n",
        "def encoder_block(inputs, n_filters, filter_size, pool_size=(2,2), dropout_rate = 0.3): \r\n",
        "  f = conv2d_block(inputs, n_filters, filter_size)\r\n",
        "  p = layers.MaxPooling2D(pool_size = pool_size)(f)\r\n",
        "  p = layers.Dropout(dropout_rate)(p)\r\n",
        "  \r\n",
        "  return f, p\r\n",
        "\r\n",
        "\r\n",
        "def encoder(inputs):\r\n",
        "  f1, p1 = encoder_block(inputs, n_filters=64, filter_size=(3,3), pool_size=(2,2), dropout_rate=0.3)\r\n",
        "  f2, p2 = encoder_block(p1, n_filters = 128, filter_size=(3,3), pool_size=(2,2), dropout_rate=0.3)\r\n",
        "  f3, p3 = encoder_block(p2, n_filters = 256, filter_size=(3,3), pool_size=(2,2), dropout_rate=0.3)\r\n",
        "  f4, p4 = encoder_block(p3, n_filters = 512, filter_size=(3,3), pool_size=(2,2), dropout_rate=0.3)\r\n",
        "\r\n",
        "  #output of last pooling, output of all convolutions.\r\n",
        "  return p4, (f1, f2, f3, f4) "
      ],
      "execution_count": 7,
      "outputs": []
    },
    {
      "cell_type": "markdown",
      "metadata": {
        "id": "s-4KoWJh80d8"
      },
      "source": [
        "#Bottleneck"
      ]
    },
    {
      "cell_type": "code",
      "metadata": {
        "id": "hw-Q9xwG6g5X"
      },
      "source": [
        "def bottleneck(inputs):\r\n",
        "  x = conv2d_block(inputs, 1024, filter_size=(3,3))\r\n",
        "  return x "
      ],
      "execution_count": 8,
      "outputs": []
    },
    {
      "cell_type": "markdown",
      "metadata": {
        "id": "pUabvTAe9Hzs"
      },
      "source": [
        "#Decoder"
      ]
    },
    {
      "cell_type": "code",
      "metadata": {
        "id": "vPl_SVM69DpA"
      },
      "source": [
        "def decoder_block(inputs, conv_output, n_filters, kernel_size, strides, dropout=0.3):\r\n",
        "  '''\r\n",
        "  Args:\r\n",
        "    inputs (tensor) -- batch of input features\r\n",
        "    conv_output (tensor) -- features from an encoder block\r\n",
        "    n_filters (int) -- number of filters\r\n",
        "    kernel_size (int) -- kernel size\r\n",
        "    strides (int) -- strides for the deconvolution/upsampling\r\n",
        "    padding (string) -- \"same\" or \"valid\", tells if shape will be preserved by zero padding\r\n",
        "\r\n",
        "  Returns:\r\n",
        "    c (tensor) -- output features of the decoder block\r\n",
        "  '''\r\n",
        "  u = layers.Conv2DTranspose(filters=n_filters, kernel_size=kernel_size, strides=strides, padding=\"same\")(inputs)\r\n",
        "  c = layers.concatenate([u, conv_output])\r\n",
        "  c = layers.Dropout(dropout)(c)\r\n",
        "  c = conv2d_block(c, n_filters, kernel_size)\r\n",
        "  return c\r\n",
        "\r\n",
        "\r\n",
        "def decoder(inputs, convs, output_channels):\r\n",
        "  f1, f2, f3, f4 = convs \r\n",
        "\r\n",
        "  c6 = decoder_block(inputs, f4, n_filters=512, kernel_size=(3,3), strides=(2,2), dropout=0.3)\r\n",
        "  c7 = decoder_block(c6, f3, n_filters=256, kernel_size= (3,3), strides = (2,2), dropout=0.3)\r\n",
        "  c8 = decoder_block(c7, f2, n_filters=128, kernel_size=(3,3), strides=(2,2), dropout=0.3)\r\n",
        "  c9 = decoder_block(c8, f1, n_filters=64, kernel_size=(3,3), strides=(2,2), dropout=0.3)\r\n",
        "\r\n",
        "  outputs = layers.Conv2D(output_channels, (1,1), activation=\"softmax\")(c9) #output channels are the number of classes.\r\n",
        "  return outputs"
      ],
      "execution_count": 34,
      "outputs": []
    },
    {
      "cell_type": "markdown",
      "metadata": {
        "id": "yYPSCXWjCUSg"
      },
      "source": [
        "#Final Model"
      ]
    },
    {
      "cell_type": "code",
      "metadata": {
        "id": "aveewI-5-3CT"
      },
      "source": [
        "OUTPUT_CHANNELS = 3\r\n",
        "\r\n",
        "def unet():\r\n",
        "  '''\r\n",
        "  Defines the UNet by connecting the encoder, bottleneck and decoder.\r\n",
        "  '''\r\n",
        "\r\n",
        "  #specify the input shape \r\n",
        "  inputs = layers.Input(shape=(128,128,3,))\r\n",
        "\r\n",
        "  #feed the inputs to the encoder. \r\n",
        "  encoder_output, convs = encoder(inputs)\r\n",
        "\r\n",
        "  #feed the encoder output to the bottleneck\r\n",
        "  bottle_neck = bottleneck(encoder_output)\r\n",
        "\r\n",
        "  #feed the conv and bottleneck outputs to the decoder\r\n",
        "  outputs = decoder(bottle_neck, convs, output_channels=OUTPUT_CHANNELS)\r\n",
        "\r\n",
        "  #create the model. \r\n",
        "  model = tf.keras.Model(inputs = inputs, outputs=outputs)\r\n",
        "\r\n",
        "  return model"
      ],
      "execution_count": 35,
      "outputs": []
    },
    {
      "cell_type": "code",
      "metadata": {
        "colab": {
          "base_uri": "https://localhost:8080/"
        },
        "id": "aRhJzQGsC3Oi",
        "outputId": "e19396eb-d194-4288-cb4a-c5091f7e7944"
      },
      "source": [
        "#instantiate model \r\n",
        "model = unet()\r\n",
        "\r\n",
        "#see the resulting architecture\r\n",
        "model.summary()"
      ],
      "execution_count": 36,
      "outputs": [
        {
          "output_type": "stream",
          "text": [
            "Model: \"model_1\"\n",
            "__________________________________________________________________________________________________\n",
            "Layer (type)                    Output Shape         Param #     Connected to                     \n",
            "==================================================================================================\n",
            "input_12 (InputLayer)           [(None, 128, 128, 3) 0                                            \n",
            "__________________________________________________________________________________________________\n",
            "conv2d_1213 (Conv2D)            (None, 128, 128, 64) 1792        input_12[0][0]                   \n",
            "__________________________________________________________________________________________________\n",
            "conv2d_1214 (Conv2D)            (None, 128, 128, 64) 36928       conv2d_1213[0][0]                \n",
            "__________________________________________________________________________________________________\n",
            "max_pooling2d_44 (MaxPooling2D) (None, 64, 64, 64)   0           conv2d_1214[0][0]                \n",
            "__________________________________________________________________________________________________\n",
            "dropout_63 (Dropout)            (None, 64, 64, 64)   0           max_pooling2d_44[0][0]           \n",
            "__________________________________________________________________________________________________\n",
            "conv2d_1215 (Conv2D)            (None, 64, 64, 128)  73856       dropout_63[0][0]                 \n",
            "__________________________________________________________________________________________________\n",
            "conv2d_1216 (Conv2D)            (None, 64, 64, 128)  147584      conv2d_1215[0][0]                \n",
            "__________________________________________________________________________________________________\n",
            "max_pooling2d_45 (MaxPooling2D) (None, 32, 32, 128)  0           conv2d_1216[0][0]                \n",
            "__________________________________________________________________________________________________\n",
            "dropout_64 (Dropout)            (None, 32, 32, 128)  0           max_pooling2d_45[0][0]           \n",
            "__________________________________________________________________________________________________\n",
            "conv2d_1217 (Conv2D)            (None, 32, 32, 256)  295168      dropout_64[0][0]                 \n",
            "__________________________________________________________________________________________________\n",
            "conv2d_1218 (Conv2D)            (None, 32, 32, 256)  590080      conv2d_1217[0][0]                \n",
            "__________________________________________________________________________________________________\n",
            "max_pooling2d_46 (MaxPooling2D) (None, 16, 16, 256)  0           conv2d_1218[0][0]                \n",
            "__________________________________________________________________________________________________\n",
            "dropout_65 (Dropout)            (None, 16, 16, 256)  0           max_pooling2d_46[0][0]           \n",
            "__________________________________________________________________________________________________\n",
            "conv2d_1219 (Conv2D)            (None, 16, 16, 512)  1180160     dropout_65[0][0]                 \n",
            "__________________________________________________________________________________________________\n",
            "conv2d_1220 (Conv2D)            (None, 16, 16, 512)  2359808     conv2d_1219[0][0]                \n",
            "__________________________________________________________________________________________________\n",
            "max_pooling2d_47 (MaxPooling2D) (None, 8, 8, 512)    0           conv2d_1220[0][0]                \n",
            "__________________________________________________________________________________________________\n",
            "dropout_66 (Dropout)            (None, 8, 8, 512)    0           max_pooling2d_47[0][0]           \n",
            "__________________________________________________________________________________________________\n",
            "conv2d_1221 (Conv2D)            (None, 8, 8, 1024)   4719616     dropout_66[0][0]                 \n",
            "__________________________________________________________________________________________________\n",
            "conv2d_1222 (Conv2D)            (None, 8, 8, 1024)   9438208     conv2d_1221[0][0]                \n",
            "__________________________________________________________________________________________________\n",
            "conv2d_transpose_20 (Conv2DTran (None, 16, 16, 512)  4719104     conv2d_1222[0][0]                \n",
            "__________________________________________________________________________________________________\n",
            "concatenate_20 (Concatenate)    (None, 16, 16, 1024) 0           conv2d_transpose_20[0][0]        \n",
            "                                                                 conv2d_1220[0][0]                \n",
            "__________________________________________________________________________________________________\n",
            "dropout_67 (Dropout)            (None, 16, 16, 1024) 0           concatenate_20[0][0]             \n",
            "__________________________________________________________________________________________________\n",
            "conv2d_1223 (Conv2D)            (None, 16, 16, 512)  4719104     dropout_67[0][0]                 \n",
            "__________________________________________________________________________________________________\n",
            "conv2d_1224 (Conv2D)            (None, 16, 16, 512)  2359808     conv2d_1223[0][0]                \n",
            "__________________________________________________________________________________________________\n",
            "conv2d_transpose_21 (Conv2DTran (None, 32, 32, 256)  1179904     conv2d_1224[0][0]                \n",
            "__________________________________________________________________________________________________\n",
            "concatenate_21 (Concatenate)    (None, 32, 32, 512)  0           conv2d_transpose_21[0][0]        \n",
            "                                                                 conv2d_1218[0][0]                \n",
            "__________________________________________________________________________________________________\n",
            "dropout_68 (Dropout)            (None, 32, 32, 512)  0           concatenate_21[0][0]             \n",
            "__________________________________________________________________________________________________\n",
            "conv2d_1225 (Conv2D)            (None, 32, 32, 256)  1179904     dropout_68[0][0]                 \n",
            "__________________________________________________________________________________________________\n",
            "conv2d_1226 (Conv2D)            (None, 32, 32, 256)  590080      conv2d_1225[0][0]                \n",
            "__________________________________________________________________________________________________\n",
            "conv2d_transpose_22 (Conv2DTran (None, 64, 64, 128)  295040      conv2d_1226[0][0]                \n",
            "__________________________________________________________________________________________________\n",
            "concatenate_22 (Concatenate)    (None, 64, 64, 256)  0           conv2d_transpose_22[0][0]        \n",
            "                                                                 conv2d_1216[0][0]                \n",
            "__________________________________________________________________________________________________\n",
            "dropout_69 (Dropout)            (None, 64, 64, 256)  0           concatenate_22[0][0]             \n",
            "__________________________________________________________________________________________________\n",
            "conv2d_1227 (Conv2D)            (None, 64, 64, 128)  295040      dropout_69[0][0]                 \n",
            "__________________________________________________________________________________________________\n",
            "conv2d_1228 (Conv2D)            (None, 64, 64, 128)  147584      conv2d_1227[0][0]                \n",
            "__________________________________________________________________________________________________\n",
            "conv2d_transpose_23 (Conv2DTran (None, 128, 128, 64) 73792       conv2d_1228[0][0]                \n",
            "__________________________________________________________________________________________________\n",
            "concatenate_23 (Concatenate)    (None, 128, 128, 128 0           conv2d_transpose_23[0][0]        \n",
            "                                                                 conv2d_1214[0][0]                \n",
            "__________________________________________________________________________________________________\n",
            "dropout_70 (Dropout)            (None, 128, 128, 128 0           concatenate_23[0][0]             \n",
            "__________________________________________________________________________________________________\n",
            "conv2d_1229 (Conv2D)            (None, 128, 128, 64) 73792       dropout_70[0][0]                 \n",
            "__________________________________________________________________________________________________\n",
            "conv2d_1230 (Conv2D)            (None, 128, 128, 64) 36928       conv2d_1229[0][0]                \n",
            "__________________________________________________________________________________________________\n",
            "conv2d_1231 (Conv2D)            (None, 128, 128, 3)  195         conv2d_1230[0][0]                \n",
            "==================================================================================================\n",
            "Total params: 34,513,475\n",
            "Trainable params: 34,513,475\n",
            "Non-trainable params: 0\n",
            "__________________________________________________________________________________________________\n"
          ],
          "name": "stdout"
        }
      ]
    },
    {
      "cell_type": "code",
      "metadata": {
        "id": "fgomyoFCC_Fd"
      },
      "source": [
        ""
      ],
      "execution_count": null,
      "outputs": []
    }
  ]
}