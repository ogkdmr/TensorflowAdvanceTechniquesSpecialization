{
  "nbformat": 4,
  "nbformat_minor": 0,
  "metadata": {
    "colab": {
      "name": "SmallResnet.ipynb",
      "provenance": []
    },
    "kernelspec": {
      "name": "python3",
      "display_name": "Python 3"
    },
    "accelerator": "GPU"
  },
  "cells": [
    {
      "cell_type": "code",
      "metadata": {
        "id": "khrJsdBSYMNb"
      },
      "source": [
        "import tensorflow as tf \r\n",
        "from tensorflow.keras import layers as L \r\n",
        "import numpy as np \r\n",
        "import tensorflow_datasets as tfds"
      ],
      "execution_count": 1,
      "outputs": []
    },
    {
      "cell_type": "code",
      "metadata": {
        "id": "mmpz44h9YTLU"
      },
      "source": [
        "class IdentityBlock(tf.keras.models.Model):\r\n",
        "  def __init__(self, filters, filter_size, **kwargs):\r\n",
        "    super().__init__(**kwargs)\r\n",
        "    self.conv1 = L.Conv2D(filters, filter_size, activation=\"relu\", padding=\"same\")\r\n",
        "    self.bn = L.BatchNormalization()\r\n",
        "    self.act = L.Activation(\"relu\")\r\n",
        "    self.conv2 = L.Conv2D(filters, filter_size, activation=\"relu\", padding=\"same\")\r\n",
        "    self.add  = L.Add() \r\n",
        "\r\n",
        "  def call(self, inputs):\r\n",
        "      x  = self.conv1(inputs)\r\n",
        "      x = self.bn(x)\r\n",
        "      x = self.act(x)\r\n",
        "      x = self.conv1(x)\r\n",
        "      x = self.bn(x)\r\n",
        "      x = self.add([x, inputs])\r\n",
        "      x = self.act(x)\r\n",
        "      return x \r\n",
        "\r\n"
      ],
      "execution_count": 2,
      "outputs": []
    },
    {
      "cell_type": "code",
      "metadata": {
        "id": "_THRCCCJZSZC"
      },
      "source": [
        "class MyResNet(tf.keras.models.Model):\r\n",
        "  def __init__(self, num_classes, **kwargs): \r\n",
        "    super().__init__(**kwargs)\r\n",
        "    #Initial step in resnet before the identity blocks. \r\n",
        "    self.conv = L.Conv2D(64, 7, padding=\"same\")\r\n",
        "    self.act = L.Activation(\"relu\")\r\n",
        "    self.bn = L.BatchNormalization() \r\n",
        "    self.max_pooling = L.MaxPooling2D(3)\r\n",
        "\r\n",
        "    #identity blocks. \r\n",
        "    self.id1 = IdentityBlock(64, 3)\r\n",
        "    self.id2 = IdentityBlock(64, 3 )\r\n",
        "    \r\n",
        "    #final global avg and softmax \r\n",
        "    self.gb_avg_pool = L.GlobalAveragePooling2D()\r\n",
        "    self.out = L.Dense(num_classes, activation=\"softmax\")\r\n",
        "    \r\n",
        "  def call(self, inputs): \r\n",
        "      x = self.conv(inputs)\r\n",
        "      x = self.act(x)\r\n",
        "      x = self.bn(x)\r\n",
        "      x = self.max_pooling(x)\r\n",
        "      x = self.id1(x)\r\n",
        "      x = self.id2(x)\r\n",
        "      x = self.gb_avg_pool(x)\r\n",
        "      return self.out(x)\r\n",
        "\r\n"
      ],
      "execution_count": 3,
      "outputs": []
    },
    {
      "cell_type": "code",
      "metadata": {
        "id": "qtyfXCBqdMAp"
      },
      "source": [
        "class AccBreaker(tf.keras.callbacks.Callback):\r\n",
        "  def on_epoch_end(self, epoch, logs={}):\r\n",
        "    if(logs.get(\"acc\") >= .975):\r\n",
        "      self.model.stop_training=True\r\n",
        "      print(\"Reached 97.5% validation accuracy, early stopping!\")\r\n",
        "    "
      ],
      "execution_count": 4,
      "outputs": []
    },
    {
      "cell_type": "code",
      "metadata": {
        "colab": {
          "base_uri": "https://localhost:8080/"
        },
        "id": "5xRr8H0fandB",
        "outputId": "57780c4e-3b7b-4ee6-aa64-a1e52bf3455a"
      },
      "source": [
        "#takes in as argument the number of classes in the classification problem. \r\n",
        "my_resnet = MyResNet(10)\r\n",
        "my_resnet.compile(optimizer=\"adam\", loss = \"sparse_categorical_crossentropy\", metrics = \"acc\")\r\n",
        "\r\n",
        "#get the data from tfds\r\n",
        "(x_t, y_t), (x_v, y_v) = tf.keras.datasets.mnist.load_data() \r\n",
        "x_t, x_v = np.expand_dims((x_t/255.), axis=-1), np.expand_dims(x_v / 255., axis=-1)  \r\n",
        "\r\n",
        "#train the model. \r\n",
        "my_resnet.fit(x_t, y_t, validation_data= (x_v, y_v), epochs=20, callbacks=[AccBreaker()])"
      ],
      "execution_count": 5,
      "outputs": [
        {
          "output_type": "stream",
          "text": [
            "Downloading data from https://storage.googleapis.com/tensorflow/tf-keras-datasets/mnist.npz\n",
            "11493376/11490434 [==============================] - 0s 0us/step\n",
            "Epoch 1/20\n",
            "1875/1875 [==============================] - 15s 4ms/step - loss: 0.2883 - acc: 0.9293 - val_loss: 0.1355 - val_acc: 0.9619\n",
            "Epoch 2/20\n",
            "1875/1875 [==============================] - 7s 4ms/step - loss: 0.0481 - acc: 0.9863 - val_loss: 0.0749 - val_acc: 0.9770\n",
            "Reached 97.5% validation accuracy, early stopping!\n"
          ],
          "name": "stdout"
        },
        {
          "output_type": "execute_result",
          "data": {
            "text/plain": [
              "<tensorflow.python.keras.callbacks.History at 0x7f051c0ae2b0>"
            ]
          },
          "metadata": {
            "tags": []
          },
          "execution_count": 5
        }
      ]
    },
    {
      "cell_type": "code",
      "metadata": {
        "colab": {
          "base_uri": "https://localhost:8080/",
          "height": 77
        },
        "id": "Os93d0tbcvJM",
        "outputId": "1daa016c-72e7-45aa-d475-118c92ca6935"
      },
      "source": [
        "tf.keras.utils.plot_model(my_resnet, show_layer_names=True, show_shapes=True)"
      ],
      "execution_count": 8,
      "outputs": [
        {
          "output_type": "execute_result",
          "data": {
            "image/png": "[encoded data removed]",
            "text/plain": [
              "<IPython.core.display.Image object>"
            ]
          },
          "metadata": {
            "tags": []
          },
          "execution_count": 8
        }
      ]
    },
    {
      "cell_type": "code",
      "metadata": {
        "colab": {
          "base_uri": "https://localhost:8080/"
        },
        "id": "QROVsTe8l8__",
        "outputId": "96e60084-27d4-4280-dd3b-6a12125886b0"
      },
      "source": [
        "my_resnet.summary()"
      ],
      "execution_count": 9,
      "outputs": [
        {
          "output_type": "stream",
          "text": [
            "Model: \"my_res_net\"\n",
            "_________________________________________________________________\n",
            "Layer (type)                 Output Shape              Param #   \n",
            "=================================================================\n",
            "conv2d (Conv2D)              multiple                  3200      \n",
            "_________________________________________________________________\n",
            "activation (Activation)      multiple                  0         \n",
            "_________________________________________________________________\n",
            "batch_normalization (BatchNo multiple                  256       \n",
            "_________________________________________________________________\n",
            "max_pooling2d (MaxPooling2D) multiple                  0         \n",
            "_________________________________________________________________\n",
            "identity_block (IdentityBloc multiple                  37184     \n",
            "_________________________________________________________________\n",
            "identity_block_1 (IdentityBl multiple                  37184     \n",
            "_________________________________________________________________\n",
            "global_average_pooling2d (Gl multiple                  0         \n",
            "_________________________________________________________________\n",
            "dense (Dense)                multiple                  650       \n",
            "=================================================================\n",
            "Total params: 78,474\n",
            "Trainable params: 78,090\n",
            "Non-trainable params: 384\n",
            "_________________________________________________________________\n"
          ],
          "name": "stdout"
        }
      ]
    },
    {
      "cell_type": "code",
      "metadata": {
        "id": "tyDPTmuMmEJ2"
      },
      "source": [
        ""
      ],
      "execution_count": null,
      "outputs": []
    }
  ]
}