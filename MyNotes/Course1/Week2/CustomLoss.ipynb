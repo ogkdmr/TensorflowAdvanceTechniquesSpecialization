{
  "nbformat": 4,
  "nbformat_minor": 0,
  "metadata": {
    "colab": {
      "name": "CustomLoss.ipynb",
      "provenance": [],
      "collapsed_sections": []
    },
    "kernelspec": {
      "name": "python3",
      "display_name": "Python 3"
    }
  },
  "cells": [
    {
      "cell_type": "markdown",
      "metadata": {
        "id": "ZTPPbqDnRkmH"
      },
      "source": [
        "##Defining a custom loss function, namely the Huber Loss##\r\n"
      ]
    },
    {
      "cell_type": "code",
      "metadata": {
        "id": "QrgYfxPtRczA"
      },
      "source": [
        "import tensorflow as tf\r\n",
        "import numpy as np\r\n",
        "from tensorflow import keras\r\n",
        "\r\n",
        "\r\n",
        "xs = np.random.randn(100000)\r\n",
        "\r\n",
        "print(xs.shape, ys.shape)\r\n",
        "print(xs[:1])\r\n",
        "\r\n",
        "def huber_with_thshold(threshold):\r\n",
        "  def my_huber_loss(y_true, y_pred):\r\n",
        "    delta = threshold\r\n",
        "    error = y_true - y_pred \r\n",
        "    is_small_err = tf.abs(error) <= delta \r\n",
        "    small_loss = tf.square(error) / 2\r\n",
        "    big_loss = delta * (tf.abs(error) - (0.1 * delta))\r\n",
        "    return tf.where(is_small_err, small_loss, big_loss)\r\n",
        "  return my_huber_loss\r\n",
        "\r\n",
        "model = tf.keras.Sequential([keras.layers.Dense(1, input_shape=[1])])\r\n",
        "model.compile(loss= huber_with_thshold(0.5), optimizer=\"sgd\")\r\n",
        "\r\n",
        "model.fit(xs, ys, epochs = 100, batch_size=100)"
      ],
      "execution_count": null,
      "outputs": []
    },
    {
      "cell_type": "markdown",
      "metadata": {
        "id": "iQhI2pNFWrnn"
      },
      "source": [
        "##Loss Function as a Python Class\r\n",
        "\r\n",
        "> Indented block\r\n",
        "\r\n"
      ]
    },
    {
      "cell_type": "code",
      "metadata": {
        "id": "0iyLxCPbSnFs"
      },
      "source": [
        "class HuberLoss(tf.keras.losses.Loss):\r\n",
        "  threshold = 1 # default class variable.\r\n",
        "  def __init__(self, threshold):\r\n",
        "    super().__init__()\r\n",
        "    self.threshold = threshold \r\n",
        "\r\n",
        "  def call(self, y_true, y_pred): \r\n",
        "    error = y_true - y_pred\r\n",
        "    is_small = tf.abs(error) <= self.threshold \r\n",
        "    small_err = tf.square(error) / 2 \r\n",
        "    big_err = self.threshold* (tf.abs(error) - (0.5 * self.threshold))\r\n",
        "    return tf.where(is_small, small_err, big_err)\r\n",
        "    "
      ],
      "execution_count": 22,
      "outputs": []
    },
    {
      "cell_type": "markdown",
      "metadata": {
        "id": "YRfOOLrlX7nD"
      },
      "source": [
        "**Note: You need two things in a custom loss function. The constructor and a call method. Call method takes in y_true and y_pred parameters as required by the compile function. The class acts as a wrapper for every other hyperparameter that might influence the computation of the loss.**"
      ]
    },
    {
      "cell_type": "code",
      "metadata": {
        "colab": {
          "base_uri": "https://localhost:8080/"
        },
        "id": "VueXBMHQXdvA",
        "outputId": "5d4aa6db-ae43-4d59-dd57-86e911e54961"
      },
      "source": [
        "model.compile(loss = HuberLoss(threshold=0.5), optimizer=tf.keras.optimizers.SGD(lr=0.01))\r\n",
        "\r\n",
        "model.fit(xs, ys, epochs = 25, batch_size=1000)"
      ],
      "execution_count": 23,
      "outputs": [
        {
          "output_type": "stream",
          "text": [
            "Epoch 1/25\n",
            "100/100 [==============================] - 0s 1ms/step - loss: 0.6983\n",
            "Epoch 2/25\n",
            "100/100 [==============================] - 0s 990us/step - loss: 0.6996\n",
            "Epoch 3/25\n",
            "100/100 [==============================] - 0s 1ms/step - loss: 0.6996\n",
            "Epoch 4/25\n",
            "100/100 [==============================] - 0s 1ms/step - loss: 0.7042\n",
            "Epoch 5/25\n",
            "100/100 [==============================] - 0s 977us/step - loss: 0.6984\n",
            "Epoch 6/25\n",
            "100/100 [==============================] - 0s 982us/step - loss: 0.6963\n",
            "Epoch 7/25\n",
            "100/100 [==============================] - 0s 972us/step - loss: 0.7026\n",
            "Epoch 8/25\n",
            "100/100 [==============================] - 0s 982us/step - loss: 0.7026\n",
            "Epoch 9/25\n",
            "100/100 [==============================] - 0s 964us/step - loss: 0.6956\n",
            "Epoch 10/25\n",
            "100/100 [==============================] - 0s 1ms/step - loss: 0.7037\n",
            "Epoch 11/25\n",
            "100/100 [==============================] - 0s 912us/step - loss: 0.7066\n",
            "Epoch 12/25\n",
            "100/100 [==============================] - 0s 923us/step - loss: 0.7005\n",
            "Epoch 13/25\n",
            "100/100 [==============================] - 0s 955us/step - loss: 0.6983\n",
            "Epoch 14/25\n",
            "100/100 [==============================] - 0s 999us/step - loss: 0.6983\n",
            "Epoch 15/25\n",
            "100/100 [==============================] - 0s 1ms/step - loss: 0.7022\n",
            "Epoch 16/25\n",
            "100/100 [==============================] - 0s 1ms/step - loss: 0.7046\n",
            "Epoch 17/25\n",
            "100/100 [==============================] - 0s 1ms/step - loss: 0.7004\n",
            "Epoch 18/25\n",
            "100/100 [==============================] - 0s 1ms/step - loss: 0.7011\n",
            "Epoch 19/25\n",
            "100/100 [==============================] - 0s 1ms/step - loss: 0.7059\n",
            "Epoch 20/25\n",
            "100/100 [==============================] - 0s 1ms/step - loss: 0.7109\n",
            "Epoch 21/25\n",
            "100/100 [==============================] - 0s 1ms/step - loss: 0.7042\n",
            "Epoch 22/25\n",
            "100/100 [==============================] - 0s 1ms/step - loss: 0.7017\n",
            "Epoch 23/25\n",
            "100/100 [==============================] - 0s 1ms/step - loss: 0.7065\n",
            "Epoch 24/25\n",
            "100/100 [==============================] - 0s 1ms/step - loss: 0.7001\n",
            "Epoch 25/25\n",
            "100/100 [==============================] - 0s 999us/step - loss: 0.7037\n"
          ],
          "name": "stdout"
        },
        {
          "output_type": "execute_result",
          "data": {
            "text/plain": [
              "<tensorflow.python.keras.callbacks.History at 0x7fe95fdd84e0>"
            ]
          },
          "metadata": {
            "tags": []
          },
          "execution_count": 23
        }
      ]
    },
    {
      "cell_type": "code",
      "metadata": {
        "id": "cfN-keSJXnNw"
      },
      "source": [
        ""
      ],
      "execution_count": null,
      "outputs": []
    }
  ]
}