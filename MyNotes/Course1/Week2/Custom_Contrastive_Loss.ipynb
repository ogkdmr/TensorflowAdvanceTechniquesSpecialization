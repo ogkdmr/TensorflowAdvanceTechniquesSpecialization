{
  "nbformat": 4,
  "nbformat_minor": 0,
  "metadata": {
    "colab": {
      "name": "Contrastive Loss.ipynb",
      "provenance": []
    },
    "kernelspec": {
      "name": "python3",
      "display_name": "Python 3"
    },
    "accelerator": "GPU"
  },
  "cells": [
    {
      "cell_type": "markdown",
      "metadata": {
        "id": "x8lFbsqPgTkT"
      },
      "source": [
        "#Takeaways\r\n",
        "\r\n",
        "\r\n",
        "**Make sure to use tf.keras.backend functions in the cost function call method so that the operations are differentiable by Tensorflow. **\r\n",
        "\r\n"
      ]
    },
    {
      "cell_type": "code",
      "metadata": {
        "id": "G6F5tpXvLzGv"
      },
      "source": [
        "import tensorflow as tf\r\n",
        "from tensorflow.keras.models import Model\r\n",
        "from tensorflow.keras.layers import Input, Flatten, Dense, Dropout, Lambda\r\n",
        "from tensorflow.keras.optimizers import RMSprop\r\n",
        "from tensorflow.keras.datasets import fashion_mnist\r\n",
        "from tensorflow.python.keras.utils.vis_utils import plot_model\r\n",
        "from tensorflow.keras import backend as K\r\n",
        "\r\n",
        "import numpy as np\r\n",
        "import matplotlib.pyplot as plt\r\n",
        "from PIL import Image, ImageFont, ImageDraw\r\n",
        "import random\r\n",
        "\r\n",
        "\r\n",
        "def create_pairs(x, digit_indices):\r\n",
        "    '''Positive and negative pair creation.\r\n",
        "    Alternates between positive and negative pairs.\r\n",
        "    '''\r\n",
        "    pairs = []\r\n",
        "    labels = []\r\n",
        "    n = min([len(digit_indices[d]) for d in range(10)]) - 1 #number images from the least frequent label- 1\r\n",
        "    \r\n",
        "    for d in range(10):\r\n",
        "        for i in range(n):\r\n",
        "            z1, z2 = digit_indices[d][i], digit_indices[d][i + 1]\r\n",
        "            pairs += [[x[z1], x[z2]]]\r\n",
        "            inc = random.randrange(1, 10)\r\n",
        "            dn = (d + inc) % 10\r\n",
        "            z1, z2 = digit_indices[d][i], digit_indices[dn][i]\r\n",
        "            pairs += [[x[z1], x[z2]]]\r\n",
        "            labels += [1, 0]\r\n",
        "            \r\n",
        "    return np.array(pairs), np.array(labels)\r\n",
        "\r\n",
        "\r\n",
        "def create_pairs_on_set(images, labels):\r\n",
        "    \r\n",
        "    digit_indices = [np.where(labels == i)[0] for i in range(10)]\r\n",
        "    pairs, y = create_pairs(images, digit_indices)\r\n",
        "    y = y.astype('float32')\r\n",
        "    \r\n",
        "    return pairs, y\r\n",
        "\r\n",
        "\r\n",
        "def show_image(image):\r\n",
        "    plt.figure()\r\n",
        "    plt.imshow(image)\r\n",
        "    plt.colorbar()\r\n",
        "    plt.grid(False)\r\n",
        "    plt.show()\r\n",
        "\r\n",
        "def initialize_base_network():\r\n",
        "  input_layer = Input(shape=(28,28,))\r\n",
        "  flatten = Flatten()(input_layer)\r\n",
        "  dense1 = Dense(128, activation=\"selu\", kernel_initializer=\"lecun_normal\", name=\"dense1\")(flatten)\r\n",
        "  dout1 = Dropout(0.1, name=\"dout1\")(dense1)\r\n",
        "  dense2 = Dense(128, activation=\"selu\", kernel_initializer=\"lecun_normal\", name=\"dense2\")(dout1)\r\n",
        "  dout2 = Dropout(0.1, name=\"dout2\")(dense2)\r\n",
        "  dense3 = Dense(128, name=\"dense3\")(dout2)\r\n",
        "  return Model(inputs= input_layer, outputs = dense3)\r\n",
        "\r\n",
        "def euclidian_distance(vecs):\r\n",
        "  v1, v2 = vecs\r\n",
        "  return K.sqrt( K.maximum(  K.sum( K.square(v1-v2), axis=1, keepdims=True), K.epsilon() ) ) \r\n",
        "\r\n",
        "def eucl_dist_output_shape(shapes):\r\n",
        "  shape1, shape2 = shapes\r\n",
        "  return (shape1[0], 1)\r\n",
        "\r\n",
        "# load the dataset\r\n",
        "(train_images, train_labels), (test_images, test_labels) = fashion_mnist.load_data()\r\n",
        "\r\n",
        "# prepare train and test sets\r\n",
        "train_images = train_images.astype('float32')\r\n",
        "test_images = test_images.astype('float32')\r\n",
        "\r\n",
        "# normalize values\r\n",
        "train_images = train_images / 255.0\r\n",
        "test_images = test_images / 255.0\r\n",
        "\r\n",
        "# create pairs on train and test sets\r\n",
        "tr_pairs, tr_y = create_pairs_on_set(train_images, train_labels)\r\n",
        "ts_pairs, ts_y = create_pairs_on_set(test_images, test_labels)\r\n",
        "\r\n",
        "base_network = initialize_base_network()\r\n",
        "plot_model(base_network, show_shapes=True, show_layer_names=True, to_file='base-model.png')\r\n",
        "\r\n",
        "#Create the left input to the Siamese network. \r\n",
        "input_left = Input(shape=(28,28), name=\"left_input\")\r\n",
        "vect_output_left = base_network(input_left)\r\n",
        "\r\n",
        "input_right = Input(shape=(28,28), name=\"right_input\")\r\n",
        "vect_output_right = base_network(input_right)\r\n",
        "\r\n",
        "output = Lambda(euclidian_distance, name=\"output_layer\", output_shape = eucl_dist_output_shape)([vect_output_left, vect_output_right])\r\n",
        "\r\n",
        "model = Model(inputs = [input_left, input_right], outputs = output)\r\n",
        "\r\n",
        "plot_model(model, show_shapes=True, show_layer_names=True, to_file=\"outer_model.png\")\r\n",
        "\r\n",
        "\r\n",
        "rms = RMSprop(momentum=0.9)"
      ],
      "execution_count": 17,
      "outputs": []
    },
    {
      "cell_type": "code",
      "metadata": {
        "id": "TPxTdjyqcXpO"
      },
      "source": [
        "class ContrastiveLoss(tf.keras.losses.Loss):\r\n",
        "  margin = 0.5\r\n",
        "  def __init__(self, margin):\r\n",
        "    super().__init__()\r\n",
        "    self.margin = margin \r\n",
        "\r\n",
        "  def call(self, y_true, y_pred):\r\n",
        "    return K.mean(y_true * K.square(y_pred) + (1-y_pred) * K.square(K.maximum(self.margin-y_pred, 0)))  \r\n"
      ],
      "execution_count": 18,
      "outputs": []
    },
    {
      "cell_type": "code",
      "metadata": {
        "colab": {
          "base_uri": "https://localhost:8080/"
        },
        "id": "PtjSCdOlfXhX",
        "outputId": "5b87038f-d8b9-46f4-a8f4-84f47fe7987a"
      },
      "source": [
        "model.compile(loss= ContrastiveLoss(margin=1), optimizer=rms)\r\n",
        "history = model.fit([tr_pairs[:,0], tr_pairs[:,1]], tr_y, epochs=20, batch_size=128, validation_data=([ts_pairs[:,0], ts_pairs[:,1]], ts_y))"
      ],
      "execution_count": 19,
      "outputs": [
        {
          "output_type": "stream",
          "text": [
            "Epoch 1/20\n",
            "938/938 [==============================] - 3s 3ms/step - loss: 1.6136 - val_loss: 0.3363\n",
            "Epoch 2/20\n",
            "938/938 [==============================] - 3s 3ms/step - loss: 0.2423 - val_loss: 0.3527\n",
            "Epoch 3/20\n",
            "938/938 [==============================] - 3s 3ms/step - loss: 0.2416 - val_loss: 0.3562\n",
            "Epoch 4/20\n",
            "938/938 [==============================] - 3s 3ms/step - loss: 0.2422 - val_loss: 0.4080\n",
            "Epoch 5/20\n",
            "938/938 [==============================] - 3s 3ms/step - loss: 0.2419 - val_loss: 0.3503\n",
            "Epoch 6/20\n",
            "938/938 [==============================] - 3s 3ms/step - loss: 0.2412 - val_loss: 0.3576\n",
            "Epoch 7/20\n",
            "938/938 [==============================] - 3s 3ms/step - loss: 0.2411 - val_loss: 0.3327\n",
            "Epoch 8/20\n",
            "938/938 [==============================] - 3s 3ms/step - loss: 0.2409 - val_loss: 0.4046\n",
            "Epoch 9/20\n",
            "938/938 [==============================] - 3s 3ms/step - loss: 0.2413 - val_loss: 0.3720\n",
            "Epoch 10/20\n",
            "938/938 [==============================] - 3s 3ms/step - loss: 0.2404 - val_loss: 0.3384\n",
            "Epoch 11/20\n",
            "938/938 [==============================] - 3s 3ms/step - loss: 0.2405 - val_loss: 0.3165\n",
            "Epoch 12/20\n",
            "938/938 [==============================] - 3s 3ms/step - loss: 0.2419 - val_loss: 0.3511\n",
            "Epoch 13/20\n",
            "938/938 [==============================] - 3s 3ms/step - loss: 0.2415 - val_loss: 0.3374\n",
            "Epoch 14/20\n",
            "938/938 [==============================] - 3s 3ms/step - loss: 0.2404 - val_loss: 0.3685\n",
            "Epoch 15/20\n",
            "938/938 [==============================] - 3s 3ms/step - loss: 0.2399 - val_loss: 0.3652\n",
            "Epoch 16/20\n",
            "938/938 [==============================] - 3s 3ms/step - loss: 0.2396 - val_loss: 0.3186\n",
            "Epoch 17/20\n",
            "938/938 [==============================] - 3s 3ms/step - loss: 0.2414 - val_loss: 0.3462\n",
            "Epoch 18/20\n",
            "938/938 [==============================] - 3s 3ms/step - loss: 0.2396 - val_loss: 0.3727\n",
            "Epoch 19/20\n",
            "938/938 [==============================] - 3s 3ms/step - loss: 0.2418 - val_loss: 0.3579\n",
            "Epoch 20/20\n",
            "938/938 [==============================] - 3s 3ms/step - loss: 0.2411 - val_loss: 0.3276\n"
          ],
          "name": "stdout"
        }
      ]
    },
    {
      "cell_type": "code",
      "metadata": {
        "id": "0w8xl9XOfrF8"
      },
      "source": [
        ""
      ],
      "execution_count": null,
      "outputs": []
    }
  ]
}