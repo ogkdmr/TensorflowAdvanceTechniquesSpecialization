{
  "nbformat": 4,
  "nbformat_minor": 0,
  "metadata": {
    "colab": {
      "name": "FashionMnistAutoEncoder.ipynb",
      "provenance": []
    },
    "kernelspec": {
      "name": "python3",
      "display_name": "Python 3"
    },
    "accelerator": "GPU"
  },
  "cells": [
    {
      "cell_type": "markdown",
      "metadata": {
        "id": "s-IydJrocfxr"
      },
      "source": [
        "#MNIST AUTOENCODER\r\n",
        "\r\n",
        "- encoder embeds 784-d input (28x28 images) onto 128-d latent space which is rendered into 16x8 images.\r\n",
        "\r\n",
        "- decoder takes in 128-d encoder output and maps it back onto 784-d space. \r\n",
        "\r\n",
        "- both the original image, latent space representation, and the final decoder output are visualized."
      ]
    },
    {
      "cell_type": "code",
      "metadata": {
        "id": "v5d3x_haaVSV"
      },
      "source": [
        "import tensorflow as tf\r\n",
        "import numpy as np\r\n",
        "import matplotlib.pyplot as plt "
      ],
      "execution_count": 33,
      "outputs": []
    },
    {
      "cell_type": "code",
      "metadata": {
        "id": "aJt6QHXdav_7"
      },
      "source": [
        "(X_train, Y_train), (X_test, Y_test) = tf.keras.datasets.fashion_mnist.load_data()"
      ],
      "execution_count": 34,
      "outputs": []
    },
    {
      "cell_type": "code",
      "metadata": {
        "colab": {
          "base_uri": "https://localhost:8080/"
        },
        "id": "-G4nYP64a4eA",
        "outputId": "632d3f25-c269-4e27-b0cc-7d3d6fb9315c"
      },
      "source": [
        "X_train, X_test = X_train / 255. , X_test/255. \r\n",
        "\r\n",
        "print(X_train.shape)\r\n",
        "\r\n",
        "X_train = X_train.reshape(-1, X_train.shape[1] * X_train.shape[2])\r\n",
        "X_test = X_test.reshape(-1, X_test.shape[1] * X_test.shape[2])\r\n",
        "\r\n",
        "print(X_train.shape)\r\n",
        "print(X_test.shape)"
      ],
      "execution_count": 35,
      "outputs": [
        {
          "output_type": "stream",
          "text": [
            "(60000, 28, 28)\n",
            "(60000, 784)\n",
            "(10000, 784)\n"
          ],
          "name": "stdout"
        }
      ]
    },
    {
      "cell_type": "code",
      "metadata": {
        "id": "U8j1BbDhbT5v"
      },
      "source": [
        "encoder = tf.keras.Sequential([tf.keras.layers.Dense(128, activation=\"relu\", input_shape=(784,))])\r\n",
        "decoder = tf.keras.Sequential([tf.keras.layers.Dense(784, activation=\"relu\", input_shape=(128,))])\r\n",
        "\r\n",
        "autoencoder = tf.keras.Sequential([encoder, decoder])\r\n",
        "autoencoder.compile(loss=\"mse\", optimizer=\"sgd\", metrics = \"mse\")"
      ],
      "execution_count": 36,
      "outputs": []
    },
    {
      "cell_type": "code",
      "metadata": {
        "colab": {
          "base_uri": "https://localhost:8080/"
        },
        "id": "L36l_okYb9Z-",
        "outputId": "2e47c0f2-8252-422d-bb11-8c352b873b92"
      },
      "source": [
        "autoencoder.fit(X_train, X_train, epochs=50)"
      ],
      "execution_count": 37,
      "outputs": [
        {
          "output_type": "stream",
          "text": [
            "Epoch 1/50\n",
            "1875/1875 [==============================] - 4s 2ms/step - loss: 0.1583 - mse: 0.1583\n",
            "Epoch 2/50\n",
            "1875/1875 [==============================] - 4s 2ms/step - loss: 0.1106 - mse: 0.1106\n",
            "Epoch 3/50\n",
            "1875/1875 [==============================] - 4s 2ms/step - loss: 0.1008 - mse: 0.1008\n",
            "Epoch 4/50\n",
            "1875/1875 [==============================] - 4s 2ms/step - loss: 0.0957 - mse: 0.0957\n",
            "Epoch 5/50\n",
            "1875/1875 [==============================] - 4s 2ms/step - loss: 0.0906 - mse: 0.0906\n",
            "Epoch 6/50\n",
            "1875/1875 [==============================] - 4s 2ms/step - loss: 0.0864 - mse: 0.0864\n",
            "Epoch 7/50\n",
            "1875/1875 [==============================] - 4s 2ms/step - loss: 0.0834 - mse: 0.0834\n",
            "Epoch 8/50\n",
            "1875/1875 [==============================] - 4s 2ms/step - loss: 0.0804 - mse: 0.0804\n",
            "Epoch 9/50\n",
            "1875/1875 [==============================] - 4s 2ms/step - loss: 0.0783 - mse: 0.0783\n",
            "Epoch 10/50\n",
            "1875/1875 [==============================] - 4s 2ms/step - loss: 0.0763 - mse: 0.0763\n",
            "Epoch 11/50\n",
            "1875/1875 [==============================] - 4s 2ms/step - loss: 0.0741 - mse: 0.0741\n",
            "Epoch 12/50\n",
            "1875/1875 [==============================] - 4s 2ms/step - loss: 0.0723 - mse: 0.0723\n",
            "Epoch 13/50\n",
            "1875/1875 [==============================] - 4s 2ms/step - loss: 0.0706 - mse: 0.0706\n",
            "Epoch 14/50\n",
            "1875/1875 [==============================] - 4s 2ms/step - loss: 0.0693 - mse: 0.0693\n",
            "Epoch 15/50\n",
            "1875/1875 [==============================] - 4s 2ms/step - loss: 0.0683 - mse: 0.0683\n",
            "Epoch 16/50\n",
            "1875/1875 [==============================] - 4s 2ms/step - loss: 0.0673 - mse: 0.0673\n",
            "Epoch 17/50\n",
            "1875/1875 [==============================] - 4s 2ms/step - loss: 0.0661 - mse: 0.0661\n",
            "Epoch 18/50\n",
            "1875/1875 [==============================] - 4s 2ms/step - loss: 0.0651 - mse: 0.0651\n",
            "Epoch 19/50\n",
            "1875/1875 [==============================] - 4s 2ms/step - loss: 0.0641 - mse: 0.0641\n",
            "Epoch 20/50\n",
            "1875/1875 [==============================] - 4s 2ms/step - loss: 0.0628 - mse: 0.0628\n",
            "Epoch 21/50\n",
            "1875/1875 [==============================] - 4s 2ms/step - loss: 0.0616 - mse: 0.0616\n",
            "Epoch 22/50\n",
            "1875/1875 [==============================] - 4s 2ms/step - loss: 0.0609 - mse: 0.0609\n",
            "Epoch 23/50\n",
            "1875/1875 [==============================] - 4s 2ms/step - loss: 0.0602 - mse: 0.0602\n",
            "Epoch 24/50\n",
            "1875/1875 [==============================] - 4s 2ms/step - loss: 0.0592 - mse: 0.0592\n",
            "Epoch 25/50\n",
            "1875/1875 [==============================] - 4s 2ms/step - loss: 0.0585 - mse: 0.0585\n",
            "Epoch 26/50\n",
            "1875/1875 [==============================] - 4s 2ms/step - loss: 0.0577 - mse: 0.0577\n",
            "Epoch 27/50\n",
            "1875/1875 [==============================] - 4s 2ms/step - loss: 0.0574 - mse: 0.0574\n",
            "Epoch 28/50\n",
            "1875/1875 [==============================] - 4s 2ms/step - loss: 0.0566 - mse: 0.0566\n",
            "Epoch 29/50\n",
            "1875/1875 [==============================] - 4s 2ms/step - loss: 0.0563 - mse: 0.0563\n",
            "Epoch 30/50\n",
            "1875/1875 [==============================] - 4s 2ms/step - loss: 0.0557 - mse: 0.0557\n",
            "Epoch 31/50\n",
            "1875/1875 [==============================] - 4s 2ms/step - loss: 0.0553 - mse: 0.0553\n",
            "Epoch 32/50\n",
            "1875/1875 [==============================] - 4s 2ms/step - loss: 0.0549 - mse: 0.0549\n",
            "Epoch 33/50\n",
            "1875/1875 [==============================] - 4s 2ms/step - loss: 0.0543 - mse: 0.0543\n",
            "Epoch 34/50\n",
            "1875/1875 [==============================] - 4s 2ms/step - loss: 0.0542 - mse: 0.0542\n",
            "Epoch 35/50\n",
            "1875/1875 [==============================] - 4s 2ms/step - loss: 0.0535 - mse: 0.0535\n",
            "Epoch 36/50\n",
            "1875/1875 [==============================] - 4s 2ms/step - loss: 0.0529 - mse: 0.0529\n",
            "Epoch 37/50\n",
            "1875/1875 [==============================] - 4s 2ms/step - loss: 0.0524 - mse: 0.0524\n",
            "Epoch 38/50\n",
            "1875/1875 [==============================] - 4s 2ms/step - loss: 0.0521 - mse: 0.0521\n",
            "Epoch 39/50\n",
            "1875/1875 [==============================] - 4s 2ms/step - loss: 0.0522 - mse: 0.0522\n",
            "Epoch 40/50\n",
            "1875/1875 [==============================] - 4s 2ms/step - loss: 0.0520 - mse: 0.0520\n",
            "Epoch 41/50\n",
            "1875/1875 [==============================] - 4s 2ms/step - loss: 0.0516 - mse: 0.0516\n",
            "Epoch 42/50\n",
            "1875/1875 [==============================] - 4s 2ms/step - loss: 0.0513 - mse: 0.0513\n",
            "Epoch 43/50\n",
            "1875/1875 [==============================] - 4s 2ms/step - loss: 0.0510 - mse: 0.0510\n",
            "Epoch 44/50\n",
            "1875/1875 [==============================] - 4s 2ms/step - loss: 0.0507 - mse: 0.0507\n",
            "Epoch 45/50\n",
            "1875/1875 [==============================] - 4s 2ms/step - loss: 0.0504 - mse: 0.0504\n",
            "Epoch 46/50\n",
            "1875/1875 [==============================] - 4s 2ms/step - loss: 0.0501 - mse: 0.0501\n",
            "Epoch 47/50\n",
            "1875/1875 [==============================] - 4s 2ms/step - loss: 0.0498 - mse: 0.0498\n",
            "Epoch 48/50\n",
            "1875/1875 [==============================] - 4s 2ms/step - loss: 0.0498 - mse: 0.0498\n",
            "Epoch 49/50\n",
            "1875/1875 [==============================] - 4s 2ms/step - loss: 0.0496 - mse: 0.0496\n",
            "Epoch 50/50\n",
            "1875/1875 [==============================] - 4s 2ms/step - loss: 0.0491 - mse: 0.0491\n"
          ],
          "name": "stdout"
        },
        {
          "output_type": "execute_result",
          "data": {
            "text/plain": [
              "<tensorflow.python.keras.callbacks.History at 0x7f773d651710>"
            ]
          },
          "metadata": {
            "tags": []
          },
          "execution_count": 37
        }
      ]
    },
    {
      "cell_type": "code",
      "metadata": {
        "colab": {
          "base_uri": "https://localhost:8080/"
        },
        "id": "ai5qL1AncCt6",
        "outputId": "4127eb52-7172-40ab-dc24-1a1df4064bbf"
      },
      "source": [
        "latent_space = encoder.predict(X_train[:10])\r\n",
        "decoder_output = decoder.predict(latent_space)\r\n",
        "\r\n",
        "print(latent_space.shape, decoder_output.shape)\r\n",
        "print(type(latent_space))"
      ],
      "execution_count": 38,
      "outputs": [
        {
          "output_type": "stream",
          "text": [
            "(10, 128) (10, 784)\n",
            "<class 'numpy.ndarray'>\n"
          ],
          "name": "stdout"
        }
      ]
    },
    {
      "cell_type": "code",
      "metadata": {
        "colab": {
          "base_uri": "https://localhost:8080/"
        },
        "id": "ghJ7lQgNdYbT",
        "outputId": "c5e1d1eb-9d28-447d-a80b-70410e022e5e"
      },
      "source": [
        "#put the latent space and decoder output images into appropriate dimensions and visualize.\r\n",
        "latent_space = latent_space.reshape((-1, 16, 8))\r\n",
        "decoder_output = decoder_output.reshape((-1, 28, 28))\r\n",
        "\r\n",
        "print(latent_space.shape, decoder_output.shape)"
      ],
      "execution_count": 39,
      "outputs": [
        {
          "output_type": "stream",
          "text": [
            "(10, 16, 8) (10, 28, 28)\n"
          ],
          "name": "stdout"
        }
      ]
    },
    {
      "cell_type": "code",
      "metadata": {
        "id": "JW6NOuR9d1od"
      },
      "source": [
        "def display_row(disp_images, offset, shape=(28,28)):\r\n",
        "  for idx, test_image in enumerate(disp_images):\r\n",
        "    plt.subplot(3, 10, offset + idx + 1)\r\n",
        "    plt.xticks=(None) #no ticks just image\r\n",
        "    plt.yticks=([])\r\n",
        "    test_image = np.reshape(test_image, shape)\r\n",
        "    plt.imshow(test_image)"
      ],
      "execution_count": 40,
      "outputs": []
    },
    {
      "cell_type": "code",
      "metadata": {
        "colab": {
          "base_uri": "https://localhost:8080/",
          "height": 233
        },
        "id": "M1C5AoQmernW",
        "outputId": "08eeda4a-fa48-4395-e68c-7ad74951bde3"
      },
      "source": [
        "display_row(X_train[:10], offset=0, shape=(28,28))\r\n",
        "display_row(latent_space[:10], offset=10, shape=(16,8))\r\n",
        "display_row(decoder_output[:10], offset=20, shape=(28,28))"
      ],
      "execution_count": 41,
      "outputs": [
        {
          "output_type": "display_data",
          "data": {
            "image/png": "[encoded data removed]",
            "text/plain": [
              "<Figure size 432x288 with 30 Axes>"
            ]
          },
          "metadata": {
            "tags": [],
            "needs_background": "light"
          }
        }
      ]
    },
    {
      "cell_type": "code",
      "metadata": {
        "id": "jDfXicaTfmwP"
      },
      "source": [
        ""
      ],
      "execution_count": 41,
      "outputs": []
    }
  ]
}