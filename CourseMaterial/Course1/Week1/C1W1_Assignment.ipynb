{
 "cells": [
  {
   "cell_type": "markdown",
   "metadata": {
    "colab_type": "text",
    "id": "ZL_6GK8qX35J"
   },
   "source": [
    "\n",
    "\n",
    "# Week 1: Multiple Output Models using the Keras Functional API\n",
    "\n",
    "Welcome to the first programming assignment of the course! Your task will be to use the Keras functional API to train a model to predict two outputs. For this lab, you will use the **[Wine Quality Dataset](https://archive.ics.uci.edu/ml/datasets/Wine+Quality)** from the **UCI machine learning repository**. It has separate datasets for red wine and white wine.\n",
    "\n",
    "Normally, the wines are classified into one of the quality ratings specified in the attributes. In this exercise, you will combine the two datasets to predict the wine quality and whether the wine is red or white solely from the attributes. \n",
    "\n",
    "You will model wine quality estimations as a regression problem and wine type detection as a binary classification problem.\n",
    "\n",
    "#### Please complete sections that are marked **(TODO)**"
   ]
  },
  {
   "cell_type": "markdown",
   "metadata": {
    "colab_type": "text",
    "id": "obdcD6urYBY9"
   },
   "source": [
    "## Imports"
   ]
  },
  {
   "cell_type": "code",
   "execution_count": 2,
   "metadata": {
    "colab": {},
    "colab_type": "code",
    "id": "t8N3pcTQ5oQI"
   },
   "outputs": [],
   "source": [
    "import tensorflow as tf\n",
    "from tensorflow.keras.models import Model\n",
    "from tensorflow.keras.layers import Dense, Input\n",
    "import numpy as np\n",
    "import matplotlib.pyplot as plt\n",
    "import pandas as pd\n",
    "from sklearn.model_selection import train_test_split\n",
    "from sklearn.metrics import confusion_matrix\n",
    "import itertools\n",
    "import utils"
   ]
  },
  {
   "cell_type": "markdown",
   "metadata": {
    "colab_type": "text",
    "id": "gQMERzWQYpgm"
   },
   "source": [
    "## Load Dataset\n",
    "\n",
    "\n",
    "You will now download the dataset from the [UCI Machine Learning Repository](https://archive.ics.uci.edu/ml/index.php). \n",
    "\n",
    "### Pre-process the white wine dataset (TODO)\n",
    "You will add a new column named `is_red` in your dataframe to indicate if the wine is white or red. \n",
    "- In the white wine dataset, you will fill the column `is_red` with  zeros (0)."
   ]
  },
  {
   "cell_type": "code",
   "execution_count": 3,
   "metadata": {
    "colab": {},
    "colab_type": "code",
    "deletable": false,
    "id": "2qYAjKXCd4RH",
    "nbgrader": {
     "cell_type": "code",
     "checksum": "cb9f284ba6255170fe04a309a407d72d",
     "grade": false,
     "grade_id": "cell-e5bfa0f152d9a21f",
     "locked": false,
     "schema_version": 3,
     "solution": true,
     "task": false
    }
   },
   "outputs": [],
   "source": [
    "# Please uncomment all lines in this cell and replace those marked with `# YOUR CODE HERE`.\n",
    "# You can select all lines in this code cell with Ctrl+A (Windows/Linux) or Cmd+A (Mac), then press Ctrl+/ (Windows/Linux) or Cmd+/ (Mac) to uncomment.\n",
    "\n",
    "\n",
    "# URL of the white wine dataset\n",
    "URL = 'http://archive.ics.uci.edu/ml/machine-learning-databases/wine-quality/winequality-white.csv'\n",
    "\n",
    "# load the dataset from the URL\n",
    "white_df = pd.read_csv(URL, sep=\";\")\n",
    "\n",
    "# fill the `is_red` column with zeros.\n",
    "white_df[\"is_red\"] = 0\n",
    "\n",
    "# keep only the first of duplicate items\n",
    "white_df = white_df.drop_duplicates(keep='first')\n"
   ]
  },
  {
   "cell_type": "code",
   "execution_count": 4,
   "metadata": {
    "deletable": false,
    "editable": false,
    "nbgrader": {
     "cell_type": "code",
     "checksum": "defe38d6ec58fd31cd67b89e46c4373f",
     "grade": true,
     "grade_id": "cell-30575e713b55fc51",
     "locked": true,
     "points": 1,
     "schema_version": 3,
     "solution": false,
     "task": false
    }
   },
   "outputs": [
    {
     "name": "stdout",
     "output_type": "stream",
     "text": [
      "\u001b[92m All public tests passed\n"
     ]
    }
   ],
   "source": [
    "# You can click `File -> Open` in the menu above and open the `utils.py` file \n",
    "# in case you want to inspect the unit tests being used for each graded function.\n",
    "\n",
    "utils.test_white_df(white_df)\n"
   ]
  },
  {
   "cell_type": "code",
   "execution_count": 5,
   "metadata": {
    "colab": {},
    "colab_type": "code",
    "id": "OQHK0ohBQRCk"
   },
   "outputs": [
    {
     "name": "stdout",
     "output_type": "stream",
     "text": [
      "8.8\n",
      "9.1\n"
     ]
    }
   ],
   "source": [
    "print(white_df.alcohol[0])\n",
    "print(white_df.alcohol[100])\n",
    "\n",
    "# EXPECTED OUTPUT\n",
    "# 8.8\n",
    "# 9.1"
   ]
  },
  {
   "cell_type": "markdown",
   "metadata": {},
   "source": [
    "### Pre-process the red wine dataset (TODO)\n",
    "- In the red wine dataset, you will fill in the column `is_red` with ones (1)."
   ]
  },
  {
   "cell_type": "code",
   "execution_count": 6,
   "metadata": {
    "colab": {},
    "colab_type": "code",
    "deletable": false,
    "id": "8y3QxKwBed8v",
    "nbgrader": {
     "cell_type": "code",
     "checksum": "be72275f78e2c2d0038dde9aa63f8d4f",
     "grade": false,
     "grade_id": "cell-e47a40f306593274",
     "locked": false,
     "schema_version": 3,
     "solution": true,
     "task": false
    }
   },
   "outputs": [],
   "source": [
    "# Please uncomment all lines in this cell and replace those marked with `# YOUR CODE HERE`.\n",
    "# You can select all lines in this code cell with Ctrl+A (Windows/Linux) or Cmd+A (Mac), then press Ctrl+/ (Windows/Linux) or Cmd+/ (Mac) to uncomment.\n",
    "\n",
    "\n",
    "\n",
    "# URL of the red wine dataset\n",
    "URL = 'http://archive.ics.uci.edu/ml/machine-learning-databases/wine-quality/winequality-red.csv'\n",
    "\n",
    "# load the dataset from the URL\n",
    "red_df = pd.read_csv(URL, sep=\";\")\n",
    "\n",
    "# fill the `is_red` column with ones.\n",
    "red_df[\"is_red\"] = 1\n",
    "\n",
    "# keep only the first of duplicate items\n",
    "red_df = red_df.drop_duplicates(keep='first')\n"
   ]
  },
  {
   "cell_type": "code",
   "execution_count": 7,
   "metadata": {
    "deletable": false,
    "editable": false,
    "nbgrader": {
     "cell_type": "code",
     "checksum": "d8e0c91b0fd668b63ba74a8f2f958b59",
     "grade": true,
     "grade_id": "cell-2a75937adcc0c25b",
     "locked": true,
     "points": 1,
     "schema_version": 3,
     "solution": false,
     "task": false
    }
   },
   "outputs": [
    {
     "name": "stdout",
     "output_type": "stream",
     "text": [
      "\u001b[92m All public tests passed\n"
     ]
    }
   ],
   "source": [
    "utils.test_red_df(red_df)\n"
   ]
  },
  {
   "cell_type": "code",
   "execution_count": 8,
   "metadata": {
    "colab": {},
    "colab_type": "code",
    "id": "zsB3LUzNQpo_"
   },
   "outputs": [
    {
     "name": "stdout",
     "output_type": "stream",
     "text": [
      "9.4\n",
      "10.2\n"
     ]
    }
   ],
   "source": [
    "print(red_df.alcohol[0])\n",
    "print(red_df.alcohol[100])\n",
    "\n",
    "# EXPECTED OUTPUT\n",
    "# 9.4\n",
    "# 10.2"
   ]
  },
  {
   "cell_type": "markdown",
   "metadata": {
    "colab_type": "text",
    "id": "2G8B-NYuM6-f"
   },
   "source": [
    "### Concatenate the datasets\n",
    "\n",
    "Next, concatenate the red and white wine dataframes."
   ]
  },
  {
   "cell_type": "code",
   "execution_count": 9,
   "metadata": {
    "colab": {},
    "colab_type": "code",
    "id": "YpQrOjJbfN3m"
   },
   "outputs": [],
   "source": [
    "df = pd.concat([red_df, white_df], ignore_index=True)"
   ]
  },
  {
   "cell_type": "code",
   "execution_count": 20,
   "metadata": {
    "colab": {},
    "colab_type": "code",
    "id": "Se2dTmThQyjb"
   },
   "outputs": [
    {
     "name": "stdout",
     "output_type": "stream",
     "text": [
      "9.4\n",
      "9.5\n"
     ]
    }
   ],
   "source": [
    "print(df.alcohol[0])\n",
    "print(df.alcohol[100])\n",
    "\n",
    "# EXPECTED OUTPUT\n",
    "# 9.4\n",
    "# 9.5"
   ]
  },
  {
   "cell_type": "code",
   "execution_count": null,
   "metadata": {
    "colab": {},
    "colab_type": "code",
    "id": "wx6y3rPpQv4k"
   },
   "outputs": [],
   "source": [
    "# NOTE: In a real-world scenario, you should shuffle the data.\n",
    "# YOU ARE NOT going to do that here because we want to test\n",
    "# with deterministic data. But if you want the code to do it,\n",
    "# it's in the commented line below:\n",
    "\n",
    "#df = df.iloc[np.random.permutation(len(df))]"
   ]
  },
  {
   "cell_type": "markdown",
   "metadata": {
    "colab_type": "text",
    "id": "-EqIcbg5M_n1"
   },
   "source": [
    "This will chart the quality of the wines."
   ]
  },
  {
   "cell_type": "code",
   "execution_count": 23,
   "metadata": {
    "colab": {},
    "colab_type": "code",
    "id": "IsvK0-Sgy17C"
   },
   "outputs": [
    {
     "data": {
      "image/png": "[encoded data removed]",
      "text/plain": [
       "<Figure size 432x288 with 1 Axes>"
      ]
     },
     "metadata": {
      "needs_background": "light"
     },
     "output_type": "display_data"
    }
   ],
   "source": [
    "df['quality'].hist(bins=20); "
   ]
  },
  {
   "cell_type": "markdown",
   "metadata": {
    "colab_type": "text",
    "id": "Nut1rmYLzf-p"
   },
   "source": [
    "### Imbalanced data (TODO)\n",
    "You can see from the plot above that the wine quality dataset is imbalanced. \n",
    "- Since there are very few observations with quality equal to 3, 4, 8 and 9, you can drop these observations from your dataset. \n",
    "- You can do this by removing data belonging to all classes except those > 4 and < 8."
   ]
  },
  {
   "cell_type": "code",
   "execution_count": 37,
   "metadata": {
    "colab": {},
    "colab_type": "code",
    "deletable": false,
    "id": "doH9_-gnf3sz",
    "nbgrader": {
     "cell_type": "code",
     "checksum": "d9ba9fc3a3ca02ccc567be33652b80fe",
     "grade": false,
     "grade_id": "cell-6a3e9db696f6827b",
     "locked": false,
     "schema_version": 3,
     "solution": true,
     "task": false
    }
   },
   "outputs": [],
   "source": [
    "# Please uncomment all lines in this cell and replace those marked with `# YOUR CODE HERE`.\n",
    "# You can select all lines in this code cell with Ctrl+A (Windows/Linux) or Cmd+A (Mac), then press Ctrl+/ (Windows/Linux) or Cmd+/ (Mac) to uncomment.\n",
    "\n",
    "\n",
    "#get data with wine quality greater than 4 and less than 8\n",
    "df = df[(df['quality'] > 4) & (df['quality'] < 8 )]\n",
    "\n",
    "# reset index and drop the old one\n",
    "df = df.reset_index(drop=True)"
   ]
  },
  {
   "cell_type": "code",
   "execution_count": 38,
   "metadata": {
    "deletable": false,
    "editable": false,
    "nbgrader": {
     "cell_type": "code",
     "checksum": "281e1d86a4803560ed5892cd7eda4c01",
     "grade": true,
     "grade_id": "cell-aed3da719d4682c7",
     "locked": true,
     "points": 1,
     "schema_version": 3,
     "solution": false,
     "task": false
    }
   },
   "outputs": [
    {
     "name": "stdout",
     "output_type": "stream",
     "text": [
      "\u001b[92m All public tests passed\n"
     ]
    }
   ],
   "source": [
    "utils.test_df_drop(df)\n",
    "\n"
   ]
  },
  {
   "cell_type": "code",
   "execution_count": 39,
   "metadata": {
    "colab": {},
    "colab_type": "code",
    "id": "xNR1iAlMRPXO"
   },
   "outputs": [
    {
     "name": "stdout",
     "output_type": "stream",
     "text": [
      "9.4\n",
      "10.9\n"
     ]
    }
   ],
   "source": [
    "print(df.alcohol[0])\n",
    "print(df.alcohol[100])\n",
    "\n",
    "# EXPECTED OUTPUT\n",
    "# 9.4\n",
    "# 10.9"
   ]
  },
  {
   "cell_type": "markdown",
   "metadata": {
    "colab_type": "text",
    "id": "cwhuRpnVRTzG"
   },
   "source": [
    "You can plot again to see the new range of data and quality"
   ]
  },
  {
   "cell_type": "code",
   "execution_count": 40,
   "metadata": {
    "colab": {},
    "colab_type": "code",
    "id": "857ygzZiLgGg"
   },
   "outputs": [
    {
     "data": {
      "image/png": "[encoded data removed]",
      "text/plain": [
       "<Figure size 432x288 with 1 Axes>"
      ]
     },
     "metadata": {
      "needs_background": "light"
     },
     "output_type": "display_data"
    }
   ],
   "source": [
    "df['quality'].hist(bins=20);"
   ]
  },
  {
   "cell_type": "markdown",
   "metadata": {
    "colab_type": "text",
    "id": "n3k0vqSsp84t"
   },
   "source": [
    "### Train Test Split (TODO)\n",
    "\n",
    "Next, you can split the datasets into training, test and validation datasets.\n",
    "- The data frame should be split 80:20 into `train` and `test` sets.\n",
    "- The resulting `train` should then be split 80:20 into `train` and `val` sets.\n",
    "- The `train_test_split` parameter `test_size` takes a float value that ranges between 0. and 1, and represents the proportion of the dataset that is allocated to the test set.  The rest of the data is allocated to the training set."
   ]
  },
  {
   "cell_type": "code",
   "execution_count": 41,
   "metadata": {
    "colab": {},
    "colab_type": "code",
    "deletable": false,
    "id": "PAVIf2-fgRVY",
    "nbgrader": {
     "cell_type": "code",
     "checksum": "7f5738f4fb51d65adc9a8acbdf2b9970",
     "grade": false,
     "grade_id": "cell-91946cadf745206b",
     "locked": false,
     "schema_version": 3,
     "solution": true,
     "task": false
    }
   },
   "outputs": [],
   "source": [
    "# Please uncomment all lines in this cell and replace those marked with `# YOUR CODE HERE`.\n",
    "# You can select all lines in this code cell with Ctrl+A (Windows/Linux) or Cmd+A (Mac), then press Ctrl+/ (Windows/Linux) or Cmd+/ (Mac) to uncomment.\n",
    "\n",
    "# Please do not change the random_state parameter. This is needed for grading.\n",
    "\n",
    "# split df into 80:20 train and test sets\n",
    "train, test = train_test_split(df, test_size=0.2, random_state = 1)\n",
    "                               \n",
    "# split train into 80:20 train and val sets\n",
    "train, val = train_test_split(train, test_size=0.2, random_state = 1)"
   ]
  },
  {
   "cell_type": "code",
   "execution_count": 42,
   "metadata": {
    "colab": {},
    "colab_type": "code",
    "deletable": false,
    "editable": false,
    "id": "57h9LcEzRWpk",
    "nbgrader": {
     "cell_type": "code",
     "checksum": "42adbe9e66efac7c7a5f8cd73ac92f22",
     "grade": true,
     "grade_id": "cell-64b8b38cd0b965f6",
     "locked": true,
     "points": 1,
     "schema_version": 3,
     "solution": false,
     "task": false
    }
   },
   "outputs": [
    {
     "name": "stdout",
     "output_type": "stream",
     "text": [
      "\u001b[92m All public tests passed\n"
     ]
    }
   ],
   "source": [
    "utils.test_data_sizes(train.size, test.size, val.size)\n",
    "\n"
   ]
  },
  {
   "cell_type": "markdown",
   "metadata": {
    "colab_type": "text",
    "id": "RwTNu4KFqG-K"
   },
   "source": [
    "Here's where you can explore the training stats. You can pop the labels 'is_red' and 'quality' from the data as these will be used as the labels\n"
   ]
  },
  {
   "cell_type": "code",
   "execution_count": 43,
   "metadata": {
    "colab": {},
    "colab_type": "code",
    "id": "Y_afyhhHM6WQ"
   },
   "outputs": [],
   "source": [
    "train_stats = train.describe()\n",
    "train_stats.pop('is_red')\n",
    "train_stats.pop('quality')\n",
    "train_stats = train_stats.transpose()"
   ]
  },
  {
   "cell_type": "markdown",
   "metadata": {
    "colab_type": "text",
    "id": "ahvbYm4fNqSt"
   },
   "source": [
    "Explore the training stats!"
   ]
  },
  {
   "cell_type": "code",
   "execution_count": 44,
   "metadata": {
    "colab": {},
    "colab_type": "code",
    "id": "n_gAtPjZ0otF"
   },
   "outputs": [
    {
     "data": {
      "text/html": [
       "<div>\n",
       "<style scoped>\n",
       "    .dataframe tbody tr th:only-of-type {\n",
       "        vertical-align: middle;\n",
       "    }\n",
       "\n",
       "    .dataframe tbody tr th {\n",
       "        vertical-align: top;\n",
       "    }\n",
       "\n",
       "    .dataframe thead th {\n",
       "        text-align: right;\n",
       "    }\n",
       "</style>\n",
       "<table border=\"1\" class=\"dataframe\">\n",
       "  <thead>\n",
       "    <tr style=\"text-align: right;\">\n",
       "      <th></th>\n",
       "      <th>count</th>\n",
       "      <th>mean</th>\n",
       "      <th>std</th>\n",
       "      <th>min</th>\n",
       "      <th>25%</th>\n",
       "      <th>50%</th>\n",
       "      <th>75%</th>\n",
       "      <th>max</th>\n",
       "    </tr>\n",
       "  </thead>\n",
       "  <tbody>\n",
       "    <tr>\n",
       "      <th>fixed acidity</th>\n",
       "      <td>3155.0</td>\n",
       "      <td>7.221616</td>\n",
       "      <td>1.325297</td>\n",
       "      <td>3.80000</td>\n",
       "      <td>6.40000</td>\n",
       "      <td>7.00000</td>\n",
       "      <td>7.7000</td>\n",
       "      <td>15.60000</td>\n",
       "    </tr>\n",
       "    <tr>\n",
       "      <th>volatile acidity</th>\n",
       "      <td>3155.0</td>\n",
       "      <td>0.338929</td>\n",
       "      <td>0.162476</td>\n",
       "      <td>0.08000</td>\n",
       "      <td>0.23000</td>\n",
       "      <td>0.29000</td>\n",
       "      <td>0.4000</td>\n",
       "      <td>1.24000</td>\n",
       "    </tr>\n",
       "    <tr>\n",
       "      <th>citric acid</th>\n",
       "      <td>3155.0</td>\n",
       "      <td>0.321569</td>\n",
       "      <td>0.147970</td>\n",
       "      <td>0.00000</td>\n",
       "      <td>0.25000</td>\n",
       "      <td>0.31000</td>\n",
       "      <td>0.4000</td>\n",
       "      <td>1.66000</td>\n",
       "    </tr>\n",
       "    <tr>\n",
       "      <th>residual sugar</th>\n",
       "      <td>3155.0</td>\n",
       "      <td>5.155911</td>\n",
       "      <td>4.639632</td>\n",
       "      <td>0.60000</td>\n",
       "      <td>1.80000</td>\n",
       "      <td>2.80000</td>\n",
       "      <td>7.6500</td>\n",
       "      <td>65.80000</td>\n",
       "    </tr>\n",
       "    <tr>\n",
       "      <th>chlorides</th>\n",
       "      <td>3155.0</td>\n",
       "      <td>0.056976</td>\n",
       "      <td>0.036802</td>\n",
       "      <td>0.01200</td>\n",
       "      <td>0.03800</td>\n",
       "      <td>0.04700</td>\n",
       "      <td>0.0660</td>\n",
       "      <td>0.61100</td>\n",
       "    </tr>\n",
       "    <tr>\n",
       "      <th>free sulfur dioxide</th>\n",
       "      <td>3155.0</td>\n",
       "      <td>30.388590</td>\n",
       "      <td>17.236784</td>\n",
       "      <td>1.00000</td>\n",
       "      <td>17.00000</td>\n",
       "      <td>28.00000</td>\n",
       "      <td>41.0000</td>\n",
       "      <td>131.00000</td>\n",
       "    </tr>\n",
       "    <tr>\n",
       "      <th>total sulfur dioxide</th>\n",
       "      <td>3155.0</td>\n",
       "      <td>115.062282</td>\n",
       "      <td>56.706617</td>\n",
       "      <td>6.00000</td>\n",
       "      <td>75.00000</td>\n",
       "      <td>117.00000</td>\n",
       "      <td>156.0000</td>\n",
       "      <td>344.00000</td>\n",
       "    </tr>\n",
       "    <tr>\n",
       "      <th>density</th>\n",
       "      <td>3155.0</td>\n",
       "      <td>0.994633</td>\n",
       "      <td>0.003005</td>\n",
       "      <td>0.98711</td>\n",
       "      <td>0.99232</td>\n",
       "      <td>0.99481</td>\n",
       "      <td>0.9968</td>\n",
       "      <td>1.03898</td>\n",
       "    </tr>\n",
       "    <tr>\n",
       "      <th>pH</th>\n",
       "      <td>3155.0</td>\n",
       "      <td>3.223201</td>\n",
       "      <td>0.161272</td>\n",
       "      <td>2.72000</td>\n",
       "      <td>3.11000</td>\n",
       "      <td>3.21000</td>\n",
       "      <td>3.3300</td>\n",
       "      <td>4.01000</td>\n",
       "    </tr>\n",
       "    <tr>\n",
       "      <th>sulphates</th>\n",
       "      <td>3155.0</td>\n",
       "      <td>0.534051</td>\n",
       "      <td>0.149149</td>\n",
       "      <td>0.22000</td>\n",
       "      <td>0.43000</td>\n",
       "      <td>0.51000</td>\n",
       "      <td>0.6000</td>\n",
       "      <td>1.95000</td>\n",
       "    </tr>\n",
       "    <tr>\n",
       "      <th>alcohol</th>\n",
       "      <td>3155.0</td>\n",
       "      <td>10.504466</td>\n",
       "      <td>1.154654</td>\n",
       "      <td>8.50000</td>\n",
       "      <td>9.50000</td>\n",
       "      <td>10.30000</td>\n",
       "      <td>11.3000</td>\n",
       "      <td>14.00000</td>\n",
       "    </tr>\n",
       "  </tbody>\n",
       "</table>\n",
       "</div>"
      ],
      "text/plain": [
       "                       count        mean        std      min       25%  \\\n",
       "fixed acidity         3155.0    7.221616   1.325297  3.80000   6.40000   \n",
       "volatile acidity      3155.0    0.338929   0.162476  0.08000   0.23000   \n",
       "citric acid           3155.0    0.321569   0.147970  0.00000   0.25000   \n",
       "residual sugar        3155.0    5.155911   4.639632  0.60000   1.80000   \n",
       "chlorides             3155.0    0.056976   0.036802  0.01200   0.03800   \n",
       "free sulfur dioxide   3155.0   30.388590  17.236784  1.00000  17.00000   \n",
       "total sulfur dioxide  3155.0  115.062282  56.706617  6.00000  75.00000   \n",
       "density               3155.0    0.994633   0.003005  0.98711   0.99232   \n",
       "pH                    3155.0    3.223201   0.161272  2.72000   3.11000   \n",
       "sulphates             3155.0    0.534051   0.149149  0.22000   0.43000   \n",
       "alcohol               3155.0   10.504466   1.154654  8.50000   9.50000   \n",
       "\n",
       "                            50%       75%        max  \n",
       "fixed acidity           7.00000    7.7000   15.60000  \n",
       "volatile acidity        0.29000    0.4000    1.24000  \n",
       "citric acid             0.31000    0.4000    1.66000  \n",
       "residual sugar          2.80000    7.6500   65.80000  \n",
       "chlorides               0.04700    0.0660    0.61100  \n",
       "free sulfur dioxide    28.00000   41.0000  131.00000  \n",
       "total sulfur dioxide  117.00000  156.0000  344.00000  \n",
       "density                 0.99481    0.9968    1.03898  \n",
       "pH                      3.21000    3.3300    4.01000  \n",
       "sulphates               0.51000    0.6000    1.95000  \n",
       "alcohol                10.30000   11.3000   14.00000  "
      ]
     },
     "execution_count": 44,
     "metadata": {},
     "output_type": "execute_result"
    }
   ],
   "source": [
    "train_stats"
   ]
  },
  {
   "cell_type": "markdown",
   "metadata": {
    "colab_type": "text",
    "id": "bGPvt9jir_HC"
   },
   "source": [
    "### Get the labels (TODO)\n",
    "\n",
    "The features and labels are currently in the same dataframe.\n",
    "- You will want to store the label columns `is_red` and `quality` separately from the feature columns.  \n",
    "- The following function, `format_output`, gets these two columns from the dataframe (it's given to you).\n",
    "- `format_output` also formats the data into numpy arrays. \n",
    "- Please use the `format_output` and apply it to the `train`, `val` and `test` sets to get dataframes for the labels."
   ]
  },
  {
   "cell_type": "code",
   "execution_count": 45,
   "metadata": {
    "colab": {},
    "colab_type": "code",
    "id": "Z_fs14XQqZVP"
   },
   "outputs": [],
   "source": [
    "def format_output(data):\n",
    "    is_red = data.pop('is_red')\n",
    "    is_red = np.array(is_red)\n",
    "    quality = data.pop('quality')\n",
    "    quality = np.array(quality)\n",
    "    return (quality, is_red)"
   ]
  },
  {
   "cell_type": "code",
   "execution_count": 46,
   "metadata": {
    "colab": {},
    "colab_type": "code",
    "deletable": false,
    "id": "8L3ZZe1fQicm",
    "nbgrader": {
     "cell_type": "code",
     "checksum": "7a86809e54895a816434c48dc903f55d",
     "grade": false,
     "grade_id": "cell-5c30fa2c2a354b0f",
     "locked": false,
     "schema_version": 3,
     "solution": true,
     "task": false
    }
   },
   "outputs": [],
   "source": [
    "# Please uncomment all lines in this cell and replace those marked with `# YOUR CODE HERE`.\n",
    "# You can select all lines in this code cell with Ctrl+A (Windows/Linux) or Cmd+A (Mac), then press Ctrl+/ (Windows/Linux) or Cmd+/ (Mac) to uncomment.\n",
    "\n",
    "\n",
    "\n",
    "# format the output of the train set\n",
    "train_Y = format_output(train)\n",
    "\n",
    "# format the output of the val set\n",
    "val_Y = format_output(val)\n",
    "    \n",
    "# format the output of the test set\n",
    "test_Y = format_output(test)"
   ]
  },
  {
   "cell_type": "code",
   "execution_count": 47,
   "metadata": {
    "deletable": false,
    "editable": false,
    "nbgrader": {
     "cell_type": "code",
     "checksum": "359cabbafaed14ec9bbc1e57a7b6f32c",
     "grade": true,
     "grade_id": "cell-4977d8befb80f56b",
     "locked": true,
     "points": 1,
     "schema_version": 3,
     "solution": false,
     "task": false
    }
   },
   "outputs": [
    {
     "name": "stdout",
     "output_type": "stream",
     "text": [
      "\u001b[92m All public tests passed\n"
     ]
    }
   ],
   "source": [
    "utils.test_format_output(df, train_Y, val_Y, test_Y)"
   ]
  },
  {
   "cell_type": "markdown",
   "metadata": {},
   "source": [
    "Notice that after you get the labels, the `train`, `val` and `test` dataframes no longer contain the label columns, and contain just the feature columns.\n",
    "- This is because you used `.pop` in the `format_output` function."
   ]
  },
  {
   "cell_type": "code",
   "execution_count": 48,
   "metadata": {},
   "outputs": [
    {
     "data": {
      "text/html": [
       "<div>\n",
       "<style scoped>\n",
       "    .dataframe tbody tr th:only-of-type {\n",
       "        vertical-align: middle;\n",
       "    }\n",
       "\n",
       "    .dataframe tbody tr th {\n",
       "        vertical-align: top;\n",
       "    }\n",
       "\n",
       "    .dataframe thead th {\n",
       "        text-align: right;\n",
       "    }\n",
       "</style>\n",
       "<table border=\"1\" class=\"dataframe\">\n",
       "  <thead>\n",
       "    <tr style=\"text-align: right;\">\n",
       "      <th></th>\n",
       "      <th>fixed acidity</th>\n",
       "      <th>volatile acidity</th>\n",
       "      <th>citric acid</th>\n",
       "      <th>residual sugar</th>\n",
       "      <th>chlorides</th>\n",
       "      <th>free sulfur dioxide</th>\n",
       "      <th>total sulfur dioxide</th>\n",
       "      <th>density</th>\n",
       "      <th>pH</th>\n",
       "      <th>sulphates</th>\n",
       "      <th>alcohol</th>\n",
       "    </tr>\n",
       "  </thead>\n",
       "  <tbody>\n",
       "    <tr>\n",
       "      <th>225</th>\n",
       "      <td>7.5</td>\n",
       "      <td>0.65</td>\n",
       "      <td>0.18</td>\n",
       "      <td>7.0</td>\n",
       "      <td>0.088</td>\n",
       "      <td>27.0</td>\n",
       "      <td>94.0</td>\n",
       "      <td>0.99915</td>\n",
       "      <td>3.38</td>\n",
       "      <td>0.77</td>\n",
       "      <td>9.4</td>\n",
       "    </tr>\n",
       "    <tr>\n",
       "      <th>3557</th>\n",
       "      <td>6.3</td>\n",
       "      <td>0.27</td>\n",
       "      <td>0.29</td>\n",
       "      <td>12.2</td>\n",
       "      <td>0.044</td>\n",
       "      <td>59.0</td>\n",
       "      <td>196.0</td>\n",
       "      <td>0.99782</td>\n",
       "      <td>3.14</td>\n",
       "      <td>0.40</td>\n",
       "      <td>8.8</td>\n",
       "    </tr>\n",
       "    <tr>\n",
       "      <th>3825</th>\n",
       "      <td>8.8</td>\n",
       "      <td>0.27</td>\n",
       "      <td>0.25</td>\n",
       "      <td>5.0</td>\n",
       "      <td>0.024</td>\n",
       "      <td>52.0</td>\n",
       "      <td>99.0</td>\n",
       "      <td>0.99250</td>\n",
       "      <td>2.87</td>\n",
       "      <td>0.49</td>\n",
       "      <td>11.4</td>\n",
       "    </tr>\n",
       "    <tr>\n",
       "      <th>1740</th>\n",
       "      <td>6.4</td>\n",
       "      <td>0.45</td>\n",
       "      <td>0.07</td>\n",
       "      <td>1.1</td>\n",
       "      <td>0.030</td>\n",
       "      <td>10.0</td>\n",
       "      <td>131.0</td>\n",
       "      <td>0.99050</td>\n",
       "      <td>2.97</td>\n",
       "      <td>0.28</td>\n",
       "      <td>10.8</td>\n",
       "    </tr>\n",
       "    <tr>\n",
       "      <th>1221</th>\n",
       "      <td>7.2</td>\n",
       "      <td>0.53</td>\n",
       "      <td>0.13</td>\n",
       "      <td>2.0</td>\n",
       "      <td>0.058</td>\n",
       "      <td>18.0</td>\n",
       "      <td>22.0</td>\n",
       "      <td>0.99573</td>\n",
       "      <td>3.21</td>\n",
       "      <td>0.68</td>\n",
       "      <td>9.9</td>\n",
       "    </tr>\n",
       "  </tbody>\n",
       "</table>\n",
       "</div>"
      ],
      "text/plain": [
       "      fixed acidity  volatile acidity  citric acid  residual sugar  chlorides  \\\n",
       "225             7.5              0.65         0.18             7.0      0.088   \n",
       "3557            6.3              0.27         0.29            12.2      0.044   \n",
       "3825            8.8              0.27         0.25             5.0      0.024   \n",
       "1740            6.4              0.45         0.07             1.1      0.030   \n",
       "1221            7.2              0.53         0.13             2.0      0.058   \n",
       "\n",
       "      free sulfur dioxide  total sulfur dioxide  density    pH  sulphates  \\\n",
       "225                  27.0                  94.0  0.99915  3.38       0.77   \n",
       "3557                 59.0                 196.0  0.99782  3.14       0.40   \n",
       "3825                 52.0                  99.0  0.99250  2.87       0.49   \n",
       "1740                 10.0                 131.0  0.99050  2.97       0.28   \n",
       "1221                 18.0                  22.0  0.99573  3.21       0.68   \n",
       "\n",
       "      alcohol  \n",
       "225       9.4  \n",
       "3557      8.8  \n",
       "3825     11.4  \n",
       "1740     10.8  \n",
       "1221      9.9  "
      ]
     },
     "execution_count": 48,
     "metadata": {},
     "output_type": "execute_result"
    }
   ],
   "source": [
    "train.head()"
   ]
  },
  {
   "cell_type": "markdown",
   "metadata": {
    "colab_type": "text",
    "id": "hEdbrruAsN1D"
   },
   "source": [
    "### Normalize the data (TODO)\n",
    "\n",
    "Next, you can normalize the data, x, using the formula:\n",
    "$$x_{norm} = \\frac{x - \\mu}{\\sigma}$$\n",
    "- The `norm` function is defined for you.\n",
    "- Please apply the `norm` function to normalize the dataframes that contains the feature columns of `train`, `val` and `test` sets."
   ]
  },
  {
   "cell_type": "code",
   "execution_count": 49,
   "metadata": {
    "colab": {},
    "colab_type": "code",
    "id": "WWiZPAHCLjUs"
   },
   "outputs": [],
   "source": [
    "def norm(x):\n",
    "    return (x - train_stats['mean']) / train_stats['std']"
   ]
  },
  {
   "cell_type": "code",
   "execution_count": 50,
   "metadata": {
    "colab": {},
    "colab_type": "code",
    "deletable": false,
    "id": "JEaOi2I2Lk69",
    "nbgrader": {
     "cell_type": "code",
     "checksum": "6bc0cdcb563d192f271067aa3373ff32",
     "grade": false,
     "grade_id": "cell-d8416d975c371095",
     "locked": false,
     "schema_version": 3,
     "solution": true,
     "task": false
    }
   },
   "outputs": [],
   "source": [
    "# Please uncomment all lines in this cell and replace those marked with `# YOUR CODE HERE`.\n",
    "# You can select all lines in this code cell with Ctrl+A (Windows/Linux) or Cmd+A (Mac), then press Ctrl+/ (Windows/Linux) or Cmd+/ (Mac) to uncomment.\n",
    "\n",
    "\n",
    "\n",
    "# normalize the train set\n",
    "norm_train_X = norm(train)\n",
    "    \n",
    "# normalize the val set\n",
    "norm_val_X = norm(val)\n",
    "    \n",
    "# normalize the test set\n",
    "norm_test_X = norm(test)"
   ]
  },
  {
   "cell_type": "code",
   "execution_count": 51,
   "metadata": {
    "deletable": false,
    "editable": false,
    "nbgrader": {
     "cell_type": "code",
     "checksum": "4f567db45bf40191601780379cc100b8",
     "grade": true,
     "grade_id": "cell-97fad979d157529b",
     "locked": true,
     "points": 1,
     "schema_version": 3,
     "solution": false,
     "task": false
    }
   },
   "outputs": [
    {
     "name": "stdout",
     "output_type": "stream",
     "text": [
      "\u001b[92m All public tests passed\n"
     ]
    }
   ],
   "source": [
    "utils.test_norm(norm_train_X, norm_val_X, norm_test_X, train, val, test)\n"
   ]
  },
  {
   "cell_type": "markdown",
   "metadata": {
    "colab_type": "text",
    "id": "hzykDwQhsaPO"
   },
   "source": [
    "## Define the Model (TODO)\n",
    "\n",
    "Define the model using the functional API. The base model will be 2 `Dense` layers of 128 neurons each, and have the `'relu'` activation.\n",
    "- Check out the documentation for [tf.keras.layers.Dense](https://www.tensorflow.org/api_docs/python/tf/keras/layers/Dense)"
   ]
  },
  {
   "cell_type": "code",
   "execution_count": 52,
   "metadata": {
    "colab": {},
    "colab_type": "code",
    "deletable": false,
    "id": "Rhcns3oTFkM6",
    "nbgrader": {
     "cell_type": "code",
     "checksum": "74b031247e569526552bf13a034a1c07",
     "grade": false,
     "grade_id": "cell-73fceedad1fe351c",
     "locked": false,
     "schema_version": 3,
     "solution": true,
     "task": false
    }
   },
   "outputs": [],
   "source": [
    "# Please uncomment all lines in this cell and replace those marked with `# YOUR CODE HERE`.\n",
    "# You can select all lines in this code cell with Ctrl+A (Windows/Linux) or Cmd+A (Mac), then press Ctrl+/ (Windows/Linux) or Cmd+/ (Mac) to uncomment.\n",
    "\n",
    "\n",
    "#This inputs param is going to be a layer itself.\n",
    "def base_model(inputs):\n",
    "    \n",
    "    # connect a Dense layer with 128 neurons and a relu activation\n",
    "    x = Dense(128, activation=\"relu\", name=\"dense1\")(inputs)\n",
    "    # connect another Dense layer with 128 neurons and a relu activation\n",
    "    x = Dense(128, activation=\"relu\", name=\"dense2\")(x)\n",
    "    return x\n",
    "  "
   ]
  },
  {
   "cell_type": "code",
   "execution_count": 53,
   "metadata": {
    "deletable": false,
    "editable": false,
    "nbgrader": {
     "cell_type": "code",
     "checksum": "9255924b3def80f679616e4c851a43e1",
     "grade": true,
     "grade_id": "cell-54f742a133353d75",
     "locked": true,
     "points": 1,
     "schema_version": 3,
     "solution": false,
     "task": false
    }
   },
   "outputs": [
    {
     "name": "stdout",
     "output_type": "stream",
     "text": [
      "\u001b[92m All public tests passed\n"
     ]
    }
   ],
   "source": [
    "utils.test_base_model(base_model)"
   ]
  },
  {
   "cell_type": "markdown",
   "metadata": {
    "colab_type": "text",
    "id": "xem_fcVws6Kz"
   },
   "source": [
    "# Define output layers of the model (TODO)\n",
    "\n",
    "You will add output layers to the base model. \n",
    "- The model will need two outputs.\n",
    "\n",
    "One output layer will predict wine quality, which is a numeric value.\n",
    "- Define a `Dense` layer with 1 neuron.\n",
    "- Since this is a regression output, the activation can be left as its default value `None`.\n",
    "\n",
    "The other output layer will predict the wine type, which is either red `1` or not red `0` (white).\n",
    "- Define a `Dense` layer with 1 neuron.\n",
    "- Since there are two possible categories, you can use a sigmoid activation for binary classification.\n",
    "\n",
    "Define the `Model`\n",
    "- Define the `Model` object, and set the following parameters:\n",
    "  - `inputs`: pass in the inputs to the model as a list.\n",
    "  - `outputs`: pass in a list of the outputs that you just defined: wine quality, then wine type.\n",
    "  - **Note**: please list the wine quality before wine type in the outputs, as this will affect the calculated loss if you choose the other order."
   ]
  },
  {
   "cell_type": "code",
   "execution_count": 54,
   "metadata": {
    "colab": {},
    "colab_type": "code",
    "deletable": false,
    "id": "n5UGF8PMVLPt",
    "nbgrader": {
     "cell_type": "code",
     "checksum": "76d35b90d20cdcbb22986cd8211057de",
     "grade": false,
     "grade_id": "cell-19e285f482f021fb",
     "locked": false,
     "schema_version": 3,
     "solution": true,
     "task": false
    }
   },
   "outputs": [],
   "source": [
    "# Please uncomment all lines in this cell and replace those marked with `# YOUR CODE HERE`.\n",
    "# You can select all lines in this code cell with Ctrl+A (Windows/Linux) or Cmd+A (Mac), then press Ctrl+/ (Windows/Linux) or Cmd+/ (Mac) to uncomment.\n",
    "\n",
    "\n",
    "\n",
    "def final_model(inputs):\n",
    "    \n",
    "    # get the base model\n",
    "    x = base_model(inputs)\n",
    "\n",
    "    # connect the output Dense layer for regression\n",
    "    wine_quality = Dense(units='1', name='wine_quality')(x)\n",
    "\n",
    "    # connect the output Dense layer for classification. this will use a sigmoid activation.\n",
    "    wine_type = Dense(units='1', activation=\"sigmoid\", name='wine_type')(x)\n",
    "\n",
    "    # define the model using the input and output layers\n",
    "    model = Model(inputs=inputs, outputs=[wine_quality, wine_type] )\n",
    "\n",
    "    return model"
   ]
  },
  {
   "cell_type": "code",
   "execution_count": 55,
   "metadata": {
    "deletable": false,
    "editable": false,
    "nbgrader": {
     "cell_type": "code",
     "checksum": "89cbf89d8ab5e2e59ecf7f63f517520a",
     "grade": true,
     "grade_id": "cell-40d050f855c817d1",
     "locked": true,
     "points": 1,
     "schema_version": 3,
     "solution": false,
     "task": false
    }
   },
   "outputs": [
    {
     "name": "stdout",
     "output_type": "stream",
     "text": [
      "\u001b[92m All public tests passed\n"
     ]
    }
   ],
   "source": [
    "utils.test_final_model(final_model)"
   ]
  },
  {
   "cell_type": "markdown",
   "metadata": {
    "colab_type": "text",
    "id": "5R0BMTsltZyu"
   },
   "source": [
    "## Compiling the Model\n",
    "\n",
    "Next, compile the model. When setting the loss parameter of `model.compile`, you're setting the loss for each of the two outputs (wine quality and wine type).\n",
    "\n",
    "To set more than one loss, use a dictionary of key-value pairs.\n",
    "- You can look at the docs for the losses [here](https://www.tensorflow.org/api_docs/python/tf/keras/losses#functions).\n",
    "    - **Note**: For the desired spelling, please look at the \"Functions\" section of the documentation and not the \"classes\" section on that same page.\n",
    "- wine_type: Since you will be performing binary classification on wine type, you should use the binary crossentropy loss function for it.  Please pass this in as a string.  \n",
    "  - **Hint**, this should be all lowercase.  In the documentation, you'll see this under the \"Functions\" section, not the \"Classes\" section.\n",
    "- wine_quality: since this is a regression output, use the mean squared error.  Please pass it in as a string, all lowercase.\n",
    "  - **Hint**: You may notice that there are two aliases for mean squared error.  Please use the shorter name.\n",
    "\n",
    "\n",
    "You will also set the metric for each of the two outputs.  Again, to set metrics for two or more outputs, use a dictionary with key value pairs.\n",
    "- The metrics documentation is linked [here](https://www.tensorflow.org/api_docs/python/tf/keras/metrics).\n",
    "- For the wine type, please set it to accuracy as a string, all lowercase.\n",
    "- For wine quality, please use the root mean squared error.  Instead of a string, you'll set it to an instance of the class [RootMeanSquaredError](https://www.tensorflow.org/api_docs/python/tf/keras/metrics/RootMeanSquaredError), which belongs to the tf.keras.metrics module.\n",
    "\n",
    "**Note**: If you see the error message \n",
    ">Exception: wine quality loss function is incorrect.\n",
    "\n",
    "- Please also check your other losses and metrics, as the error may be caused by the other three key-value pairs and not the wine quality loss."
   ]
  },
  {
   "cell_type": "code",
   "execution_count": 69,
   "metadata": {
    "colab": {},
    "colab_type": "code",
    "deletable": false,
    "id": "LK11duUbUjmh",
    "nbgrader": {
     "cell_type": "code",
     "checksum": "22f45067ca69eb2ccadb43874dbcc27b",
     "grade": false,
     "grade_id": "cell-81afdc4dcca51d5e",
     "locked": false,
     "schema_version": 3,
     "solution": true,
     "task": false
    }
   },
   "outputs": [],
   "source": [
    "# Please uncomment all lines in this cell and replace those marked with `# YOUR CODE HERE`.\n",
    "# You can select all lines in this code cell with Ctrl+A (Windows/Linux) or Cmd+A (Mac), then press Ctrl+/ (Windows/Linux) or Cmd+/ (Mac) to uncomment.\n",
    "\n",
    "\n",
    "\n",
    "inputs = tf.keras.layers.Input(shape=(11,)) #defining the single input layer here.\n",
    "rms = tf.keras.optimizers.RMSprop(lr=0.0001)\n",
    "model = final_model(inputs)\n",
    "\n",
    "model.compile(optimizer=rms, \n",
    "              loss = {'wine_type' : \"binary_crossentropy\",\n",
    "                      'wine_quality' : \"mse\"\n",
    "                     },\n",
    "              metrics = {'wine_type' : \"accuracy\",\n",
    "                         'wine_quality': tf.keras.metrics.RootMeanSquaredError()\n",
    "                       }\n",
    "             )\n"
   ]
  },
  {
   "cell_type": "code",
   "execution_count": 70,
   "metadata": {
    "deletable": false,
    "editable": false,
    "nbgrader": {
     "cell_type": "code",
     "checksum": "88e02238ea5e456ff65e835cc8158054",
     "grade": true,
     "grade_id": "cell-2eeeba02391c4632",
     "locked": true,
     "points": 1,
     "schema_version": 3,
     "solution": false,
     "task": false
    }
   },
   "outputs": [
    {
     "name": "stdout",
     "output_type": "stream",
     "text": [
      "\u001b[92m All public tests passed\n"
     ]
    }
   ],
   "source": [
    "utils.test_model_compile(model)"
   ]
  },
  {
   "cell_type": "markdown",
   "metadata": {
    "colab_type": "text",
    "id": "90MpAMpWuKm-"
   },
   "source": [
    "## Training the Model\n",
    "\n",
    "Fit the model to the training inputs and outputs. \n",
    "- Check the documentation for [model.fit](https://www.tensorflow.org/api_docs/python/tf/keras/Model#fit).\n",
    "- Remember to use the normalized training set as inputs. \n",
    "- For the validation data, please use the normalized validation set."
   ]
  },
  {
   "cell_type": "code",
   "execution_count": 71,
   "metadata": {},
   "outputs": [],
   "source": [
    "cb_cp = tf.keras.callbacks.ModelCheckpoint(\"best_model.h5\", save_weights_only=True, save_best_only=True, monitor=\"loss\")"
   ]
  },
  {
   "cell_type": "code",
   "execution_count": 72,
   "metadata": {
    "colab": {},
    "colab_type": "code",
    "deletable": false,
    "id": "_eiZkle4XwiY",
    "nbgrader": {
     "cell_type": "code",
     "checksum": "2ca7664be03bfd6fd3651ae44d17b793",
     "grade": false,
     "grade_id": "cell-0bb56262896f6680",
     "locked": false,
     "schema_version": 3,
     "solution": true,
     "task": false
    }
   },
   "outputs": [
    {
     "name": "stdout",
     "output_type": "stream",
     "text": [
      "Train on 3155 samples, validate on 789 samples\n",
      "Epoch 1/180\n",
      "3155/3155 [==============================] - 1s 348us/sample - loss: 26.0967 - wine_quality_loss: 25.4059 - wine_type_loss: 0.6594 - wine_quality_root_mean_squared_error: 5.0435 - wine_type_accuracy: 0.6998 - val_loss: 18.6107 - val_wine_quality_loss: 17.9855 - val_wine_type_loss: 0.6386 - val_wine_quality_root_mean_squared_error: 4.2393 - val_wine_type_accuracy: 0.7300\n",
      "Epoch 2/180\n",
      "3155/3155 [==============================] - 0s 107us/sample - loss: 12.2166 - wine_quality_loss: 11.5797 - wine_type_loss: 0.6076 - wine_quality_root_mean_squared_error: 3.4072 - wine_type_accuracy: 0.7436 - val_loss: 7.1333 - val_wine_quality_loss: 6.6051 - val_wine_type_loss: 0.5746 - val_wine_quality_root_mean_squared_error: 2.5610 - val_wine_type_accuracy: 0.7338\n",
      "Epoch 3/180\n",
      "3155/3155 [==============================] - 0s 98us/sample - loss: 4.5529 - wine_quality_loss: 4.0457 - wine_type_loss: 0.5259 - wine_quality_root_mean_squared_error: 2.0066 - wine_type_accuracy: 0.7442 - val_loss: 2.9314 - val_wine_quality_loss: 2.5021 - val_wine_type_loss: 0.4798 - val_wine_quality_root_mean_squared_error: 1.5657 - val_wine_type_accuracy: 0.7364\n",
      "Epoch 4/180\n",
      "3155/3155 [==============================] - 0s 97us/sample - loss: 2.6567 - wine_quality_loss: 2.2277 - wine_type_loss: 0.4282 - wine_quality_root_mean_squared_error: 1.4927 - wine_type_accuracy: 0.7715 - val_loss: 2.3199 - val_wine_quality_loss: 1.9718 - val_wine_type_loss: 0.3831 - val_wine_quality_root_mean_squared_error: 1.3916 - val_wine_type_accuracy: 0.8238\n",
      "Epoch 5/180\n",
      "3155/3155 [==============================] - 0s 99us/sample - loss: 2.2432 - wine_quality_loss: 1.9043 - wine_type_loss: 0.3407 - wine_quality_root_mean_squared_error: 1.3794 - wine_type_accuracy: 0.8745 - val_loss: 2.0341 - val_wine_quality_loss: 1.7497 - val_wine_type_loss: 0.3070 - val_wine_quality_root_mean_squared_error: 1.3140 - val_wine_type_accuracy: 0.9189\n",
      "Epoch 6/180\n",
      "3155/3155 [==============================] - 0s 95us/sample - loss: 1.9892 - wine_quality_loss: 1.7150 - wine_type_loss: 0.2733 - wine_quality_root_mean_squared_error: 1.3099 - wine_type_accuracy: 0.9461 - val_loss: 1.8250 - val_wine_quality_loss: 1.5959 - val_wine_type_loss: 0.2456 - val_wine_quality_root_mean_squared_error: 1.2566 - val_wine_type_accuracy: 0.9582\n",
      "Epoch 7/180\n",
      "3155/3155 [==============================] - 0s 96us/sample - loss: 1.7865 - wine_quality_loss: 1.5667 - wine_type_loss: 0.2173 - wine_quality_root_mean_squared_error: 1.2526 - wine_type_accuracy: 0.9715 - val_loss: 1.6468 - val_wine_quality_loss: 1.4635 - val_wine_type_loss: 0.1944 - val_wine_quality_root_mean_squared_error: 1.2051 - val_wine_type_accuracy: 0.9772\n",
      "Epoch 8/180\n",
      "3155/3155 [==============================] - 0s 94us/sample - loss: 1.6164 - wine_quality_loss: 1.4417 - wine_type_loss: 0.1735 - wine_quality_root_mean_squared_error: 1.2013 - wine_type_accuracy: 0.9819 - val_loss: 1.5082 - val_wine_quality_loss: 1.3608 - val_wine_type_loss: 0.1549 - val_wine_quality_root_mean_squared_error: 1.1633 - val_wine_type_accuracy: 0.9886\n",
      "Epoch 9/180\n",
      "3155/3155 [==============================] - 0s 98us/sample - loss: 1.4788 - wine_quality_loss: 1.3359 - wine_type_loss: 0.1397 - wine_quality_root_mean_squared_error: 1.1572 - wine_type_accuracy: 0.9857 - val_loss: 1.3755 - val_wine_quality_loss: 1.2561 - val_wine_type_loss: 0.1247 - val_wine_quality_root_mean_squared_error: 1.1184 - val_wine_type_accuracy: 0.9899\n",
      "Epoch 10/180\n",
      "3155/3155 [==============================] - 0s 91us/sample - loss: 1.3603 - wine_quality_loss: 1.2457 - wine_type_loss: 0.1143 - wine_quality_root_mean_squared_error: 1.1162 - wine_type_accuracy: 0.9870 - val_loss: 1.2590 - val_wine_quality_loss: 1.1605 - val_wine_type_loss: 0.1031 - val_wine_quality_root_mean_squared_error: 1.0751 - val_wine_type_accuracy: 0.9899\n",
      "Epoch 11/180\n",
      "3155/3155 [==============================] - 0s 95us/sample - loss: 1.2625 - wine_quality_loss: 1.1654 - wine_type_loss: 0.0960 - wine_quality_root_mean_squared_error: 1.0800 - wine_type_accuracy: 0.9880 - val_loss: 1.1711 - val_wine_quality_loss: 1.0873 - val_wine_type_loss: 0.0866 - val_wine_quality_root_mean_squared_error: 1.0413 - val_wine_type_accuracy: 0.9899\n",
      "Epoch 12/180\n",
      "3155/3155 [==============================] - 0s 97us/sample - loss: 1.1744 - wine_quality_loss: 1.1029 - wine_type_loss: 0.0825 - wine_quality_root_mean_squared_error: 1.0449 - wine_type_accuracy: 0.9889 - val_loss: 1.0962 - val_wine_quality_loss: 1.0235 - val_wine_type_loss: 0.0746 - val_wine_quality_root_mean_squared_error: 1.0106 - val_wine_type_accuracy: 0.9911\n",
      "Epoch 13/180\n",
      "3155/3155 [==============================] - 0s 97us/sample - loss: 1.0931 - wine_quality_loss: 1.0207 - wine_type_loss: 0.0723 - wine_quality_root_mean_squared_error: 1.0103 - wine_type_accuracy: 0.9895 - val_loss: 1.0299 - val_wine_quality_loss: 0.9654 - val_wine_type_loss: 0.0653 - val_wine_quality_root_mean_squared_error: 0.9821 - val_wine_type_accuracy: 0.9911\n",
      "Epoch 14/180\n",
      "3155/3155 [==============================] - 0s 98us/sample - loss: 1.0254 - wine_quality_loss: 0.9598 - wine_type_loss: 0.0645 - wine_quality_root_mean_squared_error: 0.9802 - wine_type_accuracy: 0.9899 - val_loss: 0.9697 - val_wine_quality_loss: 0.9114 - val_wine_type_loss: 0.0584 - val_wine_quality_root_mean_squared_error: 0.9545 - val_wine_type_accuracy: 0.9924\n",
      "Epoch 15/180\n",
      "3155/3155 [==============================] - 0s 91us/sample - loss: 0.9629 - wine_quality_loss: 0.9033 - wine_type_loss: 0.0587 - wine_quality_root_mean_squared_error: 0.9509 - wine_type_accuracy: 0.9902 - val_loss: 0.9052 - val_wine_quality_loss: 0.8512 - val_wine_type_loss: 0.0530 - val_wine_quality_root_mean_squared_error: 0.9230 - val_wine_type_accuracy: 0.9937\n",
      "Epoch 16/180\n",
      "3155/3155 [==============================] - 0s 95us/sample - loss: 0.9114 - wine_quality_loss: 0.8562 - wine_type_loss: 0.0541 - wine_quality_root_mean_squared_error: 0.9259 - wine_type_accuracy: 0.9902 - val_loss: 0.8442 - val_wine_quality_loss: 0.7944 - val_wine_type_loss: 0.0492 - val_wine_quality_root_mean_squared_error: 0.8915 - val_wine_type_accuracy: 0.9937\n",
      "Epoch 17/180\n",
      "3155/3155 [==============================] - 0s 95us/sample - loss: 0.8586 - wine_quality_loss: 0.8090 - wine_type_loss: 0.0520 - wine_quality_root_mean_squared_error: 0.8989 - wine_type_accuracy: 0.9908 - val_loss: 0.8004 - val_wine_quality_loss: 0.7539 - val_wine_type_loss: 0.0461 - val_wine_quality_root_mean_squared_error: 0.8684 - val_wine_type_accuracy: 0.9937\n",
      "Epoch 18/180\n",
      "3155/3155 [==============================] - 0s 95us/sample - loss: 0.8101 - wine_quality_loss: 0.7613 - wine_type_loss: 0.0476 - wine_quality_root_mean_squared_error: 0.8732 - wine_type_accuracy: 0.9908 - val_loss: 0.7565 - val_wine_quality_loss: 0.7122 - val_wine_type_loss: 0.0431 - val_wine_quality_root_mean_squared_error: 0.8445 - val_wine_type_accuracy: 0.9937\n",
      "Epoch 19/180\n",
      "3155/3155 [==============================] - 0s 95us/sample - loss: 0.7672 - wine_quality_loss: 0.7213 - wine_type_loss: 0.0450 - wine_quality_root_mean_squared_error: 0.8498 - wine_type_accuracy: 0.9908 - val_loss: 0.7215 - val_wine_quality_loss: 0.6795 - val_wine_type_loss: 0.0409 - val_wine_quality_root_mean_squared_error: 0.8248 - val_wine_type_accuracy: 0.9949\n",
      "Epoch 20/180\n",
      "3155/3155 [==============================] - 0s 93us/sample - loss: 0.7319 - wine_quality_loss: 0.6882 - wine_type_loss: 0.0447 - wine_quality_root_mean_squared_error: 0.8299 - wine_type_accuracy: 0.9911 - val_loss: 0.6758 - val_wine_quality_loss: 0.6355 - val_wine_type_loss: 0.0394 - val_wine_quality_root_mean_squared_error: 0.7976 - val_wine_type_accuracy: 0.9949\n",
      "Epoch 21/180\n",
      "3155/3155 [==============================] - 0s 97us/sample - loss: 0.6922 - wine_quality_loss: 0.6514 - wine_type_loss: 0.0414 - wine_quality_root_mean_squared_error: 0.8067 - wine_type_accuracy: 0.9911 - val_loss: 0.6502 - val_wine_quality_loss: 0.6109 - val_wine_type_loss: 0.0379 - val_wine_quality_root_mean_squared_error: 0.7823 - val_wine_type_accuracy: 0.9949\n",
      "Epoch 22/180\n",
      "3155/3155 [==============================] - 0s 94us/sample - loss: 0.6570 - wine_quality_loss: 0.6178 - wine_type_loss: 0.0400 - wine_quality_root_mean_squared_error: 0.7855 - wine_type_accuracy: 0.9921 - val_loss: 0.6063 - val_wine_quality_loss: 0.5685 - val_wine_type_loss: 0.0366 - val_wine_quality_root_mean_squared_error: 0.7546 - val_wine_type_accuracy: 0.9949\n",
      "Epoch 23/180\n",
      "3155/3155 [==============================] - 0s 94us/sample - loss: 0.6271 - wine_quality_loss: 0.5871 - wine_type_loss: 0.0390 - wine_quality_root_mean_squared_error: 0.7670 - wine_type_accuracy: 0.9921 - val_loss: 0.5814 - val_wine_quality_loss: 0.5443 - val_wine_type_loss: 0.0356 - val_wine_quality_root_mean_squared_error: 0.7386 - val_wine_type_accuracy: 0.9949\n",
      "Epoch 24/180\n",
      "3155/3155 [==============================] - 0s 94us/sample - loss: 0.5987 - wine_quality_loss: 0.5611 - wine_type_loss: 0.0376 - wine_quality_root_mean_squared_error: 0.7490 - wine_type_accuracy: 0.9924 - val_loss: 0.5611 - val_wine_quality_loss: 0.5248 - val_wine_type_loss: 0.0348 - val_wine_quality_root_mean_squared_error: 0.7252 - val_wine_type_accuracy: 0.9949\n",
      "Epoch 25/180\n",
      "3155/3155 [==============================] - 0s 94us/sample - loss: 0.5730 - wine_quality_loss: 0.5391 - wine_type_loss: 0.0368 - wine_quality_root_mean_squared_error: 0.7322 - wine_type_accuracy: 0.9930 - val_loss: 0.5344 - val_wine_quality_loss: 0.4990 - val_wine_type_loss: 0.0339 - val_wine_quality_root_mean_squared_error: 0.7073 - val_wine_type_accuracy: 0.9949\n",
      "Epoch 26/180\n",
      "3155/3155 [==============================] - 0s 96us/sample - loss: 0.5483 - wine_quality_loss: 0.5122 - wine_type_loss: 0.0358 - wine_quality_root_mean_squared_error: 0.7158 - wine_type_accuracy: 0.9933 - val_loss: 0.5061 - val_wine_quality_loss: 0.4712 - val_wine_type_loss: 0.0334 - val_wine_quality_root_mean_squared_error: 0.6873 - val_wine_type_accuracy: 0.9949\n",
      "Epoch 27/180\n",
      "3155/3155 [==============================] - 0s 95us/sample - loss: 0.5267 - wine_quality_loss: 0.4909 - wine_type_loss: 0.0358 - wine_quality_root_mean_squared_error: 0.7011 - wine_type_accuracy: 0.9937 - val_loss: 0.4851 - val_wine_quality_loss: 0.4510 - val_wine_type_loss: 0.0327 - val_wine_quality_root_mean_squared_error: 0.6724 - val_wine_type_accuracy: 0.9949\n",
      "Epoch 28/180\n",
      "3155/3155 [==============================] - 0s 95us/sample - loss: 0.5058 - wine_quality_loss: 0.4712 - wine_type_loss: 0.0343 - wine_quality_root_mean_squared_error: 0.6866 - wine_type_accuracy: 0.9937 - val_loss: 0.4791 - val_wine_quality_loss: 0.4451 - val_wine_type_loss: 0.0323 - val_wine_quality_root_mean_squared_error: 0.6682 - val_wine_type_accuracy: 0.9949\n",
      "Epoch 29/180\n",
      "3155/3155 [==============================] - 0s 93us/sample - loss: 0.4875 - wine_quality_loss: 0.4536 - wine_type_loss: 0.0339 - wine_quality_root_mean_squared_error: 0.6735 - wine_type_accuracy: 0.9930 - val_loss: 0.4653 - val_wine_quality_loss: 0.4321 - val_wine_type_loss: 0.0318 - val_wine_quality_root_mean_squared_error: 0.6581 - val_wine_type_accuracy: 0.9949\n",
      "Epoch 30/180\n",
      "3155/3155 [==============================] - 0s 95us/sample - loss: 0.4708 - wine_quality_loss: 0.4378 - wine_type_loss: 0.0332 - wine_quality_root_mean_squared_error: 0.6615 - wine_type_accuracy: 0.9937 - val_loss: 0.4471 - val_wine_quality_loss: 0.4135 - val_wine_type_loss: 0.0316 - val_wine_quality_root_mean_squared_error: 0.6444 - val_wine_type_accuracy: 0.9949\n",
      "Epoch 31/180\n",
      "3155/3155 [==============================] - 0s 97us/sample - loss: 0.4545 - wine_quality_loss: 0.4211 - wine_type_loss: 0.0326 - wine_quality_root_mean_squared_error: 0.6495 - wine_type_accuracy: 0.9933 - val_loss: 0.4398 - val_wine_quality_loss: 0.4067 - val_wine_type_loss: 0.0312 - val_wine_quality_root_mean_squared_error: 0.6390 - val_wine_type_accuracy: 0.9949\n",
      "Epoch 32/180\n",
      "3155/3155 [==============================] - 0s 110us/sample - loss: 0.4425 - wine_quality_loss: 0.4100 - wine_type_loss: 0.0322 - wine_quality_root_mean_squared_error: 0.6404 - wine_type_accuracy: 0.9940 - val_loss: 0.4110 - val_wine_quality_loss: 0.3787 - val_wine_type_loss: 0.0307 - val_wine_quality_root_mean_squared_error: 0.6164 - val_wine_type_accuracy: 0.9949\n",
      "Epoch 33/180\n",
      "3155/3155 [==============================] - 0s 79us/sample - loss: 0.4291 - wine_quality_loss: 0.3975 - wine_type_loss: 0.0318 - wine_quality_root_mean_squared_error: 0.6303 - wine_type_accuracy: 0.9937 - val_loss: 0.4082 - val_wine_quality_loss: 0.3762 - val_wine_type_loss: 0.0303 - val_wine_quality_root_mean_squared_error: 0.6144 - val_wine_type_accuracy: 0.9949\n",
      "Epoch 34/180\n",
      "3155/3155 [==============================] - 0s 97us/sample - loss: 0.4182 - wine_quality_loss: 0.3861 - wine_type_loss: 0.0314 - wine_quality_root_mean_squared_error: 0.6219 - wine_type_accuracy: 0.9940 - val_loss: 0.4021 - val_wine_quality_loss: 0.3701 - val_wine_type_loss: 0.0301 - val_wine_quality_root_mean_squared_error: 0.6096 - val_wine_type_accuracy: 0.9949\n",
      "Epoch 35/180\n",
      "3155/3155 [==============================] - 0s 98us/sample - loss: 0.4100 - wine_quality_loss: 0.3788 - wine_type_loss: 0.0309 - wine_quality_root_mean_squared_error: 0.6156 - wine_type_accuracy: 0.9940 - val_loss: 0.3845 - val_wine_quality_loss: 0.3531 - val_wine_type_loss: 0.0299 - val_wine_quality_root_mean_squared_error: 0.5952 - val_wine_type_accuracy: 0.9962\n",
      "Epoch 36/180\n",
      "3155/3155 [==============================] - 0s 90us/sample - loss: 0.4020 - wine_quality_loss: 0.3713 - wine_type_loss: 0.0306 - wine_quality_root_mean_squared_error: 0.6093 - wine_type_accuracy: 0.9940 - val_loss: 0.3753 - val_wine_quality_loss: 0.3440 - val_wine_type_loss: 0.0299 - val_wine_quality_root_mean_squared_error: 0.5874 - val_wine_type_accuracy: 0.9962\n",
      "Epoch 37/180\n",
      "3155/3155 [==============================] - 0s 94us/sample - loss: 0.3951 - wine_quality_loss: 0.3651 - wine_type_loss: 0.0303 - wine_quality_root_mean_squared_error: 0.6039 - wine_type_accuracy: 0.9940 - val_loss: 0.3692 - val_wine_quality_loss: 0.3381 - val_wine_type_loss: 0.0294 - val_wine_quality_root_mean_squared_error: 0.5826 - val_wine_type_accuracy: 0.9949\n",
      "Epoch 38/180\n",
      "3155/3155 [==============================] - 0s 96us/sample - loss: 0.3884 - wine_quality_loss: 0.3587 - wine_type_loss: 0.0299 - wine_quality_root_mean_squared_error: 0.5987 - wine_type_accuracy: 0.9940 - val_loss: 0.3711 - val_wine_quality_loss: 0.3403 - val_wine_type_loss: 0.0292 - val_wine_quality_root_mean_squared_error: 0.5844 - val_wine_type_accuracy: 0.9949\n",
      "Epoch 39/180\n",
      "3155/3155 [==============================] - 0s 94us/sample - loss: 0.3806 - wine_quality_loss: 0.3506 - wine_type_loss: 0.0296 - wine_quality_root_mean_squared_error: 0.5924 - wine_type_accuracy: 0.9943 - val_loss: 0.3650 - val_wine_quality_loss: 0.3345 - val_wine_type_loss: 0.0293 - val_wine_quality_root_mean_squared_error: 0.5791 - val_wine_type_accuracy: 0.9949\n",
      "Epoch 40/180\n",
      "3155/3155 [==============================] - 0s 97us/sample - loss: 0.3773 - wine_quality_loss: 0.3481 - wine_type_loss: 0.0294 - wine_quality_root_mean_squared_error: 0.5897 - wine_type_accuracy: 0.9940 - val_loss: 0.3606 - val_wine_quality_loss: 0.3304 - val_wine_type_loss: 0.0291 - val_wine_quality_root_mean_squared_error: 0.5755 - val_wine_type_accuracy: 0.9949\n",
      "Epoch 41/180\n",
      "3155/3155 [==============================] - 0s 93us/sample - loss: 0.3731 - wine_quality_loss: 0.3433 - wine_type_loss: 0.0292 - wine_quality_root_mean_squared_error: 0.5864 - wine_type_accuracy: 0.9943 - val_loss: 0.3576 - val_wine_quality_loss: 0.3271 - val_wine_type_loss: 0.0289 - val_wine_quality_root_mean_squared_error: 0.5730 - val_wine_type_accuracy: 0.9949\n",
      "Epoch 42/180\n",
      "3155/3155 [==============================] - 0s 99us/sample - loss: 0.3682 - wine_quality_loss: 0.3396 - wine_type_loss: 0.0288 - wine_quality_root_mean_squared_error: 0.5825 - wine_type_accuracy: 0.9940 - val_loss: 0.3542 - val_wine_quality_loss: 0.3241 - val_wine_type_loss: 0.0288 - val_wine_quality_root_mean_squared_error: 0.5701 - val_wine_type_accuracy: 0.9949\n",
      "Epoch 43/180\n",
      "3155/3155 [==============================] - 0s 91us/sample - loss: 0.3663 - wine_quality_loss: 0.3374 - wine_type_loss: 0.0288 - wine_quality_root_mean_squared_error: 0.5810 - wine_type_accuracy: 0.9940 - val_loss: 0.3454 - val_wine_quality_loss: 0.3155 - val_wine_type_loss: 0.0285 - val_wine_quality_root_mean_squared_error: 0.5626 - val_wine_type_accuracy: 0.9949\n",
      "Epoch 44/180\n",
      "3155/3155 [==============================] - 0s 96us/sample - loss: 0.3619 - wine_quality_loss: 0.3337 - wine_type_loss: 0.0284 - wine_quality_root_mean_squared_error: 0.5774 - wine_type_accuracy: 0.9943 - val_loss: 0.3469 - val_wine_quality_loss: 0.3168 - val_wine_type_loss: 0.0285 - val_wine_quality_root_mean_squared_error: 0.5640 - val_wine_type_accuracy: 0.9949\n",
      "Epoch 45/180\n",
      "3155/3155 [==============================] - 0s 96us/sample - loss: 0.3596 - wine_quality_loss: 0.3317 - wine_type_loss: 0.0282 - wine_quality_root_mean_squared_error: 0.5756 - wine_type_accuracy: 0.9946 - val_loss: 0.3415 - val_wine_quality_loss: 0.3116 - val_wine_type_loss: 0.0284 - val_wine_quality_root_mean_squared_error: 0.5592 - val_wine_type_accuracy: 0.9949\n",
      "Epoch 46/180\n",
      "3155/3155 [==============================] - 0s 92us/sample - loss: 0.3572 - wine_quality_loss: 0.3287 - wine_type_loss: 0.0280 - wine_quality_root_mean_squared_error: 0.5737 - wine_type_accuracy: 0.9943 - val_loss: 0.3419 - val_wine_quality_loss: 0.3122 - val_wine_type_loss: 0.0281 - val_wine_quality_root_mean_squared_error: 0.5598 - val_wine_type_accuracy: 0.9949\n",
      "Epoch 47/180\n",
      "3155/3155 [==============================] - 0s 97us/sample - loss: 0.3537 - wine_quality_loss: 0.3259 - wine_type_loss: 0.0278 - wine_quality_root_mean_squared_error: 0.5709 - wine_type_accuracy: 0.9943 - val_loss: 0.3396 - val_wine_quality_loss: 0.3100 - val_wine_type_loss: 0.0280 - val_wine_quality_root_mean_squared_error: 0.5579 - val_wine_type_accuracy: 0.9949\n",
      "Epoch 48/180\n",
      "3155/3155 [==============================] - 0s 92us/sample - loss: 0.3519 - wine_quality_loss: 0.3238 - wine_type_loss: 0.0276 - wine_quality_root_mean_squared_error: 0.5694 - wine_type_accuracy: 0.9943 - val_loss: 0.3402 - val_wine_quality_loss: 0.3108 - val_wine_type_loss: 0.0280 - val_wine_quality_root_mean_squared_error: 0.5584 - val_wine_type_accuracy: 0.9949\n",
      "Epoch 49/180\n",
      "3155/3155 [==============================] - 0s 95us/sample - loss: 0.3495 - wine_quality_loss: 0.3213 - wine_type_loss: 0.0273 - wine_quality_root_mean_squared_error: 0.5675 - wine_type_accuracy: 0.9946 - val_loss: 0.3367 - val_wine_quality_loss: 0.3074 - val_wine_type_loss: 0.0279 - val_wine_quality_root_mean_squared_error: 0.5554 - val_wine_type_accuracy: 0.9949\n",
      "Epoch 50/180\n",
      "3155/3155 [==============================] - 0s 97us/sample - loss: 0.3469 - wine_quality_loss: 0.3195 - wine_type_loss: 0.0271 - wine_quality_root_mean_squared_error: 0.5654 - wine_type_accuracy: 0.9946 - val_loss: 0.3388 - val_wine_quality_loss: 0.3096 - val_wine_type_loss: 0.0277 - val_wine_quality_root_mean_squared_error: 0.5574 - val_wine_type_accuracy: 0.9949\n",
      "Epoch 51/180\n",
      "3155/3155 [==============================] - 0s 93us/sample - loss: 0.3454 - wine_quality_loss: 0.3181 - wine_type_loss: 0.0269 - wine_quality_root_mean_squared_error: 0.5642 - wine_type_accuracy: 0.9949 - val_loss: 0.3386 - val_wine_quality_loss: 0.3094 - val_wine_type_loss: 0.0277 - val_wine_quality_root_mean_squared_error: 0.5573 - val_wine_type_accuracy: 0.9949\n",
      "Epoch 52/180\n",
      "3155/3155 [==============================] - 0s 98us/sample - loss: 0.3433 - wine_quality_loss: 0.3167 - wine_type_loss: 0.0282 - wine_quality_root_mean_squared_error: 0.5626 - wine_type_accuracy: 0.9949 - val_loss: 0.3344 - val_wine_quality_loss: 0.3055 - val_wine_type_loss: 0.0276 - val_wine_quality_root_mean_squared_error: 0.5536 - val_wine_type_accuracy: 0.9949\n",
      "Epoch 53/180\n",
      "3155/3155 [==============================] - 0s 92us/sample - loss: 0.3427 - wine_quality_loss: 0.3156 - wine_type_loss: 0.0265 - wine_quality_root_mean_squared_error: 0.5622 - wine_type_accuracy: 0.9949 - val_loss: 0.3336 - val_wine_quality_loss: 0.3048 - val_wine_type_loss: 0.0277 - val_wine_quality_root_mean_squared_error: 0.5529 - val_wine_type_accuracy: 0.9949\n",
      "Epoch 54/180\n",
      "3155/3155 [==============================] - 0s 98us/sample - loss: 0.3396 - wine_quality_loss: 0.3133 - wine_type_loss: 0.0263 - wine_quality_root_mean_squared_error: 0.5597 - wine_type_accuracy: 0.9949 - val_loss: 0.3328 - val_wine_quality_loss: 0.3041 - val_wine_type_loss: 0.0276 - val_wine_quality_root_mean_squared_error: 0.5522 - val_wine_type_accuracy: 0.9949\n",
      "Epoch 55/180\n",
      "3155/3155 [==============================] - 0s 95us/sample - loss: 0.3387 - wine_quality_loss: 0.3124 - wine_type_loss: 0.0262 - wine_quality_root_mean_squared_error: 0.5589 - wine_type_accuracy: 0.9949 - val_loss: 0.3333 - val_wine_quality_loss: 0.3045 - val_wine_type_loss: 0.0275 - val_wine_quality_root_mean_squared_error: 0.5527 - val_wine_type_accuracy: 0.9949\n",
      "Epoch 56/180\n",
      "3155/3155 [==============================] - 0s 92us/sample - loss: 0.3369 - wine_quality_loss: 0.3106 - wine_type_loss: 0.0260 - wine_quality_root_mean_squared_error: 0.5575 - wine_type_accuracy: 0.9946 - val_loss: 0.3291 - val_wine_quality_loss: 0.3004 - val_wine_type_loss: 0.0273 - val_wine_quality_root_mean_squared_error: 0.5491 - val_wine_type_accuracy: 0.9949\n",
      "Epoch 57/180\n",
      "3155/3155 [==============================] - 0s 94us/sample - loss: 0.3356 - wine_quality_loss: 0.3097 - wine_type_loss: 0.0258 - wine_quality_root_mean_squared_error: 0.5565 - wine_type_accuracy: 0.9949 - val_loss: 0.3268 - val_wine_quality_loss: 0.2983 - val_wine_type_loss: 0.0274 - val_wine_quality_root_mean_squared_error: 0.5469 - val_wine_type_accuracy: 0.9949\n",
      "Epoch 58/180\n",
      "3155/3155 [==============================] - 0s 99us/sample - loss: 0.3352 - wine_quality_loss: 0.3093 - wine_type_loss: 0.0258 - wine_quality_root_mean_squared_error: 0.5562 - wine_type_accuracy: 0.9949 - val_loss: 0.3306 - val_wine_quality_loss: 0.3023 - val_wine_type_loss: 0.0273 - val_wine_quality_root_mean_squared_error: 0.5504 - val_wine_type_accuracy: 0.9949\n",
      "Epoch 59/180\n",
      "3155/3155 [==============================] - 0s 95us/sample - loss: 0.3329 - wine_quality_loss: 0.3083 - wine_type_loss: 0.0256 - wine_quality_root_mean_squared_error: 0.5543 - wine_type_accuracy: 0.9949 - val_loss: 0.3286 - val_wine_quality_loss: 0.3002 - val_wine_type_loss: 0.0272 - val_wine_quality_root_mean_squared_error: 0.5487 - val_wine_type_accuracy: 0.9949\n",
      "Epoch 60/180\n",
      "3155/3155 [==============================] - 0s 91us/sample - loss: 0.3326 - wine_quality_loss: 0.3067 - wine_type_loss: 0.0254 - wine_quality_root_mean_squared_error: 0.5541 - wine_type_accuracy: 0.9952 - val_loss: 0.3287 - val_wine_quality_loss: 0.3002 - val_wine_type_loss: 0.0272 - val_wine_quality_root_mean_squared_error: 0.5488 - val_wine_type_accuracy: 0.9949\n",
      "Epoch 61/180\n",
      "3155/3155 [==============================] - 0s 99us/sample - loss: 0.3304 - wine_quality_loss: 0.3051 - wine_type_loss: 0.0252 - wine_quality_root_mean_squared_error: 0.5523 - wine_type_accuracy: 0.9949 - val_loss: 0.3342 - val_wine_quality_loss: 0.3059 - val_wine_type_loss: 0.0271 - val_wine_quality_root_mean_squared_error: 0.5539 - val_wine_type_accuracy: 0.9949\n",
      "Epoch 62/180\n",
      "3155/3155 [==============================] - 0s 93us/sample - loss: 0.3303 - wine_quality_loss: 0.3052 - wine_type_loss: 0.0250 - wine_quality_root_mean_squared_error: 0.5524 - wine_type_accuracy: 0.9952 - val_loss: 0.3353 - val_wine_quality_loss: 0.3075 - val_wine_type_loss: 0.0269 - val_wine_quality_root_mean_squared_error: 0.5550 - val_wine_type_accuracy: 0.9949\n",
      "Epoch 63/180\n",
      "3155/3155 [==============================] - 0s 98us/sample - loss: 0.3284 - wine_quality_loss: 0.3034 - wine_type_loss: 0.0249 - wine_quality_root_mean_squared_error: 0.5508 - wine_type_accuracy: 0.9952 - val_loss: 0.3251 - val_wine_quality_loss: 0.2972 - val_wine_type_loss: 0.0268 - val_wine_quality_root_mean_squared_error: 0.5459 - val_wine_type_accuracy: 0.9949\n",
      "Epoch 64/180\n",
      "3155/3155 [==============================] - 0s 92us/sample - loss: 0.3275 - wine_quality_loss: 0.3022 - wine_type_loss: 0.0248 - wine_quality_root_mean_squared_error: 0.5502 - wine_type_accuracy: 0.9956 - val_loss: 0.3270 - val_wine_quality_loss: 0.2986 - val_wine_type_loss: 0.0269 - val_wine_quality_root_mean_squared_error: 0.5475 - val_wine_type_accuracy: 0.9949\n",
      "Epoch 65/180\n",
      "3155/3155 [==============================] - 0s 94us/sample - loss: 0.3267 - wine_quality_loss: 0.3020 - wine_type_loss: 0.0246 - wine_quality_root_mean_squared_error: 0.5496 - wine_type_accuracy: 0.9956 - val_loss: 0.3258 - val_wine_quality_loss: 0.2979 - val_wine_type_loss: 0.0268 - val_wine_quality_root_mean_squared_error: 0.5465 - val_wine_type_accuracy: 0.9949\n",
      "Epoch 66/180\n",
      "3155/3155 [==============================] - 0s 95us/sample - loss: 0.3242 - wine_quality_loss: 0.2995 - wine_type_loss: 0.0244 - wine_quality_root_mean_squared_error: 0.5474 - wine_type_accuracy: 0.9956 - val_loss: 0.3320 - val_wine_quality_loss: 0.3037 - val_wine_type_loss: 0.0269 - val_wine_quality_root_mean_squared_error: 0.5520 - val_wine_type_accuracy: 0.9949\n",
      "Epoch 67/180\n",
      "3155/3155 [==============================] - 0s 95us/sample - loss: 0.3236 - wine_quality_loss: 0.2989 - wine_type_loss: 0.0244 - wine_quality_root_mean_squared_error: 0.5470 - wine_type_accuracy: 0.9952 - val_loss: 0.3228 - val_wine_quality_loss: 0.2948 - val_wine_type_loss: 0.0268 - val_wine_quality_root_mean_squared_error: 0.5438 - val_wine_type_accuracy: 0.9949\n",
      "Epoch 68/180\n",
      "3155/3155 [==============================] - 0s 95us/sample - loss: 0.3231 - wine_quality_loss: 0.2986 - wine_type_loss: 0.0242 - wine_quality_root_mean_squared_error: 0.5467 - wine_type_accuracy: 0.9956 - val_loss: 0.3260 - val_wine_quality_loss: 0.2984 - val_wine_type_loss: 0.0267 - val_wine_quality_root_mean_squared_error: 0.5467 - val_wine_type_accuracy: 0.9949\n",
      "Epoch 69/180\n",
      "3155/3155 [==============================] - 0s 95us/sample - loss: 0.3223 - wine_quality_loss: 0.2991 - wine_type_loss: 0.0241 - wine_quality_root_mean_squared_error: 0.5460 - wine_type_accuracy: 0.9952 - val_loss: 0.3337 - val_wine_quality_loss: 0.3056 - val_wine_type_loss: 0.0268 - val_wine_quality_root_mean_squared_error: 0.5537 - val_wine_type_accuracy: 0.9949\n",
      "Epoch 70/180\n",
      "3155/3155 [==============================] - 0s 95us/sample - loss: 0.3209 - wine_quality_loss: 0.2973 - wine_type_loss: 0.0239 - wine_quality_root_mean_squared_error: 0.5449 - wine_type_accuracy: 0.9956 - val_loss: 0.3238 - val_wine_quality_loss: 0.2962 - val_wine_type_loss: 0.0267 - val_wine_quality_root_mean_squared_error: 0.5448 - val_wine_type_accuracy: 0.9949\n",
      "Epoch 71/180\n",
      "3155/3155 [==============================] - 0s 74us/sample - loss: 0.3211 - wine_quality_loss: 0.2965 - wine_type_loss: 0.0239 - wine_quality_root_mean_squared_error: 0.5452 - wine_type_accuracy: 0.9956 - val_loss: 0.3246 - val_wine_quality_loss: 0.2969 - val_wine_type_loss: 0.0264 - val_wine_quality_root_mean_squared_error: 0.5458 - val_wine_type_accuracy: 0.9949\n",
      "Epoch 72/180\n",
      "3155/3155 [==============================] - 0s 111us/sample - loss: 0.3191 - wine_quality_loss: 0.2961 - wine_type_loss: 0.0240 - wine_quality_root_mean_squared_error: 0.5434 - wine_type_accuracy: 0.9956 - val_loss: 0.3214 - val_wine_quality_loss: 0.2940 - val_wine_type_loss: 0.0264 - val_wine_quality_root_mean_squared_error: 0.5428 - val_wine_type_accuracy: 0.9949\n",
      "Epoch 73/180\n",
      "3155/3155 [==============================] - 0s 95us/sample - loss: 0.3187 - wine_quality_loss: 0.2948 - wine_type_loss: 0.0235 - wine_quality_root_mean_squared_error: 0.5432 - wine_type_accuracy: 0.9956 - val_loss: 0.3237 - val_wine_quality_loss: 0.2963 - val_wine_type_loss: 0.0264 - val_wine_quality_root_mean_squared_error: 0.5450 - val_wine_type_accuracy: 0.9949\n",
      "Epoch 74/180\n",
      "3155/3155 [==============================] - 0s 94us/sample - loss: 0.3179 - wine_quality_loss: 0.2943 - wine_type_loss: 0.0234 - wine_quality_root_mean_squared_error: 0.5426 - wine_type_accuracy: 0.9956 - val_loss: 0.3362 - val_wine_quality_loss: 0.3086 - val_wine_type_loss: 0.0263 - val_wine_quality_root_mean_squared_error: 0.5564 - val_wine_type_accuracy: 0.9949\n",
      "Epoch 75/180\n",
      "3155/3155 [==============================] - 0s 95us/sample - loss: 0.3178 - wine_quality_loss: 0.2952 - wine_type_loss: 0.0232 - wine_quality_root_mean_squared_error: 0.5427 - wine_type_accuracy: 0.9959 - val_loss: 0.3223 - val_wine_quality_loss: 0.2953 - val_wine_type_loss: 0.0261 - val_wine_quality_root_mean_squared_error: 0.5440 - val_wine_type_accuracy: 0.9949\n",
      "Epoch 76/180\n",
      "3155/3155 [==============================] - 0s 102us/sample - loss: 0.3155 - wine_quality_loss: 0.2933 - wine_type_loss: 0.0230 - wine_quality_root_mean_squared_error: 0.5408 - wine_type_accuracy: 0.9959 - val_loss: 0.3296 - val_wine_quality_loss: 0.3023 - val_wine_type_loss: 0.0262 - val_wine_quality_root_mean_squared_error: 0.5505 - val_wine_type_accuracy: 0.9949\n",
      "Epoch 77/180\n",
      "3155/3155 [==============================] - 0s 96us/sample - loss: 0.3152 - wine_quality_loss: 0.2924 - wine_type_loss: 0.0230 - wine_quality_root_mean_squared_error: 0.5406 - wine_type_accuracy: 0.9959 - val_loss: 0.3258 - val_wine_quality_loss: 0.2988 - val_wine_type_loss: 0.0261 - val_wine_quality_root_mean_squared_error: 0.5471 - val_wine_type_accuracy: 0.9949\n",
      "Epoch 78/180\n",
      "3155/3155 [==============================] - 0s 94us/sample - loss: 0.3145 - wine_quality_loss: 0.2921 - wine_type_loss: 0.0229 - wine_quality_root_mean_squared_error: 0.5400 - wine_type_accuracy: 0.9959 - val_loss: 0.3250 - val_wine_quality_loss: 0.2978 - val_wine_type_loss: 0.0260 - val_wine_quality_root_mean_squared_error: 0.5466 - val_wine_type_accuracy: 0.9949\n",
      "Epoch 79/180\n",
      "3155/3155 [==============================] - 0s 96us/sample - loss: 0.3128 - wine_quality_loss: 0.2900 - wine_type_loss: 0.0227 - wine_quality_root_mean_squared_error: 0.5385 - wine_type_accuracy: 0.9959 - val_loss: 0.3215 - val_wine_quality_loss: 0.2944 - val_wine_type_loss: 0.0260 - val_wine_quality_root_mean_squared_error: 0.5433 - val_wine_type_accuracy: 0.9949\n",
      "Epoch 80/180\n",
      "3155/3155 [==============================] - 0s 71us/sample - loss: 0.3129 - wine_quality_loss: 0.2899 - wine_type_loss: 0.0226 - wine_quality_root_mean_squared_error: 0.5387 - wine_type_accuracy: 0.9959 - val_loss: 0.3182 - val_wine_quality_loss: 0.2913 - val_wine_type_loss: 0.0260 - val_wine_quality_root_mean_squared_error: 0.5403 - val_wine_type_accuracy: 0.9949\n",
      "Epoch 81/180\n",
      "3155/3155 [==============================] - 0s 108us/sample - loss: 0.3123 - wine_quality_loss: 0.2893 - wine_type_loss: 0.0225 - wine_quality_root_mean_squared_error: 0.5383 - wine_type_accuracy: 0.9959 - val_loss: 0.3258 - val_wine_quality_loss: 0.2989 - val_wine_type_loss: 0.0259 - val_wine_quality_root_mean_squared_error: 0.5473 - val_wine_type_accuracy: 0.9949\n",
      "Epoch 82/180\n",
      "3155/3155 [==============================] - 0s 96us/sample - loss: 0.3119 - wine_quality_loss: 0.2891 - wine_type_loss: 0.0224 - wine_quality_root_mean_squared_error: 0.5380 - wine_type_accuracy: 0.9962 - val_loss: 0.3226 - val_wine_quality_loss: 0.2959 - val_wine_type_loss: 0.0259 - val_wine_quality_root_mean_squared_error: 0.5444 - val_wine_type_accuracy: 0.9949\n",
      "Epoch 83/180\n",
      "3155/3155 [==============================] - 0s 97us/sample - loss: 0.3102 - wine_quality_loss: 0.2872 - wine_type_loss: 0.0226 - wine_quality_root_mean_squared_error: 0.5365 - wine_type_accuracy: 0.9962 - val_loss: 0.3259 - val_wine_quality_loss: 0.2989 - val_wine_type_loss: 0.0258 - val_wine_quality_root_mean_squared_error: 0.5475 - val_wine_type_accuracy: 0.9949\n",
      "Epoch 84/180\n",
      "3155/3155 [==============================] - 0s 76us/sample - loss: 0.3103 - wine_quality_loss: 0.2880 - wine_type_loss: 0.0221 - wine_quality_root_mean_squared_error: 0.5368 - wine_type_accuracy: 0.9959 - val_loss: 0.3180 - val_wine_quality_loss: 0.2911 - val_wine_type_loss: 0.0258 - val_wine_quality_root_mean_squared_error: 0.5403 - val_wine_type_accuracy: 0.9949\n",
      "Epoch 85/180\n",
      "3155/3155 [==============================] - 0s 110us/sample - loss: 0.3093 - wine_quality_loss: 0.2870 - wine_type_loss: 0.0221 - wine_quality_root_mean_squared_error: 0.5359 - wine_type_accuracy: 0.9962 - val_loss: 0.3248 - val_wine_quality_loss: 0.2978 - val_wine_type_loss: 0.0258 - val_wine_quality_root_mean_squared_error: 0.5465 - val_wine_type_accuracy: 0.9949\n",
      "Epoch 86/180\n",
      "3155/3155 [==============================] - 0s 92us/sample - loss: 0.3072 - wine_quality_loss: 0.2851 - wine_type_loss: 0.0219 - wine_quality_root_mean_squared_error: 0.5340 - wine_type_accuracy: 0.9962 - val_loss: 0.3226 - val_wine_quality_loss: 0.2959 - val_wine_type_loss: 0.0256 - val_wine_quality_root_mean_squared_error: 0.5446 - val_wine_type_accuracy: 0.9949\n",
      "Epoch 87/180\n",
      "3155/3155 [==============================] - 0s 59us/sample - loss: 0.3076 - wine_quality_loss: 0.2860 - wine_type_loss: 0.0218 - wine_quality_root_mean_squared_error: 0.5345 - wine_type_accuracy: 0.9962 - val_loss: 0.3218 - val_wine_quality_loss: 0.2950 - val_wine_type_loss: 0.0257 - val_wine_quality_root_mean_squared_error: 0.5438 - val_wine_type_accuracy: 0.9949\n",
      "Epoch 88/180\n",
      "3155/3155 [==============================] - 0s 88us/sample - loss: 0.3078 - wine_quality_loss: 0.2864 - wine_type_loss: 0.0217 - wine_quality_root_mean_squared_error: 0.5348 - wine_type_accuracy: 0.9962 - val_loss: 0.3187 - val_wine_quality_loss: 0.2920 - val_wine_type_loss: 0.0256 - val_wine_quality_root_mean_squared_error: 0.5411 - val_wine_type_accuracy: 0.9949\n",
      "Epoch 89/180\n",
      "3155/3155 [==============================] - 0s 110us/sample - loss: 0.3051 - wine_quality_loss: 0.2828 - wine_type_loss: 0.0216 - wine_quality_root_mean_squared_error: 0.5324 - wine_type_accuracy: 0.9962 - val_loss: 0.3256 - val_wine_quality_loss: 0.2991 - val_wine_type_loss: 0.0255 - val_wine_quality_root_mean_squared_error: 0.5476 - val_wine_type_accuracy: 0.9949\n",
      "Epoch 90/180\n",
      "3155/3155 [==============================] - 0s 73us/sample - loss: 0.3053 - wine_quality_loss: 0.2831 - wine_type_loss: 0.0215 - wine_quality_root_mean_squared_error: 0.5327 - wine_type_accuracy: 0.9962 - val_loss: 0.3238 - val_wine_quality_loss: 0.2972 - val_wine_type_loss: 0.0255 - val_wine_quality_root_mean_squared_error: 0.5459 - val_wine_type_accuracy: 0.9949\n",
      "Epoch 91/180\n",
      "3155/3155 [==============================] - 0s 75us/sample - loss: 0.3056 - wine_quality_loss: 0.2844 - wine_type_loss: 0.0213 - wine_quality_root_mean_squared_error: 0.5331 - wine_type_accuracy: 0.9962 - val_loss: 0.3180 - val_wine_quality_loss: 0.2917 - val_wine_type_loss: 0.0255 - val_wine_quality_root_mean_squared_error: 0.5405 - val_wine_type_accuracy: 0.9949\n",
      "Epoch 92/180\n",
      "3155/3155 [==============================] - 0s 110us/sample - loss: 0.3034 - wine_quality_loss: 0.2821 - wine_type_loss: 0.0213 - wine_quality_root_mean_squared_error: 0.5311 - wine_type_accuracy: 0.9962 - val_loss: 0.3205 - val_wine_quality_loss: 0.2937 - val_wine_type_loss: 0.0255 - val_wine_quality_root_mean_squared_error: 0.5428 - val_wine_type_accuracy: 0.9949\n",
      "Epoch 93/180\n",
      "3155/3155 [==============================] - 0s 98us/sample - loss: 0.3028 - wine_quality_loss: 0.2817 - wine_type_loss: 0.0212 - wine_quality_root_mean_squared_error: 0.5306 - wine_type_accuracy: 0.9962 - val_loss: 0.3251 - val_wine_quality_loss: 0.2984 - val_wine_type_loss: 0.0256 - val_wine_quality_root_mean_squared_error: 0.5470 - val_wine_type_accuracy: 0.9949\n",
      "Epoch 94/180\n",
      "3155/3155 [==============================] - 0s 76us/sample - loss: 0.3039 - wine_quality_loss: 0.2827 - wine_type_loss: 0.0211 - wine_quality_root_mean_squared_error: 0.5317 - wine_type_accuracy: 0.9962 - val_loss: 0.3180 - val_wine_quality_loss: 0.2914 - val_wine_type_loss: 0.0255 - val_wine_quality_root_mean_squared_error: 0.5405 - val_wine_type_accuracy: 0.9949\n",
      "Epoch 95/180\n",
      "3155/3155 [==============================] - 0s 111us/sample - loss: 0.3025 - wine_quality_loss: 0.2814 - wine_type_loss: 0.0210 - wine_quality_root_mean_squared_error: 0.5306 - wine_type_accuracy: 0.9962 - val_loss: 0.3195 - val_wine_quality_loss: 0.2933 - val_wine_type_loss: 0.0253 - val_wine_quality_root_mean_squared_error: 0.5421 - val_wine_type_accuracy: 0.9949\n",
      "Epoch 96/180\n",
      "3155/3155 [==============================] - 0s 96us/sample - loss: 0.3007 - wine_quality_loss: 0.2794 - wine_type_loss: 0.0208 - wine_quality_root_mean_squared_error: 0.5289 - wine_type_accuracy: 0.9962 - val_loss: 0.3216 - val_wine_quality_loss: 0.2954 - val_wine_type_loss: 0.0254 - val_wine_quality_root_mean_squared_error: 0.5440 - val_wine_type_accuracy: 0.9949\n",
      "Epoch 97/180\n",
      "3155/3155 [==============================] - 0s 74us/sample - loss: 0.3010 - wine_quality_loss: 0.2799 - wine_type_loss: 0.0207 - wine_quality_root_mean_squared_error: 0.5294 - wine_type_accuracy: 0.9962 - val_loss: 0.3186 - val_wine_quality_loss: 0.2925 - val_wine_type_loss: 0.0253 - val_wine_quality_root_mean_squared_error: 0.5413 - val_wine_type_accuracy: 0.9949\n",
      "Epoch 98/180\n",
      "3155/3155 [==============================] - 0s 111us/sample - loss: 0.3000 - wine_quality_loss: 0.2790 - wine_type_loss: 0.0206 - wine_quality_root_mean_squared_error: 0.5285 - wine_type_accuracy: 0.9962 - val_loss: 0.3250 - val_wine_quality_loss: 0.2985 - val_wine_type_loss: 0.0252 - val_wine_quality_root_mean_squared_error: 0.5472 - val_wine_type_accuracy: 0.9949\n",
      "Epoch 99/180\n",
      "3155/3155 [==============================] - 0s 74us/sample - loss: 0.3002 - wine_quality_loss: 0.2796 - wine_type_loss: 0.0205 - wine_quality_root_mean_squared_error: 0.5288 - wine_type_accuracy: 0.9962 - val_loss: 0.3172 - val_wine_quality_loss: 0.2911 - val_wine_type_loss: 0.0252 - val_wine_quality_root_mean_squared_error: 0.5400 - val_wine_type_accuracy: 0.9949\n",
      "Epoch 100/180\n",
      "3155/3155 [==============================] - 0s 96us/sample - loss: 0.2998 - wine_quality_loss: 0.2794 - wine_type_loss: 0.0204 - wine_quality_root_mean_squared_error: 0.5285 - wine_type_accuracy: 0.9962 - val_loss: 0.3176 - val_wine_quality_loss: 0.2915 - val_wine_type_loss: 0.0253 - val_wine_quality_root_mean_squared_error: 0.5403 - val_wine_type_accuracy: 0.9949\n",
      "Epoch 101/180\n",
      "3155/3155 [==============================] - 0s 89us/sample - loss: 0.2988 - wine_quality_loss: 0.2781 - wine_type_loss: 0.0204 - wine_quality_root_mean_squared_error: 0.5277 - wine_type_accuracy: 0.9962 - val_loss: 0.3176 - val_wine_quality_loss: 0.2916 - val_wine_type_loss: 0.0251 - val_wine_quality_root_mean_squared_error: 0.5405 - val_wine_type_accuracy: 0.9949\n",
      "Epoch 102/180\n",
      "3155/3155 [==============================] - 0s 102us/sample - loss: 0.2976 - wine_quality_loss: 0.2782 - wine_type_loss: 0.0213 - wine_quality_root_mean_squared_error: 0.5266 - wine_type_accuracy: 0.9962 - val_loss: 0.3173 - val_wine_quality_loss: 0.2916 - val_wine_type_loss: 0.0250 - val_wine_quality_root_mean_squared_error: 0.5404 - val_wine_type_accuracy: 0.9949\n",
      "Epoch 103/180\n",
      "3155/3155 [==============================] - 0s 70us/sample - loss: 0.2981 - wine_quality_loss: 0.2780 - wine_type_loss: 0.0201 - wine_quality_root_mean_squared_error: 0.5272 - wine_type_accuracy: 0.9962 - val_loss: 0.3181 - val_wine_quality_loss: 0.2923 - val_wine_type_loss: 0.0250 - val_wine_quality_root_mean_squared_error: 0.5411 - val_wine_type_accuracy: 0.9949\n",
      "Epoch 104/180\n",
      "3155/3155 [==============================] - 0s 111us/sample - loss: 0.2956 - wine_quality_loss: 0.2756 - wine_type_loss: 0.0200 - wine_quality_root_mean_squared_error: 0.5249 - wine_type_accuracy: 0.9962 - val_loss: 0.3234 - val_wine_quality_loss: 0.2972 - val_wine_type_loss: 0.0250 - val_wine_quality_root_mean_squared_error: 0.5459 - val_wine_type_accuracy: 0.9949\n",
      "Epoch 105/180\n",
      "3155/3155 [==============================] - 0s 77us/sample - loss: 0.2961 - wine_quality_loss: 0.2759 - wine_type_loss: 0.0199 - wine_quality_root_mean_squared_error: 0.5255 - wine_type_accuracy: 0.9962 - val_loss: 0.3175 - val_wine_quality_loss: 0.2917 - val_wine_type_loss: 0.0249 - val_wine_quality_root_mean_squared_error: 0.5406 - val_wine_type_accuracy: 0.9949\n",
      "Epoch 106/180\n",
      "3155/3155 [==============================] - 0s 89us/sample - loss: 0.2957 - wine_quality_loss: 0.2759 - wine_type_loss: 0.0198 - wine_quality_root_mean_squared_error: 0.5252 - wine_type_accuracy: 0.9962 - val_loss: 0.3174 - val_wine_quality_loss: 0.2914 - val_wine_type_loss: 0.0250 - val_wine_quality_root_mean_squared_error: 0.5404 - val_wine_type_accuracy: 0.9949\n",
      "Epoch 107/180\n",
      "3155/3155 [==============================] - 0s 101us/sample - loss: 0.2953 - wine_quality_loss: 0.2755 - wine_type_loss: 0.0198 - wine_quality_root_mean_squared_error: 0.5248 - wine_type_accuracy: 0.9962 - val_loss: 0.3203 - val_wine_quality_loss: 0.2944 - val_wine_type_loss: 0.0250 - val_wine_quality_root_mean_squared_error: 0.5432 - val_wine_type_accuracy: 0.9949\n",
      "Epoch 108/180\n",
      "3155/3155 [==============================] - 0s 83us/sample - loss: 0.2943 - wine_quality_loss: 0.2746 - wine_type_loss: 0.0197 - wine_quality_root_mean_squared_error: 0.5240 - wine_type_accuracy: 0.9962 - val_loss: 0.3292 - val_wine_quality_loss: 0.3033 - val_wine_type_loss: 0.0250 - val_wine_quality_root_mean_squared_error: 0.5513 - val_wine_type_accuracy: 0.9949\n",
      "Epoch 109/180\n",
      "3155/3155 [==============================] - 0s 95us/sample - loss: 0.2941 - wine_quality_loss: 0.2744 - wine_type_loss: 0.0195 - wine_quality_root_mean_squared_error: 0.5239 - wine_type_accuracy: 0.9962 - val_loss: 0.3203 - val_wine_quality_loss: 0.2944 - val_wine_type_loss: 0.0248 - val_wine_quality_root_mean_squared_error: 0.5433 - val_wine_type_accuracy: 0.9949\n",
      "Epoch 110/180\n",
      "3155/3155 [==============================] - 0s 95us/sample - loss: 0.2934 - wine_quality_loss: 0.2737 - wine_type_loss: 0.0195 - wine_quality_root_mean_squared_error: 0.5234 - wine_type_accuracy: 0.9962 - val_loss: 0.3164 - val_wine_quality_loss: 0.2908 - val_wine_type_loss: 0.0249 - val_wine_quality_root_mean_squared_error: 0.5397 - val_wine_type_accuracy: 0.9949\n",
      "Epoch 111/180\n",
      "3155/3155 [==============================] - 0s 95us/sample - loss: 0.2930 - wine_quality_loss: 0.2739 - wine_type_loss: 0.0194 - wine_quality_root_mean_squared_error: 0.5230 - wine_type_accuracy: 0.9962 - val_loss: 0.3173 - val_wine_quality_loss: 0.2916 - val_wine_type_loss: 0.0248 - val_wine_quality_root_mean_squared_error: 0.5406 - val_wine_type_accuracy: 0.9949\n",
      "Epoch 112/180\n",
      "3155/3155 [==============================] - 0s 95us/sample - loss: 0.2912 - wine_quality_loss: 0.2721 - wine_type_loss: 0.0193 - wine_quality_root_mean_squared_error: 0.5214 - wine_type_accuracy: 0.9962 - val_loss: 0.3164 - val_wine_quality_loss: 0.2905 - val_wine_type_loss: 0.0250 - val_wine_quality_root_mean_squared_error: 0.5396 - val_wine_type_accuracy: 0.9962\n",
      "Epoch 113/180\n",
      "3155/3155 [==============================] - 0s 73us/sample - loss: 0.2917 - wine_quality_loss: 0.2723 - wine_type_loss: 0.0192 - wine_quality_root_mean_squared_error: 0.5219 - wine_type_accuracy: 0.9962 - val_loss: 0.3194 - val_wine_quality_loss: 0.2937 - val_wine_type_loss: 0.0248 - val_wine_quality_root_mean_squared_error: 0.5425 - val_wine_type_accuracy: 0.9949\n",
      "Epoch 114/180\n",
      "3155/3155 [==============================] - 0s 88us/sample - loss: 0.2914 - wine_quality_loss: 0.2716 - wine_type_loss: 0.0192 - wine_quality_root_mean_squared_error: 0.5217 - wine_type_accuracy: 0.9962 - val_loss: 0.3155 - val_wine_quality_loss: 0.2900 - val_wine_type_loss: 0.0247 - val_wine_quality_root_mean_squared_error: 0.5389 - val_wine_type_accuracy: 0.9949\n",
      "Epoch 115/180\n",
      "3155/3155 [==============================] - 0s 98us/sample - loss: 0.2908 - wine_quality_loss: 0.2720 - wine_type_loss: 0.0191 - wine_quality_root_mean_squared_error: 0.5212 - wine_type_accuracy: 0.9962 - val_loss: 0.3184 - val_wine_quality_loss: 0.2926 - val_wine_type_loss: 0.0247 - val_wine_quality_root_mean_squared_error: 0.5416 - val_wine_type_accuracy: 0.9949\n",
      "Epoch 116/180\n",
      "3155/3155 [==============================] - 0s 88us/sample - loss: 0.2902 - wine_quality_loss: 0.2707 - wine_type_loss: 0.0190 - wine_quality_root_mean_squared_error: 0.5206 - wine_type_accuracy: 0.9962 - val_loss: 0.3158 - val_wine_quality_loss: 0.2904 - val_wine_type_loss: 0.0245 - val_wine_quality_root_mean_squared_error: 0.5394 - val_wine_type_accuracy: 0.9949\n",
      "Epoch 117/180\n",
      "3155/3155 [==============================] - 0s 95us/sample - loss: 0.2899 - wine_quality_loss: 0.2707 - wine_type_loss: 0.0189 - wine_quality_root_mean_squared_error: 0.5205 - wine_type_accuracy: 0.9962 - val_loss: 0.3163 - val_wine_quality_loss: 0.2910 - val_wine_type_loss: 0.0245 - val_wine_quality_root_mean_squared_error: 0.5398 - val_wine_type_accuracy: 0.9949\n",
      "Epoch 118/180\n",
      "3155/3155 [==============================] - 0s 74us/sample - loss: 0.2900 - wine_quality_loss: 0.2711 - wine_type_loss: 0.0188 - wine_quality_root_mean_squared_error: 0.5207 - wine_type_accuracy: 0.9962 - val_loss: 0.3166 - val_wine_quality_loss: 0.2911 - val_wine_type_loss: 0.0246 - val_wine_quality_root_mean_squared_error: 0.5401 - val_wine_type_accuracy: 0.9949\n",
      "Epoch 119/180\n",
      "3155/3155 [==============================] - 0s 109us/sample - loss: 0.2882 - wine_quality_loss: 0.2703 - wine_type_loss: 0.0188 - wine_quality_root_mean_squared_error: 0.5190 - wine_type_accuracy: 0.9962 - val_loss: 0.3214 - val_wine_quality_loss: 0.2960 - val_wine_type_loss: 0.0246 - val_wine_quality_root_mean_squared_error: 0.5445 - val_wine_type_accuracy: 0.9949\n",
      "Epoch 120/180\n",
      "3155/3155 [==============================] - 0s 71us/sample - loss: 0.2890 - wine_quality_loss: 0.2705 - wine_type_loss: 0.0187 - wine_quality_root_mean_squared_error: 0.5198 - wine_type_accuracy: 0.9962 - val_loss: 0.3148 - val_wine_quality_loss: 0.2894 - val_wine_type_loss: 0.0246 - val_wine_quality_root_mean_squared_error: 0.5384 - val_wine_type_accuracy: 0.9949\n",
      "Epoch 121/180\n",
      "3155/3155 [==============================] - 0s 98us/sample - loss: 0.2879 - wine_quality_loss: 0.2691 - wine_type_loss: 0.0198 - wine_quality_root_mean_squared_error: 0.5188 - wine_type_accuracy: 0.9962 - val_loss: 0.3199 - val_wine_quality_loss: 0.2947 - val_wine_type_loss: 0.0245 - val_wine_quality_root_mean_squared_error: 0.5432 - val_wine_type_accuracy: 0.9949\n",
      "Epoch 122/180\n",
      "3155/3155 [==============================] - 0s 93us/sample - loss: 0.2874 - wine_quality_loss: 0.2686 - wine_type_loss: 0.0185 - wine_quality_root_mean_squared_error: 0.5185 - wine_type_accuracy: 0.9962 - val_loss: 0.3186 - val_wine_quality_loss: 0.2936 - val_wine_type_loss: 0.0244 - val_wine_quality_root_mean_squared_error: 0.5421 - val_wine_type_accuracy: 0.9949\n",
      "Epoch 123/180\n",
      "3155/3155 [==============================] - 0s 94us/sample - loss: 0.2872 - wine_quality_loss: 0.2683 - wine_type_loss: 0.0184 - wine_quality_root_mean_squared_error: 0.5183 - wine_type_accuracy: 0.9962 - val_loss: 0.3239 - val_wine_quality_loss: 0.2986 - val_wine_type_loss: 0.0245 - val_wine_quality_root_mean_squared_error: 0.5469 - val_wine_type_accuracy: 0.9962\n",
      "Epoch 124/180\n",
      "3155/3155 [==============================] - 0s 93us/sample - loss: 0.2859 - wine_quality_loss: 0.2673 - wine_type_loss: 0.0184 - wine_quality_root_mean_squared_error: 0.5172 - wine_type_accuracy: 0.9962 - val_loss: 0.3217 - val_wine_quality_loss: 0.2965 - val_wine_type_loss: 0.0245 - val_wine_quality_root_mean_squared_error: 0.5449 - val_wine_type_accuracy: 0.9962\n",
      "Epoch 125/180\n",
      "3155/3155 [==============================] - 0s 73us/sample - loss: 0.2866 - wine_quality_loss: 0.2681 - wine_type_loss: 0.0183 - wine_quality_root_mean_squared_error: 0.5180 - wine_type_accuracy: 0.9962 - val_loss: 0.3207 - val_wine_quality_loss: 0.2958 - val_wine_type_loss: 0.0244 - val_wine_quality_root_mean_squared_error: 0.5441 - val_wine_type_accuracy: 0.9962\n",
      "Epoch 126/180\n",
      "3155/3155 [==============================] - 0s 97us/sample - loss: 0.2844 - wine_quality_loss: 0.2657 - wine_type_loss: 0.0183 - wine_quality_root_mean_squared_error: 0.5158 - wine_type_accuracy: 0.9962 - val_loss: 0.3120 - val_wine_quality_loss: 0.2868 - val_wine_type_loss: 0.0244 - val_wine_quality_root_mean_squared_error: 0.5360 - val_wine_type_accuracy: 0.9962\n",
      "Epoch 127/180\n",
      "3155/3155 [==============================] - 0s 62us/sample - loss: 0.2847 - wine_quality_loss: 0.2669 - wine_type_loss: 0.0182 - wine_quality_root_mean_squared_error: 0.5162 - wine_type_accuracy: 0.9962 - val_loss: 0.3151 - val_wine_quality_loss: 0.2903 - val_wine_type_loss: 0.0244 - val_wine_quality_root_mean_squared_error: 0.5389 - val_wine_type_accuracy: 0.9962\n",
      "Epoch 128/180\n",
      "3155/3155 [==============================] - 0s 94us/sample - loss: 0.2857 - wine_quality_loss: 0.2676 - wine_type_loss: 0.0180 - wine_quality_root_mean_squared_error: 0.5173 - wine_type_accuracy: 0.9962 - val_loss: 0.3201 - val_wine_quality_loss: 0.2949 - val_wine_type_loss: 0.0245 - val_wine_quality_root_mean_squared_error: 0.5434 - val_wine_type_accuracy: 0.9962\n",
      "Epoch 129/180\n",
      "3155/3155 [==============================] - 0s 113us/sample - loss: 0.2835 - wine_quality_loss: 0.2650 - wine_type_loss: 0.0180 - wine_quality_root_mean_squared_error: 0.5151 - wine_type_accuracy: 0.9962 - val_loss: 0.3156 - val_wine_quality_loss: 0.2902 - val_wine_type_loss: 0.0244 - val_wine_quality_root_mean_squared_error: 0.5393 - val_wine_type_accuracy: 0.9962\n",
      "Epoch 130/180\n",
      "3155/3155 [==============================] - 0s 74us/sample - loss: 0.2837 - wine_quality_loss: 0.2655 - wine_type_loss: 0.0180 - wine_quality_root_mean_squared_error: 0.5154 - wine_type_accuracy: 0.9962 - val_loss: 0.3146 - val_wine_quality_loss: 0.2895 - val_wine_type_loss: 0.0244 - val_wine_quality_root_mean_squared_error: 0.5384 - val_wine_type_accuracy: 0.9962\n",
      "Epoch 131/180\n",
      "3155/3155 [==============================] - 0s 93us/sample - loss: 0.2831 - wine_quality_loss: 0.2649 - wine_type_loss: 0.0178 - wine_quality_root_mean_squared_error: 0.5150 - wine_type_accuracy: 0.9965 - val_loss: 0.3200 - val_wine_quality_loss: 0.2951 - val_wine_type_loss: 0.0243 - val_wine_quality_root_mean_squared_error: 0.5435 - val_wine_type_accuracy: 0.9962\n",
      "Epoch 132/180\n",
      "3155/3155 [==============================] - 0s 88us/sample - loss: 0.2825 - wine_quality_loss: 0.2653 - wine_type_loss: 0.0179 - wine_quality_root_mean_squared_error: 0.5145 - wine_type_accuracy: 0.9965 - val_loss: 0.3208 - val_wine_quality_loss: 0.2958 - val_wine_type_loss: 0.0244 - val_wine_quality_root_mean_squared_error: 0.5442 - val_wine_type_accuracy: 0.9962\n",
      "Epoch 133/180\n",
      "3155/3155 [==============================] - 0s 94us/sample - loss: 0.2821 - wine_quality_loss: 0.2641 - wine_type_loss: 0.0177 - wine_quality_root_mean_squared_error: 0.5141 - wine_type_accuracy: 0.9962 - val_loss: 0.3228 - val_wine_quality_loss: 0.2977 - val_wine_type_loss: 0.0243 - val_wine_quality_root_mean_squared_error: 0.5461 - val_wine_type_accuracy: 0.9962\n",
      "Epoch 134/180\n",
      "3155/3155 [==============================] - 0s 94us/sample - loss: 0.2818 - wine_quality_loss: 0.2640 - wine_type_loss: 0.0176 - wine_quality_root_mean_squared_error: 0.5139 - wine_type_accuracy: 0.9965 - val_loss: 0.3155 - val_wine_quality_loss: 0.2908 - val_wine_type_loss: 0.0242 - val_wine_quality_root_mean_squared_error: 0.5394 - val_wine_type_accuracy: 0.9962\n",
      "Epoch 135/180\n",
      "3155/3155 [==============================] - 0s 72us/sample - loss: 0.2820 - wine_quality_loss: 0.2648 - wine_type_loss: 0.0175 - wine_quality_root_mean_squared_error: 0.5142 - wine_type_accuracy: 0.9965 - val_loss: 0.3275 - val_wine_quality_loss: 0.3022 - val_wine_type_loss: 0.0243 - val_wine_quality_root_mean_squared_error: 0.5503 - val_wine_type_accuracy: 0.9962\n",
      "Epoch 136/180\n",
      "3155/3155 [==============================] - 0s 93us/sample - loss: 0.2808 - wine_quality_loss: 0.2637 - wine_type_loss: 0.0175 - wine_quality_root_mean_squared_error: 0.5131 - wine_type_accuracy: 0.9965 - val_loss: 0.3215 - val_wine_quality_loss: 0.2967 - val_wine_type_loss: 0.0242 - val_wine_quality_root_mean_squared_error: 0.5450 - val_wine_type_accuracy: 0.9962\n",
      "Epoch 137/180\n",
      "3155/3155 [==============================] - 0s 89us/sample - loss: 0.2801 - wine_quality_loss: 0.2631 - wine_type_loss: 0.0174 - wine_quality_root_mean_squared_error: 0.5124 - wine_type_accuracy: 0.9965 - val_loss: 0.3236 - val_wine_quality_loss: 0.2984 - val_wine_type_loss: 0.0244 - val_wine_quality_root_mean_squared_error: 0.5467 - val_wine_type_accuracy: 0.9962\n",
      "Epoch 138/180\n",
      "3155/3155 [==============================] - 0s 72us/sample - loss: 0.2806 - wine_quality_loss: 0.2630 - wine_type_loss: 0.0174 - wine_quality_root_mean_squared_error: 0.5130 - wine_type_accuracy: 0.9965 - val_loss: 0.3223 - val_wine_quality_loss: 0.2972 - val_wine_type_loss: 0.0243 - val_wine_quality_root_mean_squared_error: 0.5456 - val_wine_type_accuracy: 0.9962\n",
      "Epoch 139/180\n",
      "3155/3155 [==============================] - 0s 93us/sample - loss: 0.2800 - wine_quality_loss: 0.2625 - wine_type_loss: 0.0173 - wine_quality_root_mean_squared_error: 0.5125 - wine_type_accuracy: 0.9965 - val_loss: 0.3188 - val_wine_quality_loss: 0.2937 - val_wine_type_loss: 0.0244 - val_wine_quality_root_mean_squared_error: 0.5423 - val_wine_type_accuracy: 0.9962\n",
      "Epoch 140/180\n",
      "3155/3155 [==============================] - 0s 91us/sample - loss: 0.2791 - wine_quality_loss: 0.2617 - wine_type_loss: 0.0173 - wine_quality_root_mean_squared_error: 0.5116 - wine_type_accuracy: 0.9965 - val_loss: 0.3161 - val_wine_quality_loss: 0.2910 - val_wine_type_loss: 0.0243 - val_wine_quality_root_mean_squared_error: 0.5399 - val_wine_type_accuracy: 0.9962\n",
      "Epoch 141/180\n",
      "3155/3155 [==============================] - 0s 72us/sample - loss: 0.2791 - wine_quality_loss: 0.2621 - wine_type_loss: 0.0172 - wine_quality_root_mean_squared_error: 0.5118 - wine_type_accuracy: 0.9965 - val_loss: 0.3211 - val_wine_quality_loss: 0.2961 - val_wine_type_loss: 0.0243 - val_wine_quality_root_mean_squared_error: 0.5445 - val_wine_type_accuracy: 0.9962\n",
      "Epoch 142/180\n",
      "3155/3155 [==============================] - 0s 92us/sample - loss: 0.2789 - wine_quality_loss: 0.2618 - wine_type_loss: 0.0171 - wine_quality_root_mean_squared_error: 0.5116 - wine_type_accuracy: 0.9965 - val_loss: 0.3199 - val_wine_quality_loss: 0.2947 - val_wine_type_loss: 0.0245 - val_wine_quality_root_mean_squared_error: 0.5432 - val_wine_type_accuracy: 0.9962\n",
      "Epoch 143/180\n",
      "3155/3155 [==============================] - 0s 88us/sample - loss: 0.2777 - wine_quality_loss: 0.2603 - wine_type_loss: 0.0171 - wine_quality_root_mean_squared_error: 0.5105 - wine_type_accuracy: 0.9965 - val_loss: 0.3291 - val_wine_quality_loss: 0.3039 - val_wine_type_loss: 0.0243 - val_wine_quality_root_mean_squared_error: 0.5518 - val_wine_type_accuracy: 0.9962\n",
      "Epoch 144/180\n",
      "3155/3155 [==============================] - 0s 94us/sample - loss: 0.2768 - wine_quality_loss: 0.2596 - wine_type_loss: 0.0170 - wine_quality_root_mean_squared_error: 0.5097 - wine_type_accuracy: 0.9965 - val_loss: 0.3209 - val_wine_quality_loss: 0.2958 - val_wine_type_loss: 0.0244 - val_wine_quality_root_mean_squared_error: 0.5443 - val_wine_type_accuracy: 0.9962\n",
      "Epoch 145/180\n",
      "3155/3155 [==============================] - 0s 73us/sample - loss: 0.2777 - wine_quality_loss: 0.2603 - wine_type_loss: 0.0169 - wine_quality_root_mean_squared_error: 0.5106 - wine_type_accuracy: 0.9965 - val_loss: 0.3149 - val_wine_quality_loss: 0.2900 - val_wine_type_loss: 0.0242 - val_wine_quality_root_mean_squared_error: 0.5389 - val_wine_type_accuracy: 0.9962\n",
      "Epoch 146/180\n",
      "3155/3155 [==============================] - 0s 105us/sample - loss: 0.2760 - wine_quality_loss: 0.2583 - wine_type_loss: 0.0169 - wine_quality_root_mean_squared_error: 0.5090 - wine_type_accuracy: 0.9965 - val_loss: 0.3144 - val_wine_quality_loss: 0.2896 - val_wine_type_loss: 0.0241 - val_wine_quality_root_mean_squared_error: 0.5385 - val_wine_type_accuracy: 0.9962\n",
      "Epoch 147/180\n",
      "3155/3155 [==============================] - 0s 57us/sample - loss: 0.2769 - wine_quality_loss: 0.2600 - wine_type_loss: 0.0168 - wine_quality_root_mean_squared_error: 0.5100 - wine_type_accuracy: 0.9968 - val_loss: 0.3138 - val_wine_quality_loss: 0.2888 - val_wine_type_loss: 0.0242 - val_wine_quality_root_mean_squared_error: 0.5378 - val_wine_type_accuracy: 0.9962\n",
      "Epoch 148/180\n",
      "3155/3155 [==============================] - 0s 104us/sample - loss: 0.2740 - wine_quality_loss: 0.2572 - wine_type_loss: 0.0168 - wine_quality_root_mean_squared_error: 0.5072 - wine_type_accuracy: 0.9965 - val_loss: 0.3237 - val_wine_quality_loss: 0.2987 - val_wine_type_loss: 0.0242 - val_wine_quality_root_mean_squared_error: 0.5469 - val_wine_type_accuracy: 0.9962\n",
      "Epoch 149/180\n",
      "3155/3155 [==============================] - 0s 59us/sample - loss: 0.2748 - wine_quality_loss: 0.2580 - wine_type_loss: 0.0167 - wine_quality_root_mean_squared_error: 0.5080 - wine_type_accuracy: 0.9965 - val_loss: 0.3321 - val_wine_quality_loss: 0.3073 - val_wine_type_loss: 0.0242 - val_wine_quality_root_mean_squared_error: 0.5546 - val_wine_type_accuracy: 0.9962\n",
      "Epoch 150/180\n",
      "3155/3155 [==============================] - 0s 88us/sample - loss: 0.2754 - wine_quality_loss: 0.2591 - wine_type_loss: 0.0167 - wine_quality_root_mean_squared_error: 0.5086 - wine_type_accuracy: 0.9965 - val_loss: 0.3193 - val_wine_quality_loss: 0.2943 - val_wine_type_loss: 0.0241 - val_wine_quality_root_mean_squared_error: 0.5430 - val_wine_type_accuracy: 0.9962\n",
      "Epoch 151/180\n",
      "3155/3155 [==============================] - 0s 105us/sample - loss: 0.2739 - wine_quality_loss: 0.2576 - wine_type_loss: 0.0165 - wine_quality_root_mean_squared_error: 0.5073 - wine_type_accuracy: 0.9968 - val_loss: 0.3162 - val_wine_quality_loss: 0.2913 - val_wine_type_loss: 0.0242 - val_wine_quality_root_mean_squared_error: 0.5401 - val_wine_type_accuracy: 0.9962\n",
      "Epoch 152/180\n",
      "3155/3155 [==============================] - 0s 57us/sample - loss: 0.2739 - wine_quality_loss: 0.2575 - wine_type_loss: 0.0165 - wine_quality_root_mean_squared_error: 0.5073 - wine_type_accuracy: 0.9965 - val_loss: 0.3154 - val_wine_quality_loss: 0.2907 - val_wine_type_loss: 0.0241 - val_wine_quality_root_mean_squared_error: 0.5394 - val_wine_type_accuracy: 0.9962\n",
      "Epoch 153/180\n",
      "3155/3155 [==============================] - 0s 86us/sample - loss: 0.2747 - wine_quality_loss: 0.2583 - wine_type_loss: 0.0165 - wine_quality_root_mean_squared_error: 0.5081 - wine_type_accuracy: 0.9965 - val_loss: 0.3176 - val_wine_quality_loss: 0.2929 - val_wine_type_loss: 0.0240 - val_wine_quality_root_mean_squared_error: 0.5415 - val_wine_type_accuracy: 0.9962\n",
      "Epoch 154/180\n",
      "3155/3155 [==============================] - 0s 92us/sample - loss: 0.2732 - wine_quality_loss: 0.2566 - wine_type_loss: 0.0164 - wine_quality_root_mean_squared_error: 0.5067 - wine_type_accuracy: 0.9968 - val_loss: 0.3231 - val_wine_quality_loss: 0.2983 - val_wine_type_loss: 0.0240 - val_wine_quality_root_mean_squared_error: 0.5466 - val_wine_type_accuracy: 0.9962\n",
      "Epoch 155/180\n",
      "3155/3155 [==============================] - 0s 71us/sample - loss: 0.2735 - wine_quality_loss: 0.2574 - wine_type_loss: 0.0163 - wine_quality_root_mean_squared_error: 0.5071 - wine_type_accuracy: 0.9965 - val_loss: 0.3209 - val_wine_quality_loss: 0.2960 - val_wine_type_loss: 0.0239 - val_wine_quality_root_mean_squared_error: 0.5447 - val_wine_type_accuracy: 0.9962\n",
      "Epoch 156/180\n",
      "3155/3155 [==============================] - 0s 112us/sample - loss: 0.2719 - wine_quality_loss: 0.2554 - wine_type_loss: 0.0162 - wine_quality_root_mean_squared_error: 0.5056 - wine_type_accuracy: 0.9968 - val_loss: 0.3267 - val_wine_quality_loss: 0.3018 - val_wine_type_loss: 0.0239 - val_wine_quality_root_mean_squared_error: 0.5500 - val_wine_type_accuracy: 0.9962\n",
      "Epoch 157/180\n",
      "3155/3155 [==============================] - 0s 74us/sample - loss: 0.2724 - wine_quality_loss: 0.2565 - wine_type_loss: 0.0162 - wine_quality_root_mean_squared_error: 0.5061 - wine_type_accuracy: 0.9965 - val_loss: 0.3226 - val_wine_quality_loss: 0.2979 - val_wine_type_loss: 0.0241 - val_wine_quality_root_mean_squared_error: 0.5461 - val_wine_type_accuracy: 0.9962\n",
      "Epoch 158/180\n",
      "3155/3155 [==============================] - 0s 110us/sample - loss: 0.2717 - wine_quality_loss: 0.2552 - wine_type_loss: 0.0162 - wine_quality_root_mean_squared_error: 0.5054 - wine_type_accuracy: 0.9968 - val_loss: 0.3256 - val_wine_quality_loss: 0.3006 - val_wine_type_loss: 0.0239 - val_wine_quality_root_mean_squared_error: 0.5490 - val_wine_type_accuracy: 0.9962\n",
      "Epoch 159/180\n",
      "3155/3155 [==============================] - 0s 80us/sample - loss: 0.2708 - wine_quality_loss: 0.2541 - wine_type_loss: 0.0161 - wine_quality_root_mean_squared_error: 0.5046 - wine_type_accuracy: 0.9965 - val_loss: 0.3129 - val_wine_quality_loss: 0.2884 - val_wine_type_loss: 0.0240 - val_wine_quality_root_mean_squared_error: 0.5372 - val_wine_type_accuracy: 0.9962\n",
      "Epoch 160/180\n",
      "3155/3155 [==============================] - 0s 87us/sample - loss: 0.2704 - wine_quality_loss: 0.2538 - wine_type_loss: 0.0161 - wine_quality_root_mean_squared_error: 0.5042 - wine_type_accuracy: 0.9965 - val_loss: 0.3142 - val_wine_quality_loss: 0.2897 - val_wine_type_loss: 0.0239 - val_wine_quality_root_mean_squared_error: 0.5385 - val_wine_type_accuracy: 0.9962\n",
      "Epoch 161/180\n",
      "3155/3155 [==============================] - 0s 75us/sample - loss: 0.2712 - wine_quality_loss: 0.2557 - wine_type_loss: 0.0161 - wine_quality_root_mean_squared_error: 0.5051 - wine_type_accuracy: 0.9968 - val_loss: 0.3208 - val_wine_quality_loss: 0.2963 - val_wine_type_loss: 0.0239 - val_wine_quality_root_mean_squared_error: 0.5446 - val_wine_type_accuracy: 0.9962\n",
      "Epoch 162/180\n",
      "3155/3155 [==============================] - 0s 87us/sample - loss: 0.2705 - wine_quality_loss: 0.2544 - wine_type_loss: 0.0159 - wine_quality_root_mean_squared_error: 0.5045 - wine_type_accuracy: 0.9965 - val_loss: 0.3134 - val_wine_quality_loss: 0.2890 - val_wine_type_loss: 0.0239 - val_wine_quality_root_mean_squared_error: 0.5378 - val_wine_type_accuracy: 0.9962\n",
      "Epoch 163/180\n",
      "3155/3155 [==============================] - 0s 94us/sample - loss: 0.2696 - wine_quality_loss: 0.2535 - wine_type_loss: 0.0159 - wine_quality_root_mean_squared_error: 0.5037 - wine_type_accuracy: 0.9965 - val_loss: 0.3174 - val_wine_quality_loss: 0.2929 - val_wine_type_loss: 0.0239 - val_wine_quality_root_mean_squared_error: 0.5415 - val_wine_type_accuracy: 0.9962\n",
      "Epoch 164/180\n",
      "3155/3155 [==============================] - 0s 91us/sample - loss: 0.2688 - wine_quality_loss: 0.2528 - wine_type_loss: 0.0158 - wine_quality_root_mean_squared_error: 0.5029 - wine_type_accuracy: 0.9965 - val_loss: 0.3229 - val_wine_quality_loss: 0.2984 - val_wine_type_loss: 0.0239 - val_wine_quality_root_mean_squared_error: 0.5465 - val_wine_type_accuracy: 0.9962\n",
      "Epoch 165/180\n",
      "3155/3155 [==============================] - 0s 73us/sample - loss: 0.2697 - wine_quality_loss: 0.2539 - wine_type_loss: 0.0158 - wine_quality_root_mean_squared_error: 0.5038 - wine_type_accuracy: 0.9965 - val_loss: 0.3177 - val_wine_quality_loss: 0.2932 - val_wine_type_loss: 0.0237 - val_wine_quality_root_mean_squared_error: 0.5419 - val_wine_type_accuracy: 0.9962\n",
      "Epoch 166/180\n",
      "3155/3155 [==============================] - 0s 92us/sample - loss: 0.2684 - wine_quality_loss: 0.2522 - wine_type_loss: 0.0157 - wine_quality_root_mean_squared_error: 0.5027 - wine_type_accuracy: 0.9965 - val_loss: 0.3251 - val_wine_quality_loss: 0.3004 - val_wine_type_loss: 0.0238 - val_wine_quality_root_mean_squared_error: 0.5486 - val_wine_type_accuracy: 0.9962\n",
      "Epoch 167/180\n",
      "3155/3155 [==============================] - 0s 88us/sample - loss: 0.2682 - wine_quality_loss: 0.2524 - wine_type_loss: 0.0156 - wine_quality_root_mean_squared_error: 0.5026 - wine_type_accuracy: 0.9968 - val_loss: 0.3186 - val_wine_quality_loss: 0.2942 - val_wine_type_loss: 0.0237 - val_wine_quality_root_mean_squared_error: 0.5428 - val_wine_type_accuracy: 0.9962\n",
      "Epoch 168/180\n",
      "3155/3155 [==============================] - 0s 95us/sample - loss: 0.2674 - wine_quality_loss: 0.2512 - wine_type_loss: 0.0156 - wine_quality_root_mean_squared_error: 0.5018 - wine_type_accuracy: 0.9965 - val_loss: 0.3187 - val_wine_quality_loss: 0.2943 - val_wine_type_loss: 0.0237 - val_wine_quality_root_mean_squared_error: 0.5428 - val_wine_type_accuracy: 0.9962\n",
      "Epoch 169/180\n",
      "3155/3155 [==============================] - 0s 75us/sample - loss: 0.2676 - wine_quality_loss: 0.2516 - wine_type_loss: 0.0156 - wine_quality_root_mean_squared_error: 0.5020 - wine_type_accuracy: 0.9968 - val_loss: 0.3171 - val_wine_quality_loss: 0.2927 - val_wine_type_loss: 0.0237 - val_wine_quality_root_mean_squared_error: 0.5413 - val_wine_type_accuracy: 0.9962\n",
      "Epoch 170/180\n",
      "3155/3155 [==============================] - 0s 94us/sample - loss: 0.2668 - wine_quality_loss: 0.2510 - wine_type_loss: 0.0155 - wine_quality_root_mean_squared_error: 0.5012 - wine_type_accuracy: 0.9965 - val_loss: 0.3176 - val_wine_quality_loss: 0.2934 - val_wine_type_loss: 0.0237 - val_wine_quality_root_mean_squared_error: 0.5418 - val_wine_type_accuracy: 0.9962\n",
      "Epoch 171/180\n",
      "3155/3155 [==============================] - 0s 86us/sample - loss: 0.2656 - wine_quality_loss: 0.2506 - wine_type_loss: 0.0154 - wine_quality_root_mean_squared_error: 0.5001 - wine_type_accuracy: 0.9965 - val_loss: 0.3155 - val_wine_quality_loss: 0.2913 - val_wine_type_loss: 0.0237 - val_wine_quality_root_mean_squared_error: 0.5399 - val_wine_type_accuracy: 0.9962\n",
      "Epoch 172/180\n",
      "3155/3155 [==============================] - 0s 73us/sample - loss: 0.2662 - wine_quality_loss: 0.2505 - wine_type_loss: 0.0154 - wine_quality_root_mean_squared_error: 0.5008 - wine_type_accuracy: 0.9965 - val_loss: 0.3257 - val_wine_quality_loss: 0.3012 - val_wine_type_loss: 0.0238 - val_wine_quality_root_mean_squared_error: 0.5492 - val_wine_type_accuracy: 0.9962\n",
      "Epoch 173/180\n",
      "3155/3155 [==============================] - 0s 86us/sample - loss: 0.2656 - wine_quality_loss: 0.2503 - wine_type_loss: 0.0154 - wine_quality_root_mean_squared_error: 0.5002 - wine_type_accuracy: 0.9965 - val_loss: 0.3295 - val_wine_quality_loss: 0.3050 - val_wine_type_loss: 0.0237 - val_wine_quality_root_mean_squared_error: 0.5526 - val_wine_type_accuracy: 0.9962\n",
      "Epoch 174/180\n",
      "3155/3155 [==============================] - 0s 93us/sample - loss: 0.2655 - wine_quality_loss: 0.2499 - wine_type_loss: 0.0153 - wine_quality_root_mean_squared_error: 0.5003 - wine_type_accuracy: 0.9968 - val_loss: 0.3176 - val_wine_quality_loss: 0.2932 - val_wine_type_loss: 0.0238 - val_wine_quality_root_mean_squared_error: 0.5418 - val_wine_type_accuracy: 0.9962\n",
      "Epoch 175/180\n",
      "3155/3155 [==============================] - 0s 96us/sample - loss: 0.2646 - wine_quality_loss: 0.2492 - wine_type_loss: 0.0152 - wine_quality_root_mean_squared_error: 0.4994 - wine_type_accuracy: 0.9965 - val_loss: 0.3145 - val_wine_quality_loss: 0.2901 - val_wine_type_loss: 0.0237 - val_wine_quality_root_mean_squared_error: 0.5390 - val_wine_type_accuracy: 0.9962\n",
      "Epoch 176/180\n",
      "3155/3155 [==============================] - 0s 95us/sample - loss: 0.2642 - wine_quality_loss: 0.2490 - wine_type_loss: 0.0151 - wine_quality_root_mean_squared_error: 0.4990 - wine_type_accuracy: 0.9965 - val_loss: 0.3249 - val_wine_quality_loss: 0.3004 - val_wine_type_loss: 0.0237 - val_wine_quality_root_mean_squared_error: 0.5485 - val_wine_type_accuracy: 0.9962\n",
      "Epoch 177/180\n",
      "3155/3155 [==============================] - 0s 95us/sample - loss: 0.2642 - wine_quality_loss: 0.2491 - wine_type_loss: 0.0151 - wine_quality_root_mean_squared_error: 0.4990 - wine_type_accuracy: 0.9965 - val_loss: 0.3168 - val_wine_quality_loss: 0.2926 - val_wine_type_loss: 0.0236 - val_wine_quality_root_mean_squared_error: 0.5412 - val_wine_type_accuracy: 0.9962\n",
      "Epoch 178/180\n",
      "3155/3155 [==============================] - 0s 96us/sample - loss: 0.2637 - wine_quality_loss: 0.2495 - wine_type_loss: 0.0150 - wine_quality_root_mean_squared_error: 0.4986 - wine_type_accuracy: 0.9968 - val_loss: 0.3269 - val_wine_quality_loss: 0.3026 - val_wine_type_loss: 0.0236 - val_wine_quality_root_mean_squared_error: 0.5505 - val_wine_type_accuracy: 0.9962\n",
      "Epoch 179/180\n",
      "3155/3155 [==============================] - 0s 93us/sample - loss: 0.2623 - wine_quality_loss: 0.2472 - wine_type_loss: 0.0149 - wine_quality_root_mean_squared_error: 0.4973 - wine_type_accuracy: 0.9968 - val_loss: 0.3206 - val_wine_quality_loss: 0.2966 - val_wine_type_loss: 0.0236 - val_wine_quality_root_mean_squared_error: 0.5446 - val_wine_type_accuracy: 0.9962\n",
      "Epoch 180/180\n",
      "3155/3155 [==============================] - 0s 73us/sample - loss: 0.2627 - wine_quality_loss: 0.2474 - wine_type_loss: 0.0149 - wine_quality_root_mean_squared_error: 0.4977 - wine_type_accuracy: 0.9965 - val_loss: 0.3173 - val_wine_quality_loss: 0.2928 - val_wine_type_loss: 0.0237 - val_wine_quality_root_mean_squared_error: 0.5415 - val_wine_type_accuracy: 0.9962\n"
     ]
    }
   ],
   "source": [
    "# Please uncomment all lines in this cell and replace those marked with `# YOUR CODE HERE`.\n",
    "# You can select all lines in this code cell with Ctrl+A (Windows/Linux) or Cmd+A (Mac), then press Ctrl+/ (Windows/Linux) or Cmd+/ (Mac) to uncomment.\n",
    "\n",
    "\n",
    "\n",
    "history = model.fit(norm_train_X, train_Y,\n",
    "                    epochs = 180, validation_data=(norm_val_X, val_Y), callbacks=[cb_cp])\n",
    "\n",
    "model.load_weights(\"best_model.h5\")"
   ]
  },
  {
   "cell_type": "code",
   "execution_count": 73,
   "metadata": {
    "deletable": false,
    "editable": false,
    "nbgrader": {
     "cell_type": "code",
     "checksum": "fadad8896eda9c8c2115970724b15508",
     "grade": true,
     "grade_id": "cell-eb4d5b41bef8f0ab",
     "locked": true,
     "points": 1,
     "schema_version": 3,
     "solution": false,
     "task": false
    }
   },
   "outputs": [
    {
     "name": "stdout",
     "output_type": "stream",
     "text": [
      "\u001b[92m All public tests passed\n"
     ]
    }
   ],
   "source": [
    "utils.test_history(history)"
   ]
  },
  {
   "cell_type": "code",
   "execution_count": 74,
   "metadata": {
    "colab": {},
    "colab_type": "code",
    "id": "CubF2J2gSf6q"
   },
   "outputs": [
    {
     "name": "stdout",
     "output_type": "stream",
     "text": [
      "789/789 [==============================] - 0s 39us/sample - loss: 0.3206 - wine_quality_loss: 0.2966 - wine_type_loss: 0.0236 - wine_quality_root_mean_squared_error: 0.5446 - wine_type_accuracy: 0.9962\n",
      "\n",
      "loss: 0.32057273950715787\n",
      "wine_quality_loss: 0.29661279916763306\n",
      "wine_type_loss: 0.023646710440516472\n",
      "wine_quality_rmse: 0.5446231961250305\n",
      "wine_type_accuracy: 0.9961977005004883\n"
     ]
    }
   ],
   "source": [
    "# Gather the training metrics\n",
    "loss, wine_quality_loss, wine_type_loss, wine_quality_rmse, wine_type_accuracy = model.evaluate(x=norm_val_X, y=val_Y)\n",
    "\n",
    "print()\n",
    "print(f'loss: {loss}')\n",
    "print(f'wine_quality_loss: {wine_quality_loss}')\n",
    "print(f'wine_type_loss: {wine_type_loss}')\n",
    "print(f'wine_quality_rmse: {wine_quality_rmse}')\n",
    "print(f'wine_type_accuracy: {wine_type_accuracy}')\n",
    "\n",
    "# EXPECTED VALUES\n",
    "# ~ 0.30 - 0.38\n",
    "# ~ 0.30 - 0.38\n",
    "# ~ 0.018 - 0.030\n",
    "# ~ 0.50 - 0.62\n",
    "# ~ 0.97 - 1.0\n",
    "\n",
    "# Example:\n",
    "#0.3657050132751465\n",
    "#0.3463745415210724\n",
    "#0.019330406561493874\n",
    "#0.5885359048843384\n",
    "#0.9974651336669922"
   ]
  },
  {
   "cell_type": "markdown",
   "metadata": {
    "colab_type": "text",
    "id": "gPtTGAP4usnm"
   },
   "source": [
    "## Analyze the Model Performance\n",
    "\n",
    "Note that the model has two outputs. The output at index 0 is quality and index 1 is wine type\n",
    "\n",
    "So, round the quality predictions to the nearest integer."
   ]
  },
  {
   "cell_type": "code",
   "execution_count": 75,
   "metadata": {
    "colab": {},
    "colab_type": "code",
    "id": "tBq9PEeAaW-Y"
   },
   "outputs": [],
   "source": [
    "predictions = model.predict(norm_test_X)\n",
    "\n",
    "#Because there are two outputs.\n",
    "quality_pred = predictions[0]\n",
    "type_pred = predictions[1]"
   ]
  },
  {
   "cell_type": "code",
   "execution_count": 76,
   "metadata": {
    "colab": {},
    "colab_type": "code",
    "id": "YLhgTR4xTIxj"
   },
   "outputs": [
    {
     "name": "stdout",
     "output_type": "stream",
     "text": [
      "[5.745336]\n"
     ]
    }
   ],
   "source": [
    "print(quality_pred[0])\n",
    "\n",
    "# EXPECTED OUTPUT\n",
    "# 5.6 - 6.0"
   ]
  },
  {
   "cell_type": "code",
   "execution_count": 77,
   "metadata": {
    "colab": {},
    "colab_type": "code",
    "id": "MPi-eYfGTUXi"
   },
   "outputs": [
    {
     "name": "stdout",
     "output_type": "stream",
     "text": [
      "[0.00038355]\n",
      "[0.9999994]\n"
     ]
    }
   ],
   "source": [
    "print(type_pred[0])\n",
    "print(type_pred[944])\n",
    "\n",
    "# EXPECTED OUTPUT\n",
    "# A number close to zero\n",
    "# A number close to or equal to 1"
   ]
  },
  {
   "cell_type": "markdown",
   "metadata": {
    "colab_type": "text",
    "id": "Kohk-9C6vt_s"
   },
   "source": [
    "### Plot Utilities\n",
    "\n",
    "We define a few utilities to visualize the model performance."
   ]
  },
  {
   "cell_type": "code",
   "execution_count": 78,
   "metadata": {
    "colab": {},
    "colab_type": "code",
    "id": "62gEOFUhn6aQ"
   },
   "outputs": [],
   "source": [
    "def plot_metrics(metric_name, title, ylim=5):\n",
    "    plt.title(title)\n",
    "    plt.ylim(0,ylim)\n",
    "    plt.plot(history.history[metric_name],color='blue',label=metric_name)\n",
    "    plt.plot(history.history['val_' + metric_name],color='green',label='val_' + metric_name)\n"
   ]
  },
  {
   "cell_type": "code",
   "execution_count": 79,
   "metadata": {
    "colab": {},
    "colab_type": "code",
    "id": "6rfgSx7uz5dj"
   },
   "outputs": [],
   "source": [
    "def plot_confusion_matrix(y_true, y_pred, title='', labels=[0,1]):\n",
    "    cm = confusion_matrix(y_true, y_pred)\n",
    "    fig = plt.figure()\n",
    "    ax = fig.add_subplot(111)\n",
    "    cax = ax.matshow(cm)\n",
    "    plt.title('Confusion matrix of the classifier')\n",
    "    fig.colorbar(cax)\n",
    "    ax.set_xticklabels([''] + labels)\n",
    "    ax.set_yticklabels([''] + labels)\n",
    "    plt.xlabel('Predicted')\n",
    "    plt.ylabel('True')\n",
    "    fmt = 'd'\n",
    "    thresh = cm.max() / 2.\n",
    "    for i, j in itertools.product(range(cm.shape[0]), range(cm.shape[1])):\n",
    "          plt.text(j, i, format(cm[i, j], fmt),\n",
    "                  horizontalalignment=\"center\",\n",
    "                  color=\"black\" if cm[i, j] > thresh else \"white\")\n",
    "    plt.show()"
   ]
  },
  {
   "cell_type": "code",
   "execution_count": 80,
   "metadata": {
    "colab": {},
    "colab_type": "code",
    "id": "dfVLIqi017Vf"
   },
   "outputs": [],
   "source": [
    "def plot_diff(y_true, y_pred, title = '' ):\n",
    "    plt.scatter(y_true, y_pred)\n",
    "    plt.title(title)\n",
    "    plt.xlabel('True Values')\n",
    "    plt.ylabel('Predictions')\n",
    "    plt.axis('equal')\n",
    "    plt.axis('square')\n",
    "    plt.plot([-100, 100], [-100, 100])\n",
    "    return plt"
   ]
  },
  {
   "cell_type": "markdown",
   "metadata": {
    "colab_type": "text",
    "id": "8sd1jdFbwE0I"
   },
   "source": [
    "### Plots for Metrics"
   ]
  },
  {
   "cell_type": "code",
   "execution_count": 81,
   "metadata": {
    "colab": {},
    "colab_type": "code",
    "id": "f3MwZ5J1pOfj"
   },
   "outputs": [
    {
     "data": {
      "image/png": "[encoded data removed]",
      "text/plain": [
       "<Figure size 432x288 with 1 Axes>"
      ]
     },
     "metadata": {
      "needs_background": "light"
     },
     "output_type": "display_data"
    }
   ],
   "source": [
    "plot_metrics('wine_quality_root_mean_squared_error', 'RMSE', ylim=2)"
   ]
  },
  {
   "cell_type": "code",
   "execution_count": 82,
   "metadata": {
    "colab": {},
    "colab_type": "code",
    "id": "QIAxEezCppnd"
   },
   "outputs": [
    {
     "data": {
      "image/png": "[encoded data removed]",
      "text/plain": [
       "<Figure size 432x288 with 1 Axes>"
      ]
     },
     "metadata": {
      "needs_background": "light"
     },
     "output_type": "display_data"
    }
   ],
   "source": [
    "plot_metrics('wine_type_loss', 'Wine Type Loss', ylim=0.2)"
   ]
  },
  {
   "cell_type": "markdown",
   "metadata": {
    "colab_type": "text",
    "id": "uYV9AOAMwI9p"
   },
   "source": [
    "### Plots for Confusion Matrix\n",
    "\n",
    "Plot the confusion matrices for wine type. You can see that the model performs well for prediction of wine type from the confusion matrix and the loss metrics."
   ]
  },
  {
   "cell_type": "code",
   "execution_count": 83,
   "metadata": {
    "colab": {},
    "colab_type": "code",
    "id": "C3hvTYxIaf3n"
   },
   "outputs": [
    {
     "data": {
      "image/png": "[encoded data removed]",
      "text/plain": [
       "<Figure size 432x288 with 2 Axes>"
      ]
     },
     "metadata": {
      "needs_background": "light"
     },
     "output_type": "display_data"
    }
   ],
   "source": [
    "plot_confusion_matrix(test_Y[1], np.round(type_pred), title='Wine Type', labels = [0, 1])"
   ]
  },
  {
   "cell_type": "code",
   "execution_count": 84,
   "metadata": {
    "colab": {},
    "colab_type": "code",
    "id": "GW91ym8P2I5y"
   },
   "outputs": [
    {
     "data": {
      "image/png": "[encoded data removed]",
      "text/plain": [
       "<Figure size 432x288 with 1 Axes>"
      ]
     },
     "metadata": {
      "needs_background": "light"
     },
     "output_type": "display_data"
    }
   ],
   "source": [
    "scatter_plot = plot_diff(test_Y[0], quality_pred, title='Type')"
   ]
  },
  {
   "cell_type": "code",
   "execution_count": null,
   "metadata": {},
   "outputs": [],
   "source": []
  }
 ],
 "metadata": {
  "colab": {
   "include_colab_link": true,
   "name": "exercise-answer.ipynb",
   "provenance": []
  },
  "kernelspec": {
   "display_name": "Python 3",
   "language": "python",
   "name": "python3"
  },
  "language_info": {
   "codemirror_mode": {
    "name": "ipython",
    "version": 3
   },
   "file_extension": ".py",
   "mimetype": "text/x-python",
   "name": "python",
   "nbconvert_exporter": "python",
   "pygments_lexer": "ipython3",
   "version": "3.7.6"
  }
 },
 "nbformat": 4,
 "nbformat_minor": 4
}
